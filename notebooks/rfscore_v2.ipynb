{
 "cells": [
  {
   "cell_type": "code",
   "execution_count": null,
   "metadata": {},
   "outputs": [],
   "source": [
    "from oddt.toolkits import ob\n",
    "from joblib import delayed, Parallel\n",
    "from functools import partial\n",
    "import pandas as pd\n",
    "from sklearn.ensemble import RandomForestRegressor\n",
    "from matplotlib import pyplot as plt\n",
    "from scipy import stats\n",
    "\n",
    "import json\n",
    "import numpy as np\n",
    "\n",
    "class NumpyEncoder(json.JSONEncoder):\n",
    "    def default(self, obj):\n",
    "        if isinstance(obj, np.ndarray):\n",
    "            return obj.tolist()\n",
    "        return json.JSONEncoder.default(self, obj)\n",
    "\n",
    "PDBBIND_DIR = '/home/fergus/pdbbind/v2019'\n",
    "with open('../data/pdbbind_training_set.txt') as f:\n",
    "    pdbs = [l.strip() for l in f]\n",
    "with open('../data/pdbbind_training_set.txt') as f:\n",
    "    train_pdbs = [l.strip() for l in f]\n",
    "    \n",
    "%matplotlib inline\n",
    "\n",
    "plt.style.use('fivethirtyeight')\n",
    "\n",
    "plt.rcParams['axes.facecolor']='white'\n",
    "plt.rcParams['axes.edgecolor']='white'\n",
    "plt.rcParams['figure.facecolor']='white'\n",
    "plt.rcParams['savefig.facecolor']='white'"
   ]
  },
  {
   "cell_type": "code",
   "execution_count": null,
   "metadata": {},
   "outputs": [],
   "source": [
    "from oddt.scoring.descriptors import close_contacts_descriptor\n",
    "ligand_atomic_nums = [6, 7, 8, 9, 15, 16, 17, 35, 53]\n",
    "protein_atomic_nums = [6, 7, 8, 16]\n",
    "cutoff = [0, 2, 4, 6, 8, 10, 12]\n",
    "descriptors_func = close_contacts_descriptor(cutoff=cutoff,protein_types=protein_atomic_nums,ligand_types=ligand_atomic_nums)\n",
    "\n",
    "@delayed\n",
    "def build(pdb):\n",
    "    protein = next(ob.readfile('pdb', f'{PDBBIND_DIR}/{pdb}/{pdb}_protein.pdb'))\n",
    "    protein.protein = True\n",
    "    # crystal\n",
    "    ligand = next(ob.readfile('sdf', f'{PDBBIND_DIR}/{pdb}/{pdb}_ligand.sdf'))\n",
    "    features_c = descriptors_func.build(ligand, protein)[0]\n",
    "\n",
    "    # docked        \n",
    "    ligand = next(ob.readfile('sdf', f'../pdbbind_docked_poses/{pdb}/{pdb}_ligand_docked.sdf'))\n",
    "    features_d = descriptors_func.build(ligand, protein)[0]\n",
    "    return (features_c, features_d)"
   ]
  },
  {
   "cell_type": "code",
   "execution_count": null,
   "metadata": {},
   "outputs": [],
   "source": [
    "with Parallel(n_jobs=6, verbose=10) as parallel:\n",
    "    features = parallel(build(pdb) for pdb in pdbs)"
   ]
  },
  {
   "cell_type": "code",
   "execution_count": null,
   "metadata": {},
   "outputs": [],
   "source": [
    "features_crystal = {}\n",
    "features_docked = {}\n",
    "\n",
    "for feature, pdb in zip(features, pdbs):\n",
    "    features_crystal[pdb] = feature[0]\n",
    "    features_docked[pdb] = feature[1]"
   ]
  },
  {
   "cell_type": "code",
   "execution_count": null,
   "metadata": {},
   "outputs": [],
   "source": [
    "with open('../features/pdbbind_training_set_docked_rfv2.json', 'w') as f:\n",
    "    json.dump(features_docked, f, cls=NumpyEncoder)\n",
    "    \n",
    "with open('../features/pdbbind_training_set_crystal_rfv2.json', 'w') as f:\n",
    "    json.dump(features_crystal, f, cls=NumpyEncoder)"
   ]
  },
  {
   "cell_type": "code",
   "execution_count": null,
   "metadata": {},
   "outputs": [],
   "source": [
    "with open('../data/pdbbind_test_set.txt') as f:\n",
    "    test_pdbs = [l.strip() for l in f]"
   ]
  },
  {
   "cell_type": "code",
   "execution_count": null,
   "metadata": {},
   "outputs": [],
   "source": [
    "with Parallel(n_jobs=6, verbose=10) as parallel:\n",
    "    test_features = parallel(build(pdb) for pdb in test_pdbs)"
   ]
  },
  {
   "cell_type": "code",
   "execution_count": null,
   "metadata": {},
   "outputs": [],
   "source": [
    "test_features_crystal = {}\n",
    "test_features_docked = {}\n",
    "\n",
    "for feature, pdb in zip(test_features, test_pdbs):\n",
    "    test_features_crystal[pdb] = feature[0]\n",
    "    test_features_docked[pdb] = feature[1]\n",
    "    \n",
    "with open('pdbbind_test_set_docked_rfv2.json', 'w') as f:\n",
    "    json.dump(test_features_docked, f, cls=NumpyEncoder)\n",
    "    \n",
    "with open('pdbbind_test_set_crystal_rfv2.json', 'w') as f:\n",
    "    json.dump(test_features_crystal, f, cls=NumpyEncoder)"
   ]
  },
  {
   "cell_type": "code",
   "execution_count": null,
   "metadata": {},
   "outputs": [],
   "source": [
    "pdbbind_training_set_affinity = pd.read_csv('../data/pdbbind_training_set_binding_affinity.csv', index_col=0, header=None, squeeze=True)\n",
    "pdbbind_test_set_affinity = pd.read_csv('../data/pdbbind_test_set_binding_affinity.csv', index_col=0, header=None, squeeze=True)"
   ]
  },
  {
   "cell_type": "code",
   "execution_count": null,
   "metadata": {},
   "outputs": [],
   "source": [
    "features_docked = pd.Series(features_docked)"
   ]
  },
  {
   "cell_type": "code",
   "execution_count": null,
   "metadata": {},
   "outputs": [],
   "source": [
    "with open('../data/pdbbind_training_set_docked_rfv2.json') as f:\n",
    "    features_docked = json.load(f)\n",
    "features_docked = pd.DataFrame(features_docked).T\n",
    "with open('../data/pdbbind_training_set_crystal_rfv2.json') as f:\n",
    "    features_crystal = json.load(f)\n",
    "features_crystal = pd.DataFrame(features_crystal).T"
   ]
  },
  {
   "cell_type": "code",
   "execution_count": null,
   "metadata": {},
   "outputs": [],
   "source": [
    "with open('./data/pdbbind_test_set_crystal_rfv2.json') as f:\n",
    "    test_features_crystal = pd.DataFrame(json.load(f)).T    \n",
    "with open('../data/pdbbind_test_set_docked_rfv2.json') as f:\n",
    "    test_features_docked = pd.DataFrame(json.load(f)).T"
   ]
  },
  {
   "cell_type": "code",
   "execution_count": null,
   "metadata": {},
   "outputs": [],
   "source": [
    "pdbbind_training_set_affinity = pd.read_csv('../data/pdbbind_training_set_binding_affinity.csv', index_col=0, header=None, squeeze=True)\n",
    "pdbbind_test_set_affinity = pd.read_csv('../data/pdbbind_test_set_binding_affinity.csv', index_col=0, header=None, squeeze=True)"
   ]
  },
  {
   "cell_type": "code",
   "execution_count": null,
   "metadata": {},
   "outputs": [],
   "source": [
    "pdbbind_training_set = pdbbind_training_set_affinity.index\n",
    "pdbbind_test_set = pdbbind_test_set_affinity.index"
   ]
  },
  {
   "cell_type": "code",
   "execution_count": null,
   "metadata": {},
   "outputs": [],
   "source": [
    "blast_clusters = {}\n",
    "for cutoff in [30, 40, 50, 70, 90, 95, 100]:\n",
    "    with open(f'../data/bc-{cutoff}.out') as f:\n",
    "        blast_clusters[cutoff] = [set(item[:4].lower() for item in line.strip().split()) for line in f]\n",
    "\n",
    "test_set_similar_pdbs = {}\n",
    "for cutoff in blast_clusters:\n",
    "    pdbs = set()\n",
    "    for pdb in pdbbind_test_set:\n",
    "        for cluster in blast_clusters[cutoff]:\n",
    "            if pdb in cluster:\n",
    "                pdbs.update(cluster)\n",
    "    test_set_similar_pdbs[cutoff] = pd.Index(pdbs).intersection(pdbbind_training_set)\n",
    "\n",
    "test_set_similar_pdbs['All'] = pd.Index([])"
   ]
  },
  {
   "cell_type": "code",
   "execution_count": null,
   "metadata": {},
   "outputs": [],
   "source": [
    "with open('../data/pdbbind_ligand_tanimoto_similarity.json') as f:\n",
    "    tanimoto_similarity = json.load(f)\n",
    "\n",
    "tc_thresholds = [0.3, 0.4, 0.5, 0.6, 0.7, 0.8, 0.9, 1.0]\n",
    "\n",
    "test_set_similar_ligands = {}\n",
    "\n",
    "for t in tc_thresholds:\n",
    "    similar = set()\n",
    "    for pdb_test in pdbbind_test_set:\n",
    "        for pdb_train in pdbbind_training_set:\n",
    "            if pdb_train in similar:\n",
    "                continue\n",
    "            if tanimoto_similarity[pdb_test][pdb_train] >= t:\n",
    "                similar.add(pdb_train)\n",
    "    test_set_similar_ligands[t] = pd.Index(similar)\n",
    "test_set_similar_ligands['All'] = pd.Index([])"
   ]
  },
  {
   "cell_type": "code",
   "execution_count": null,
   "metadata": {},
   "outputs": [],
   "source": [
    "%%time\n",
    "predicted_crystal_sequence_identity = {}\n",
    "predicted_docked_sequence_identity = {}\n",
    "pearsonr_crystal_sequence_identity = {}\n",
    "pearsonr_docked_sequence_identity = {}\n",
    "\n",
    "for cutoff in test_set_similar_pdbs:\n",
    "    print(cutoff)\n",
    "    training_set = pdbbind_training_set.difference(test_set_similar_pdbs[cutoff])\n",
    "    y_train = pdbbind_training_set_affinity.loc[training_set].values.ravel()\n",
    "    X_train_crystal = features_crystal.loc[training_set].values\n",
    "    X_train_docked = features_docked.loc[training_set].values\n",
    "    X_test_crystal = test_features_crystal.loc[pdbbind_test_set].values\n",
    "    X_test_docked = test_features_docked.loc[pdbbind_test_set].values\n",
    "    y_test = pdbbind_test_set_affinity.loc[pdbbind_test_set].values.ravel()\n",
    "    rf_crystal = RandomForestRegressor(n_estimators=500, max_features=0.33,random_state=42, n_jobs=8, oob_score=True)\n",
    "    rf_crystal.fit(X_train_crystal, y_train)\n",
    "    rf_docked = RandomForestRegressor(n_estimators=500, max_features=0.33,random_state=42, n_jobs=8, oob_score=True)\n",
    "    rf_docked.fit(X_train_docked, y_train)\n",
    "    \n",
    "    predicted_crystal = rf_crystal.predict(X_test_crystal)\n",
    "    predicted_docked = rf_docked.predict(X_test_docked)\n",
    "    \n",
    "    predicted_crystal_sequence_identity[cutoff] = {pdb: pred for pdb, pred in zip(pdbbind_test_set, predicted_crystal)}\n",
    "    predicted_docked_sequence_identity[cutoff] = {pdb: pred for pdb, pred in zip(pdbbind_test_set, predicted_docked)}\n",
    "    \n",
    "    pearsonr_crystal_sequence_identity[cutoff] = stats.pearsonr(y_test, predicted_crystal)[0]\n",
    "    pearsonr_docked_sequence_identity[cutoff] = stats.pearsonr(y_test, predicted_docked)[0]"
   ]
  },
  {
   "cell_type": "code",
   "execution_count": null,
   "metadata": {},
   "outputs": [],
   "source": [
    "%%time\n",
    "predicted_crystal_tanimoto = {}\n",
    "predicted_docked_tanimoto = {}\n",
    "pearsonr_crystal_tanimoto = {}\n",
    "pearsonr_docked_tanimoto = {}\n",
    "\n",
    "for cutoff in test_set_similar_ligands:\n",
    "    print(cutoff)\n",
    "    training_set = pdbbind_training_set.difference(test_set_similar_ligands[cutoff])\n",
    "    y_train = pdbbind_training_set_affinity.loc[training_set].values.ravel()\n",
    "    X_train_crystal = features_crystal.loc[training_set].values\n",
    "    X_train_docked = features_docked.loc[training_set].values\n",
    "    X_test_crystal = test_features_crystal.loc[pdbbind_test_set].values\n",
    "    X_test_docked = test_features_docked.loc[pdbbind_test_set].values\n",
    "    y_test = pdbbind_test_set_affinity.loc[pdbbind_test_set].values.ravel()\n",
    "    rf_crystal = RandomForestRegressor(n_estimators=500, max_features=0.33,random_state=42, n_jobs=8, oob_score=True)\n",
    "    rf_crystal.fit(X_train_crystal, y_train)\n",
    "    rf_docked = RandomForestRegressor(n_estimators=500, max_features=0.33,random_state=42, n_jobs=8, oob_score=True)\n",
    "    rf_docked.fit(X_train_docked, y_train)\n",
    "    \n",
    "    predicted_crystal = rf_crystal.predict(X_test_crystal)\n",
    "    predicted_docked = rf_docked.predict(X_test_docked)\n",
    "    \n",
    "    predicted_crystal_tanimoto[cutoff] = {pdb: pred for pdb, pred in zip(pdbbind_test_set, predicted_crystal)}\n",
    "    predicted_docked_tanimoto[cutoff] = {pdb: pred for pdb, pred in zip(pdbbind_test_set, predicted_docked)}\n",
    "    \n",
    "    pearsonr_crystal_tanimoto[cutoff] = stats.pearsonr(y_test, predicted_crystal)[0]\n",
    "    pearsonr_docked_tanimoto[cutoff] = stats.pearsonr(y_test, predicted_docked)[0]"
   ]
  },
  {
   "cell_type": "code",
   "execution_count": null,
   "metadata": {},
   "outputs": [],
   "source": [
    "lb_features = pd.read_csv('lb_features.csv', index_col=0)"
   ]
  },
  {
   "cell_type": "code",
   "execution_count": null,
   "metadata": {},
   "outputs": [],
   "source": [
    "%%time\n",
    "predicted_crystal_rdk_sequence_identity = {}\n",
    "predicted_docked_rdk_sequence_identity = {}\n",
    "pearsonr_crystal_rdk_sequence_identity = {}\n",
    "pearsonr_docked_rdk_sequence_identity = {}\n",
    "\n",
    "for cutoff in test_set_similar_pdbs:\n",
    "    print(cutoff)\n",
    "    training_set = pdbbind_training_set.difference(test_set_similar_pdbs[cutoff])\n",
    "    y_train = pdbbind_training_set_affinity.loc[training_set].values.ravel()\n",
    "    X_train_crystal = features_crystal.loc[training_set]\n",
    "    X_train_docked = features_docked.loc[training_set]\n",
    "    X_test_crystal = test_features_crystal.loc[pdbbind_test_set]\n",
    "    X_test_docked = test_features_docked.loc[pdbbind_test_set]\n",
    "    y_test = pdbbind_test_set_affinity.loc[pdbbind_test_set].values.ravel()\n",
    "    # add lb features\n",
    "    X_train_crystal = pd.concat([X_train_crystal, lb_features.loc[training_set]], axis='columns')\n",
    "    X_test_crystal = pd.concat([X_test_crystal, lb_features.loc[pdbbind_test_set]], axis='columns')\n",
    "    X_train_docked = pd.concat([X_train_docked, lb_features.loc[training_set]], axis='columns')\n",
    "    X_test_docked = pd.concat([X_test_docked, lb_features.loc[pdbbind_test_set]], axis='columns')\n",
    "    rf_crystal = RandomForestRegressor(n_estimators=500, max_features=0.33,random_state=42, n_jobs=8, oob_score=True)\n",
    "    rf_crystal.fit(X_train_crystal, y_train)\n",
    "    rf_docked = RandomForestRegressor(n_estimators=500, max_features=0.33,random_state=42, n_jobs=8, oob_score=True)\n",
    "    rf_docked.fit(X_train_docked, y_train)\n",
    "    \n",
    "    predicted_crystal = rf_crystal.predict(X_test_crystal)\n",
    "    predicted_docked = rf_docked.predict(X_test_docked)\n",
    "    \n",
    "    predicted_crystal_rdk_sequence_identity[cutoff] = {pdb: pred for pdb, pred in zip(pdbbind_test_set, predicted_crystal)}\n",
    "    predicted_docked_rdk_sequence_identity[cutoff] = {pdb: pred for pdb, pred in zip(pdbbind_test_set, predicted_docked)}\n",
    "    \n",
    "    pearsonr_crystal_rdk_sequence_identity[cutoff] = stats.pearsonr(y_test, predicted_crystal)[0]\n",
    "    pearsonr_docked_rdk_sequence_identity[cutoff] = stats.pearsonr(y_test, predicted_docked)[0]"
   ]
  },
  {
   "cell_type": "code",
   "execution_count": null,
   "metadata": {},
   "outputs": [],
   "source": [
    "%%time\n",
    "predicted_crystal_rdk_tanimoto = {}\n",
    "predicted_docked_rdk_tanimoto = {}\n",
    "pearsonr_crystal_rdk_tanimoto = {}\n",
    "pearsonr_docked_rdk_tanimoto = {}\n",
    "\n",
    "for cutoff in test_set_similar_ligands:\n",
    "    print(cutoff)\n",
    "    training_set = pdbbind_training_set.difference(test_set_similar_ligands[cutoff])\n",
    "    y_train = pdbbind_training_set_affinity.loc[training_set].values.ravel()\n",
    "    X_train_crystal = features_crystal.loc[training_set]\n",
    "    X_train_docked = features_docked.loc[training_set]\n",
    "    X_test_crystal = test_features_crystal.loc[pdbbind_test_set]\n",
    "    X_test_docked = test_features_docked.loc[pdbbind_test_set]\n",
    "    y_test = pdbbind_test_set_affinity.loc[pdbbind_test_set].values.ravel()\n",
    "    # add lb features\n",
    "    X_train_crystal = pd.concat([X_train_crystal, lb_features.loc[training_set]], axis='columns')\n",
    "    X_test_crystal = pd.concat([X_test_crystal, lb_features.loc[pdbbind_test_set]], axis='columns')\n",
    "    X_train_docked = pd.concat([X_train_docked, lb_features.loc[training_set]], axis='columns')\n",
    "    X_test_docked = pd.concat([X_test_docked, lb_features.loc[pdbbind_test_set]], axis='columns')\n",
    "    rf_crystal = RandomForestRegressor(n_estimators=500, max_features=0.33,random_state=42, n_jobs=8, oob_score=True)\n",
    "    rf_crystal.fit(X_train_crystal, y_train)\n",
    "    rf_docked = RandomForestRegressor(n_estimators=500, max_features=0.33,random_state=42, n_jobs=8, oob_score=True)\n",
    "    rf_docked.fit(X_train_docked, y_train)\n",
    "    \n",
    "    predicted_crystal = rf_crystal.predict(X_test_crystal)\n",
    "    predicted_docked = rf_docked.predict(X_test_docked)\n",
    "    \n",
    "    predicted_crystal_rdk_tanimoto[cutoff] = {pdb: pred for pdb, pred in zip(pdbbind_test_set, predicted_crystal)}\n",
    "    predicted_docked_rdk_tanimoto[cutoff] = {pdb: pred for pdb, pred in zip(pdbbind_test_set, predicted_docked)}\n",
    "    \n",
    "    pearsonr_crystal_rdk_tanimoto[cutoff] = stats.pearsonr(y_test, predicted_crystal)[0]\n",
    "    pearsonr_docked_rdk_tanimoto[cutoff] = stats.pearsonr(y_test, predicted_docked)[0]"
   ]
  },
  {
   "cell_type": "code",
   "execution_count": null,
   "metadata": {},
   "outputs": [],
   "source": [
    "with open('../results/RFv2_predicted_crystal_sequence_identity.json', 'w') as f:\n",
    "    json.dump(predicted_crystal_sequence_identity, f, cls=NumpyEncoder)\n",
    "with open('../results/RFv2_predicted_docked_sequence_identity.json', 'w') as f:\n",
    "    json.dump(predicted_docked_sequence_identity, f, cls=NumpyEncoder)\n",
    "with open('../results/RFv2_pearsonr_crystal_sequence_identity.json', 'w') as f:\n",
    "    json.dump(pearsonr_crystal_sequence_identity, f, cls=NumpyEncoder)\n",
    "with open('../results/RFv2_pearsonr_docked_sequence_identity.json', 'w') as f:\n",
    "    json.dump(pearsonr_docked_sequence_identity, f, cls=NumpyEncoder)"
   ]
  },
  {
   "cell_type": "code",
   "execution_count": null,
   "metadata": {},
   "outputs": [],
   "source": [
    "with open('../results/RFv2_predicted_crystal_tanimoto.json', 'w') as f:\n",
    "    json.dump(predicted_crystal_tanimoto, f, cls=NumpyEncoder)\n",
    "with open('../results/RFv2_predicted_docked_tanimoto.json', 'w') as f:\n",
    "    json.dump(predicted_docked_tanimoto, f, cls=NumpyEncoder)\n",
    "with open('../results/RFv2_pearsonr_crystal_tanimoto.json', 'w') as f:\n",
    "    json.dump(pearsonr_crystal_tanimoto, f, cls=NumpyEncoder)\n",
    "with open('../results/RFv2_pearsonr_docked_tanimoto.json', 'w') as f:\n",
    "    json.dump(pearsonr_docked_tanimoto, f, cls=NumpyEncoder)"
   ]
  },
  {
   "cell_type": "code",
   "execution_count": null,
   "metadata": {},
   "outputs": [],
   "source": [
    "with open('../results/RFv2_RDK_predicted_crystal_sequence_identity.json', 'w') as f:\n",
    "    json.dump(predicted_crystal_rdk_sequence_identity, f, cls=NumpyEncoder)\n",
    "with open('../results/RFv2_RDK_predicted_docked_sequence_identity.json', 'w') as f:\n",
    "    json.dump(predicted_docked_rdk_sequence_identity, f, cls=NumpyEncoder)\n",
    "with open('../results/RFv2_RDK_pearsonr_crystal_sequence_identity.json', 'w') as f:\n",
    "    json.dump(pearsonr_crystal_rdk_sequence_identity, f, cls=NumpyEncoder)\n",
    "with open('../results/RFv2_RDK_pearsonr_docked_sequence_identity.json', 'w') as f:\n",
    "    json.dump(pearsonr_docked_rdk_sequence_identity, f, cls=NumpyEncoder)"
   ]
  },
  {
   "cell_type": "code",
   "execution_count": null,
   "metadata": {},
   "outputs": [],
   "source": [
    "with open('../results/RFv2_RDK_predicted_crystal_tanimoto.json', 'w') as f:\n",
    "    json.dump(predicted_crystal_rdk_tanimoto, f, cls=NumpyEncoder)\n",
    "with open('../results/RFv2_RDK_predicted_docked_tanimoto.json', 'w') as f:\n",
    "    json.dump(predicted_docked_rdk_tanimoto, f, cls=NumpyEncoder)\n",
    "with open('../results/RFv2_RDK_pearsonr_crystal_tanimoto.json', 'w') as f:\n",
    "    json.dump(pearsonr_crystal_rdk_tanimoto, f, cls=NumpyEncoder)\n",
    "with open('../results/RFv2_RDK_pearsonr_docked_tanimoto.json', 'w') as f:\n",
    "    json.dump(pearsonr_docked_rdk_tanimoto, f, cls=NumpyEncoder)"
   ]
  },
  {
   "cell_type": "code",
   "execution_count": null,
   "metadata": {},
   "outputs": [],
   "source": [
    "with open('../results/RFv2_predicted_crystal_sequence_identity.json') as f:\n",
    "    predicted_crystal_sequence_identity = json.load(f)\n",
    "with open('../results/RFv2_predicted_docked_sequence_identity.json') as f:\n",
    "    predicted_docked_sequence_identity = json.load(f)\n",
    "with open('../results/RFv2_pearsonr_crystal_sequence_identity.json') as f:\n",
    "    pearsonr_crystal_sequence_identity = json.load(f)\n",
    "with open('../results/RFv2_pearsonr_docked_sequence_identity.json') as f:\n",
    "    pearsonr_docked_sequence_identity = json.load(f)"
   ]
  },
  {
   "cell_type": "code",
   "execution_count": null,
   "metadata": {},
   "outputs": [],
   "source": [
    "with open('../results/RFv2_predicted_crystal_tanimoto.json') as f:\n",
    "    predicted_crystal_tanimoto = json.load(f)\n",
    "with open('../results/RFv2_predicted_docked_tanimoto.json') as f:\n",
    "    predicted_docked_tanimoto = json.load(f)\n",
    "with open('../results/RFv2_pearsonr_crystal_tanimoto.json') as f:\n",
    "    pearsonr_crystal_tanimoto = json.load(f)\n",
    "with open('../results/RFv2_pearsonr_docked_tanimoto.json') as f:\n",
    "    pearsonr_docked_tanimoto = json.load(f)"
   ]
  },
  {
   "cell_type": "code",
   "execution_count": null,
   "metadata": {},
   "outputs": [],
   "source": [
    "with open('../results/RFv2_RDK_predicted_crystal_sequence_identity.json') as f:\n",
    "    predicted_crystal_rdk_sequence_identity = json.load(f)\n",
    "with open('../results/RFv2_RDK_predicted_docked_sequence_identity.json') as f:\n",
    "    predicted_docked_rdk_sequence_identity = json.load(f)\n",
    "with open('../results/RFv2_RDK_pearsonr_crystal_sequence_identity.json') as f:\n",
    "    pearsonr_crystal_rdk_sequence_identity = json.load(f)\n",
    "with open('../results/RFv2_RDK_pearsonr_docked_sequence_identity.json') as f:\n",
    "    pearsonr_docked_rdk_sequence_identity = json.load(f)"
   ]
  },
  {
   "cell_type": "code",
   "execution_count": null,
   "metadata": {},
   "outputs": [],
   "source": [
    "with open('../results/RFv2_RDK_predicted_crystal_tanimoto.json') as f:\n",
    "    predicted_crystal_rdk_tanimoto = json.load(f)\n",
    "with open('../results/RFv2_RDK_predicted_docked_tanimoto.json') as f:\n",
    "    predicted_docked_rdk_tanimoto = json.load(f)\n",
    "with open('../results/RFv2_RDK_pearsonr_crystal_tanimoto.json') as f:\n",
    "    pearsonr_crystal_rdk_tanimoto = json.load(f)\n",
    "with open('../results/RFv2_RDK_pearsonr_docked_tanimoto.json') as f:\n",
    "    pearsonr_docked_rdk_tanimoto = json.load(f)"
   ]
  },
  {
   "cell_type": "code",
   "execution_count": null,
   "metadata": {},
   "outputs": [],
   "source": [
    "import statistical_tests as st\n",
    "\n",
    "pearsonr_ci_crystal_si = {}\n",
    "pearsonr_ci_docked_si = {}\n",
    "pearsonr_pval_crystal_si = {}\n",
    "pearsonr_pval_docked_si = {}\n",
    "\n",
    "y_test = pdbbind_test_set_affinity.loc[pdbbind_test_set]\n",
    "for cutoff in predicted_crystal_sequence_identity:\n",
    "    y_pred = pd.Series(predicted_crystal_sequence_identity[cutoff]).loc[pdbbind_test_set]\n",
    "    pearsonr_ci_crystal_si[cutoff] = st.bootstrap_pearsonr(y_test, y_pred)\n",
    "    pearsonr_pval_crystal_si[cutoff] = st.permutation_pearsonr(y_test, y_pred)\n",
    "    y_pred = pd.Series(predicted_docked_sequence_identity[cutoff]).loc[pdbbind_test_set]\n",
    "    pearsonr_ci_docked_si[cutoff] = st.bootstrap_pearsonr(y_test, y_pred)\n",
    "    pearsonr_pval_docked_si[cutoff] = st.permutation_pearsonr(y_test, y_pred)\n",
    "    \n",
    "pearsonr_ci_crystal_tanimoto = {}\n",
    "pearsonr_ci_docked_tanimoto = {}\n",
    "pearsonr_pval_crystal_tanimoto = {}\n",
    "pearsonr_pval_docked_tanimoto = {}\n",
    "\n",
    "y_test = pdbbind_test_set_affinity.loc[pdbbind_test_set]\n",
    "for cutoff in predicted_crystal_tanimoto:\n",
    "    y_pred = pd.Series(predicted_crystal_tanimoto[cutoff]).loc[pdbbind_test_set]\n",
    "    pearsonr_ci_crystal_tanimoto[cutoff] = st.bootstrap_pearsonr(y_test, y_pred)\n",
    "    pearsonr_pval_crystal_tanimoto[cutoff] = st.permutation_pearsonr(y_test, y_pred)\n",
    "    y_pred = pd.Series(predicted_docked_tanimoto[cutoff]).loc[pdbbind_test_set]\n",
    "    pearsonr_ci_docked_tanimoto[cutoff] = st.bootstrap_pearsonr(y_test, y_pred)\n",
    "    pearsonr_pval_docked_tanimoto[cutoff] = st.permutation_pearsonr(y_test, y_pred)"
   ]
  },
  {
   "cell_type": "code",
   "execution_count": null,
   "metadata": {},
   "outputs": [],
   "source": [
    "pearsonr_ci_crystal_rdk_si = {}\n",
    "pearsonr_ci_docked_rdk_si = {}\n",
    "pearsonr_pval_crystal_rdk_si = {}\n",
    "pearsonr_pval_docked_rdk_si = {}\n",
    "\n",
    "y_test = pdbbind_test_set_affinity.loc[pdbbind_test_set]\n",
    "for cutoff in predicted_crystal_rdk_sequence_identity:\n",
    "    y_pred = pd.Series(predicted_crystal_rdk_sequence_identity[cutoff]).loc[pdbbind_test_set]\n",
    "    pearsonr_ci_crystal_rdk_si[cutoff] = st.bootstrap_pearsonr(y_test, y_pred)\n",
    "    pearsonr_pval_crystal_rdk_si[cutoff] = st.permutation_pearsonr(y_test, y_pred)\n",
    "    y_pred = pd.Series(predicted_docked_rdk_sequence_identity[cutoff]).loc[pdbbind_test_set]\n",
    "    pearsonr_ci_docked_rdk_si[cutoff] = st.bootstrap_pearsonr(y_test, y_pred)\n",
    "    pearsonr_pval_docked_rdk_si[cutoff] = st.permutation_pearsonr(y_test, y_pred)\n",
    "    \n",
    "pearsonr_ci_crystal_rdk_tanimoto = {}\n",
    "pearsonr_ci_docked_rdk_tanimoto = {}\n",
    "pearsonr_pval_crystal_rdk_tanimoto = {}\n",
    "pearsonr_pval_docked_rdk_tanimoto = {}\n",
    "\n",
    "y_test = pdbbind_test_set_affinity.loc[pdbbind_test_set]\n",
    "for cutoff in predicted_crystal_rdk_tanimoto:\n",
    "    y_pred = pd.Series(predicted_crystal_rdk_tanimoto[cutoff]).loc[pdbbind_test_set]\n",
    "    pearsonr_ci_crystal_rdk_tanimoto[cutoff] = st.bootstrap_pearsonr(y_test, y_pred)\n",
    "    pearsonr_pval_crystal_rdk_tanimoto[cutoff] = st.permutation_pearsonr(y_test, y_pred)\n",
    "    y_pred = pd.Series(predicted_docked_rdk_tanimoto[cutoff]).loc[pdbbind_test_set]\n",
    "    pearsonr_ci_docked_rdk_tanimoto[cutoff] = st.bootstrap_pearsonr(y_test, y_pred)\n",
    "    pearsonr_pval_docked_rdk_tanimoto[cutoff] = st.permutation_pearsonr(y_test, y_pred)"
   ]
  },
  {
   "cell_type": "code",
   "execution_count": null,
   "metadata": {},
   "outputs": [],
   "source": [
    "pearsonr_crystal_si = pd.Series({c: pearsonr_ci_crystal_si[c][0] for c in pearsonr_ci_crystal_si})\n",
    "pearsonr_docked_si = pd.Series({c: pearsonr_ci_docked_si[c][0] for c in pearsonr_ci_docked_si})\n",
    "pearsonr_crystal_rdk_si = pd.Series({c: pearsonr_ci_crystal_rdk_si[c][0] for c in pearsonr_ci_crystal_si})\n",
    "pearsonr_docked_rdk_si = pd.Series({c: pearsonr_ci_docked_rdk_si[c][0] for c in pearsonr_ci_docked_si})\n",
    "\n",
    "pearsonr_crystal_tc = pd.Series({c: pearsonr_ci_crystal_tanimoto[c][0] for c in pearsonr_ci_crystal_tanimoto})\n",
    "pearsonr_docked_tc = pd.Series({c: pearsonr_ci_docked_tanimoto[c][0] for c in pearsonr_ci_docked_tanimoto})\n",
    "pearsonr_crystal_rdk_tc = pd.Series({c: pearsonr_ci_crystal_rdk_tanimoto[c][0] for c in pearsonr_ci_crystal_tanimoto})\n",
    "pearsonr_docked_rdk_tc = pd.Series({c: pearsonr_ci_docked_rdk_tanimoto[c][0] for c in pearsonr_ci_docked_tanimoto})\n",
    "\n",
    "fig, (ax1, ax2) = plt.subplots(1,2,figsize=(12,6),sharey=True)\n",
    "\n",
    "#colours = ['#008fd5', '#fc4f30', '#e5ae38']\n",
    "colours = ['#fc4f30', '#e5ae38']\n",
    "\n",
    "pearsonr_crystal_si.plot(ax=ax1, label='RF-Score v2 (crystal pose)', alpha=0.7, color=colours[0])\n",
    "pearsonr_docked_si.plot(ax=ax1, label='RF-Score v2 (docked pose)', alpha=0.7, color=colours[0], linestyle=':')\n",
    "\n",
    "pearsonr_crystal_rdk_si.plot(ax=ax1, label='RF-Score v2 + LB (crystal pose)', alpha=0.7, color=colours[1])\n",
    "pearsonr_docked_rdk_si.plot(ax=ax1, label='RF-Score v2 + LB (docked pose)', alpha=0.7, color=colours[1], linestyle=':')\n",
    "\n",
    "pearsonr_crystal_tc.plot(ax=ax2, label='RF-Score v2 (crystal pose)', alpha=0.7, color=colours[0])\n",
    "pearsonr_docked_tc.plot(ax=ax2, label='RF-Score v2 (docked pose)', alpha=0.7, color=colours[0], linestyle=':')\n",
    "\n",
    "pearsonr_crystal_rdk_tc.plot(ax=ax2, label='RF-Score v2 + LB (crystal pose)', alpha=0.7, color=colours[1])\n",
    "pearsonr_docked_rdk_tc.plot(ax=ax2, label='RF-Score v2 + LB (docked pose)', alpha=0.7, color=colours[1], linestyle=':')\n",
    "\n",
    "ax1.set_ylim(0.49, 0.86)\n",
    "ax1.set_xlabel('Protein sequence identity threshold')\n",
    "ax1.set_ylabel('Pearson correlation coefficient')\n",
    "\n",
    "ax2.set_xlabel('Ligand Tanimoto similarity threshold')\n",
    "ax2.set_ylabel('Pearson correlation coefficient')\n",
    "\n",
    "#ax1.axhline(y=pearsonr_vina_docked, label='Vina (docked pose)', color='k', linestyle=':')\n",
    "#ax2.axhline(y=pearsonr_vina_docked, label='Vina (docked pose)', color='k', linestyle=':')\n",
    "\n",
    "for ax, annotation in zip((ax1,ax2), ['A', 'B']):\n",
    "    ax.text(-0.1, 1.1, annotation, transform=ax.transAxes, size=20, weight='bold')\n",
    "fig.tight_layout()\n",
    "ax1.legend(title='Model', bbox_to_anchor=(1.8, 1.45), ncol=2)\n",
    "\n",
    "#fig.savefig('../figures/CASF_pearsonr_crystal_dock.png', dpi=350, bbox_inches='tight')"
   ]
  },
  {
   "cell_type": "code",
   "execution_count": null,
   "metadata": {},
   "outputs": [],
   "source": [
    "from oddt.scoring.descriptors import close_contacts_descriptor\n",
    "ligand_atomic_nums = [6, 7, 8, 9, 15, 16, 17, 35, 53]\n",
    "protein_atomic_nums = [6, 7, 8, 16]\n",
    "cutoff = [0, 2, 4, 6, 8, 10, 12]\n",
    "descriptors_func = close_contacts_descriptor(cutoff=cutoff,protein_types=protein_atomic_nums,ligand_types=ligand_atomic_nums)\n",
    "\n",
    "@delayed\n",
    "def get_rfv2(protein, ligand):\n",
    "    features = descriptors_func.build(protein, ligand)[0]\n",
    "    return features"
   ]
  },
  {
   "cell_type": "code",
   "execution_count": null,
   "metadata": {},
   "outputs": [],
   "source": [
    "targets = ['AKT1', 'CP3A4', 'GCR', 'HIVPR', 'HIVRT', 'KIF11']\n",
    "chembl_rfv2 = {}\n",
    "for target in targets:\n",
    "    protein = next(ob.readfile('pdb', f'../dude_chembl/dude_data/{target.lower()}/receptor.pdb'))\n",
    "    protein.protein = True\n",
    "    ligands = {}\n",
    "    ligand_file = f'../dude_chembl/{target}_docked.sdf'\n",
    "    for mol in ob.readfile('sdf', ligand_file):\n",
    "        mol_name = mol.OBMol.GetTitle()\n",
    "        if mol_name in ligands:\n",
    "            continue\n",
    "        else:\n",
    "            ligands[mol_name] = mol\n",
    "    with Parallel(n_jobs=8, verbose=10) as parallel:\n",
    "        results = parallel(get_rfv2(protein, ligands[mol_name]) for mol_name in ligands)\n",
    "    chembl_rfv2[target] = {mol_name: result for mol_name, result in zip(ligands, results)}"
   ]
  },
  {
   "cell_type": "code",
   "execution_count": null,
   "metadata": {},
   "outputs": [],
   "source": [
    "with open('../data/chembl_rfscorev2_features.json', 'w') as f:\n",
    "    json.dump(chembl_rfv2, f, cls=NumpyEncoder)"
   ]
  },
  {
   "cell_type": "code",
   "execution_count": null,
   "metadata": {},
   "outputs": [],
   "source": []
  }
 ],
 "metadata": {
  "kernelspec": {
   "display_name": "Python 3",
   "language": "python",
   "name": "python3"
  },
  "language_info": {
   "codemirror_mode": {
    "name": "ipython",
    "version": 3
   },
   "file_extension": ".py",
   "mimetype": "text/x-python",
   "name": "python",
   "nbconvert_exporter": "python",
   "pygments_lexer": "ipython3",
   "version": "3.8.3"
  }
 },
 "nbformat": 4,
 "nbformat_minor": 4
}
