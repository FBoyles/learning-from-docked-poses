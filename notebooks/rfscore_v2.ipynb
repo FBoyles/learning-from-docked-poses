{
 "cells": [
  {
   "cell_type": "code",
   "execution_count": 1,
   "metadata": {},
   "outputs": [],
   "source": [
    "from oddt.toolkits import ob\n",
    "from joblib import delayed, Parallel\n",
    "from functools import partial\n",
    "import pandas as pd\n",
    "from sklearn.ensemble import RandomForestRegressor\n",
    "from matplotlib import pyplot as plt\n",
    "from scipy import stats\n",
    "\n",
    "import json\n",
    "import numpy as np\n",
    "\n",
    "class NumpyEncoder(json.JSONEncoder):\n",
    "    def default(self, obj):\n",
    "        if isinstance(obj, np.ndarray):\n",
    "            return obj.tolist()\n",
    "        return json.JSONEncoder.default(self, obj)\n",
    "\n",
    "PDBBIND_DIR = '/home/fergus/pdbbind/v2019'\n",
    "with open('../data/pdbbind_training_set.txt') as f:\n",
    "    pdbs = [l.strip() for l in f]\n",
    "with open('../data/pdbbind_training_set.txt') as f:\n",
    "    train_pdbs = [l.strip() for l in f]"
   ]
  },
  {
   "cell_type": "code",
   "execution_count": 3,
   "metadata": {},
   "outputs": [],
   "source": [
    "from oddt.scoring.descriptors import close_contacts_descriptor\n",
    "ligand_atomic_nums = [6, 7, 8, 9, 15, 16, 17, 35, 53]\n",
    "protein_atomic_nums = [6, 7, 8, 16]\n",
    "cutoff = [0, 2, 4, 6, 8, 10, 12]\n",
    "descriptors_func = close_contacts_descriptor(cutoff=cutoff,protein_types=protein_atomic_nums,ligand_types=ligand_atomic_nums)\n",
    "\n",
    "@delayed\n",
    "def build(pdb):\n",
    "    protein = next(ob.readfile('pdb', f'{PDBBIND_DIR}/{pdb}/{pdb}_protein.pdb'))\n",
    "    protein.protein = True\n",
    "    # crystal\n",
    "    ligand = next(ob.readfile('sdf', f'{PDBBIND_DIR}/{pdb}/{pdb}_ligand.sdf'))\n",
    "    features_c = descriptors_func.build(ligand, protein)[0]\n",
    "\n",
    "    # docked        \n",
    "    ligand = next(ob.readfile('sdf', f'../pdbbind_docked_poses/{pdb}/{pdb}_ligand_docked.sdf'))\n",
    "    features_d = descriptors_func.build(ligand, protein)[0]\n",
    "    return (features_c, features_d)"
   ]
  },
  {
   "cell_type": "code",
   "execution_count": 8,
   "metadata": {},
   "outputs": [
    {
     "name": "stderr",
     "output_type": "stream",
     "text": [
      "[Parallel(n_jobs=6)]: Using backend LokyBackend with 6 concurrent workers.\n",
      "[Parallel(n_jobs=6)]: Done   1 tasks      | elapsed:    1.7s\n",
      "[Parallel(n_jobs=6)]: Done   6 tasks      | elapsed:    2.5s\n",
      "[Parallel(n_jobs=6)]: Done  13 tasks      | elapsed:    4.3s\n",
      "[Parallel(n_jobs=6)]: Done  20 tasks      | elapsed:   10.3s\n",
      "[Parallel(n_jobs=6)]: Done  29 tasks      | elapsed:   15.3s\n",
      "[Parallel(n_jobs=6)]: Done  38 tasks      | elapsed:   21.1s\n",
      "[Parallel(n_jobs=6)]: Done  49 tasks      | elapsed:   31.0s\n",
      "[Parallel(n_jobs=6)]: Done  60 tasks      | elapsed:   32.8s\n",
      "[Parallel(n_jobs=6)]: Done  73 tasks      | elapsed:   35.8s\n",
      "[Parallel(n_jobs=6)]: Done  86 tasks      | elapsed:   40.9s\n",
      "[Parallel(n_jobs=6)]: Done 101 tasks      | elapsed:   49.0s\n",
      "[Parallel(n_jobs=6)]: Done 116 tasks      | elapsed:   56.9s\n",
      "[Parallel(n_jobs=6)]: Done 133 tasks      | elapsed:  1.0min\n",
      "[Parallel(n_jobs=6)]: Done 150 tasks      | elapsed:  1.2min\n",
      "[Parallel(n_jobs=6)]: Done 169 tasks      | elapsed:  1.5min\n",
      "[Parallel(n_jobs=6)]: Done 188 tasks      | elapsed:  1.8min\n",
      "[Parallel(n_jobs=6)]: Done 209 tasks      | elapsed:  2.0min\n",
      "[Parallel(n_jobs=6)]: Done 230 tasks      | elapsed:  2.0min\n",
      "[Parallel(n_jobs=6)]: Done 253 tasks      | elapsed:  2.2min\n",
      "[Parallel(n_jobs=6)]: Done 276 tasks      | elapsed:  2.2min\n",
      "[Parallel(n_jobs=6)]: Done 301 tasks      | elapsed:  2.4min\n",
      "[Parallel(n_jobs=6)]: Done 326 tasks      | elapsed:  2.6min\n",
      "[Parallel(n_jobs=6)]: Done 353 tasks      | elapsed:  2.8min\n",
      "[Parallel(n_jobs=6)]: Done 380 tasks      | elapsed:  3.8min\n",
      "[Parallel(n_jobs=6)]: Done 409 tasks      | elapsed:  4.2min\n",
      "[Parallel(n_jobs=6)]: Done 438 tasks      | elapsed:  4.6min\n",
      "[Parallel(n_jobs=6)]: Done 469 tasks      | elapsed:  4.9min\n",
      "[Parallel(n_jobs=6)]: Done 500 tasks      | elapsed:  5.3min\n",
      "[Parallel(n_jobs=6)]: Done 533 tasks      | elapsed:  5.7min\n",
      "[Parallel(n_jobs=6)]: Done 566 tasks      | elapsed:  5.9min\n",
      "[Parallel(n_jobs=6)]: Done 601 tasks      | elapsed:  6.4min\n",
      "[Parallel(n_jobs=6)]: Done 636 tasks      | elapsed:  6.8min\n",
      "[Parallel(n_jobs=6)]: Done 673 tasks      | elapsed:  7.1min\n",
      "[Parallel(n_jobs=6)]: Done 710 tasks      | elapsed:  7.3min\n",
      "[Parallel(n_jobs=6)]: Done 749 tasks      | elapsed:  7.6min\n",
      "[Parallel(n_jobs=6)]: Done 788 tasks      | elapsed:  8.4min\n",
      "[Parallel(n_jobs=6)]: Done 829 tasks      | elapsed:  8.8min\n",
      "[Parallel(n_jobs=6)]: Done 870 tasks      | elapsed:  9.9min\n",
      "[Parallel(n_jobs=6)]: Done 913 tasks      | elapsed: 10.5min\n",
      "[Parallel(n_jobs=6)]: Done 956 tasks      | elapsed: 11.0min\n",
      "[Parallel(n_jobs=6)]: Done 1001 tasks      | elapsed: 11.4min\n",
      "[Parallel(n_jobs=6)]: Done 1046 tasks      | elapsed: 11.7min\n",
      "[Parallel(n_jobs=6)]: Done 1093 tasks      | elapsed: 12.1min\n",
      "[Parallel(n_jobs=6)]: Done 1140 tasks      | elapsed: 12.7min\n",
      "[Parallel(n_jobs=6)]: Done 1189 tasks      | elapsed: 13.2min\n",
      "[Parallel(n_jobs=6)]: Done 1238 tasks      | elapsed: 14.1min\n",
      "[Parallel(n_jobs=6)]: Done 1289 tasks      | elapsed: 14.8min\n",
      "[Parallel(n_jobs=6)]: Done 1340 tasks      | elapsed: 15.3min\n",
      "[Parallel(n_jobs=6)]: Done 1393 tasks      | elapsed: 17.4min\n",
      "[Parallel(n_jobs=6)]: Done 1446 tasks      | elapsed: 18.0min\n",
      "[Parallel(n_jobs=6)]: Done 1501 tasks      | elapsed: 18.9min\n",
      "[Parallel(n_jobs=6)]: Done 1556 tasks      | elapsed: 19.3min\n",
      "[Parallel(n_jobs=6)]: Done 1613 tasks      | elapsed: 19.9min\n",
      "[Parallel(n_jobs=6)]: Done 1670 tasks      | elapsed: 21.0min\n",
      "[Parallel(n_jobs=6)]: Done 1729 tasks      | elapsed: 21.7min\n",
      "[Parallel(n_jobs=6)]: Done 1788 tasks      | elapsed: 22.3min\n",
      "[Parallel(n_jobs=6)]: Done 1849 tasks      | elapsed: 24.3min\n",
      "[Parallel(n_jobs=6)]: Done 1910 tasks      | elapsed: 24.6min\n",
      "[Parallel(n_jobs=6)]: Done 1973 tasks      | elapsed: 25.3min\n",
      "[Parallel(n_jobs=6)]: Done 2036 tasks      | elapsed: 26.0min\n",
      "[Parallel(n_jobs=6)]: Done 2101 tasks      | elapsed: 26.5min\n",
      "[Parallel(n_jobs=6)]: Done 2166 tasks      | elapsed: 27.8min\n",
      "[Parallel(n_jobs=6)]: Done 2233 tasks      | elapsed: 29.2min\n",
      "[Parallel(n_jobs=6)]: Done 2300 tasks      | elapsed: 29.7min\n",
      "[Parallel(n_jobs=6)]: Done 2369 tasks      | elapsed: 30.5min\n",
      "[Parallel(n_jobs=6)]: Done 2438 tasks      | elapsed: 31.5min\n",
      "[Parallel(n_jobs=6)]: Done 2509 tasks      | elapsed: 32.5min\n",
      "[Parallel(n_jobs=6)]: Done 2580 tasks      | elapsed: 34.0min\n",
      "[Parallel(n_jobs=6)]: Done 2653 tasks      | elapsed: 34.8min\n",
      "[Parallel(n_jobs=6)]: Done 2726 tasks      | elapsed: 35.9min\n",
      "[Parallel(n_jobs=6)]: Done 2801 tasks      | elapsed: 36.4min\n",
      "[Parallel(n_jobs=6)]: Done 2876 tasks      | elapsed: 36.9min\n",
      "[Parallel(n_jobs=6)]: Done 2953 tasks      | elapsed: 37.4min\n",
      "[Parallel(n_jobs=6)]: Done 3030 tasks      | elapsed: 37.7min\n",
      "[Parallel(n_jobs=6)]: Done 3109 tasks      | elapsed: 38.2min\n",
      "[Parallel(n_jobs=6)]: Done 3188 tasks      | elapsed: 38.4min\n",
      "[Parallel(n_jobs=6)]: Done 3269 tasks      | elapsed: 38.7min\n",
      "[Parallel(n_jobs=6)]: Done 3350 tasks      | elapsed: 39.0min\n",
      "[Parallel(n_jobs=6)]: Done 3433 tasks      | elapsed: 39.3min\n",
      "[Parallel(n_jobs=6)]: Done 3516 tasks      | elapsed: 39.7min\n",
      "[Parallel(n_jobs=6)]: Done 3601 tasks      | elapsed: 40.0min\n",
      "[Parallel(n_jobs=6)]: Done 3686 tasks      | elapsed: 40.4min\n",
      "[Parallel(n_jobs=6)]: Done 3752 out of 3752 | elapsed: 41.0min finished\n"
     ]
    }
   ],
   "source": [
    "with Parallel(n_jobs=6, verbose=10) as parallel:\n",
    "    features = parallel(build(pdb) for pdb in pdbs)"
   ]
  },
  {
   "cell_type": "code",
   "execution_count": 12,
   "metadata": {},
   "outputs": [],
   "source": [
    "features_crystal = {}\n",
    "features_docked = {}\n",
    "\n",
    "for feature, pdb in zip(features, pdbs):\n",
    "    features_crystal[pdb] = feature[0]\n",
    "    features_docked[pdb] = feature[1]"
   ]
  },
  {
   "cell_type": "code",
   "execution_count": 14,
   "metadata": {},
   "outputs": [],
   "source": [
    "with open('pdbbind_training_set_docked_rfv2.json', 'w') as f:\n",
    "    json.dump(features_docked, f, cls=NumpyEncoder)\n",
    "    \n",
    "with open('pdbbind_training_set_crystal_rfv2.json', 'w') as f:\n",
    "    json.dump(features_crystal, f, cls=NumpyEncoder)"
   ]
  },
  {
   "cell_type": "code",
   "execution_count": 2,
   "metadata": {},
   "outputs": [],
   "source": [
    "with open('../data/pdbbind_test_set.txt') as f:\n",
    "    test_pdbs = [l.strip() for l in f]"
   ]
  },
  {
   "cell_type": "code",
   "execution_count": 38,
   "metadata": {},
   "outputs": [
    {
     "name": "stderr",
     "output_type": "stream",
     "text": [
      "[Parallel(n_jobs=6)]: Using backend LokyBackend with 6 concurrent workers.\n"
     ]
    },
    {
     "ename": "NameError",
     "evalue": "name 'build' is not defined",
     "output_type": "error",
     "traceback": [
      "\u001b[0;31m---------------------------------------------------------------------------\u001b[0m",
      "\u001b[0;31mEmpty\u001b[0m                                     Traceback (most recent call last)",
      "\u001b[0;32m~/miniconda3/lib/python3.8/site-packages/joblib/parallel.py\u001b[0m in \u001b[0;36mdispatch_one_batch\u001b[0;34m(self, iterator)\u001b[0m\n\u001b[1;32m    807\u001b[0m             \u001b[0;32mtry\u001b[0m\u001b[0;34m:\u001b[0m\u001b[0;34m\u001b[0m\u001b[0;34m\u001b[0m\u001b[0m\n\u001b[0;32m--> 808\u001b[0;31m                 \u001b[0mtasks\u001b[0m \u001b[0;34m=\u001b[0m \u001b[0mself\u001b[0m\u001b[0;34m.\u001b[0m\u001b[0m_ready_batches\u001b[0m\u001b[0;34m.\u001b[0m\u001b[0mget\u001b[0m\u001b[0;34m(\u001b[0m\u001b[0mblock\u001b[0m\u001b[0;34m=\u001b[0m\u001b[0;32mFalse\u001b[0m\u001b[0;34m)\u001b[0m\u001b[0;34m\u001b[0m\u001b[0;34m\u001b[0m\u001b[0m\n\u001b[0m\u001b[1;32m    809\u001b[0m             \u001b[0;32mexcept\u001b[0m \u001b[0mqueue\u001b[0m\u001b[0;34m.\u001b[0m\u001b[0mEmpty\u001b[0m\u001b[0;34m:\u001b[0m\u001b[0;34m\u001b[0m\u001b[0;34m\u001b[0m\u001b[0m\n",
      "\u001b[0;32m~/miniconda3/lib/python3.8/queue.py\u001b[0m in \u001b[0;36mget\u001b[0;34m(self, block, timeout)\u001b[0m\n\u001b[1;32m    166\u001b[0m                 \u001b[0;32mif\u001b[0m \u001b[0;32mnot\u001b[0m \u001b[0mself\u001b[0m\u001b[0;34m.\u001b[0m\u001b[0m_qsize\u001b[0m\u001b[0;34m(\u001b[0m\u001b[0;34m)\u001b[0m\u001b[0;34m:\u001b[0m\u001b[0;34m\u001b[0m\u001b[0;34m\u001b[0m\u001b[0m\n\u001b[0;32m--> 167\u001b[0;31m                     \u001b[0;32mraise\u001b[0m \u001b[0mEmpty\u001b[0m\u001b[0;34m\u001b[0m\u001b[0;34m\u001b[0m\u001b[0m\n\u001b[0m\u001b[1;32m    168\u001b[0m             \u001b[0;32melif\u001b[0m \u001b[0mtimeout\u001b[0m \u001b[0;32mis\u001b[0m \u001b[0;32mNone\u001b[0m\u001b[0;34m:\u001b[0m\u001b[0;34m\u001b[0m\u001b[0;34m\u001b[0m\u001b[0m\n",
      "\u001b[0;31mEmpty\u001b[0m: ",
      "\nDuring handling of the above exception, another exception occurred:\n",
      "\u001b[0;31mNameError\u001b[0m                                 Traceback (most recent call last)",
      "\u001b[0;32m<ipython-input-38-9f8c32b5cc03>\u001b[0m in \u001b[0;36m<module>\u001b[0;34m\u001b[0m\n\u001b[1;32m      1\u001b[0m \u001b[0;32mwith\u001b[0m \u001b[0mParallel\u001b[0m\u001b[0;34m(\u001b[0m\u001b[0mn_jobs\u001b[0m\u001b[0;34m=\u001b[0m\u001b[0;36m6\u001b[0m\u001b[0;34m,\u001b[0m \u001b[0mverbose\u001b[0m\u001b[0;34m=\u001b[0m\u001b[0;36m10\u001b[0m\u001b[0;34m)\u001b[0m \u001b[0;32mas\u001b[0m \u001b[0mparallel\u001b[0m\u001b[0;34m:\u001b[0m\u001b[0;34m\u001b[0m\u001b[0;34m\u001b[0m\u001b[0m\n\u001b[0;32m----> 2\u001b[0;31m     \u001b[0mtest_features\u001b[0m \u001b[0;34m=\u001b[0m \u001b[0mparallel\u001b[0m\u001b[0;34m(\u001b[0m\u001b[0mbuild\u001b[0m\u001b[0;34m(\u001b[0m\u001b[0mpdb\u001b[0m\u001b[0;34m)\u001b[0m \u001b[0;32mfor\u001b[0m \u001b[0mpdb\u001b[0m \u001b[0;32min\u001b[0m \u001b[0mtest_pdbs\u001b[0m\u001b[0;34m)\u001b[0m\u001b[0;34m\u001b[0m\u001b[0;34m\u001b[0m\u001b[0m\n\u001b[0m",
      "\u001b[0;32m~/miniconda3/lib/python3.8/site-packages/joblib/parallel.py\u001b[0m in \u001b[0;36m__call__\u001b[0;34m(self, iterable)\u001b[0m\n\u001b[1;32m   1027\u001b[0m             \u001b[0;31m# remaining jobs.\u001b[0m\u001b[0;34m\u001b[0m\u001b[0;34m\u001b[0m\u001b[0;34m\u001b[0m\u001b[0m\n\u001b[1;32m   1028\u001b[0m             \u001b[0mself\u001b[0m\u001b[0;34m.\u001b[0m\u001b[0m_iterating\u001b[0m \u001b[0;34m=\u001b[0m \u001b[0;32mFalse\u001b[0m\u001b[0;34m\u001b[0m\u001b[0;34m\u001b[0m\u001b[0m\n\u001b[0;32m-> 1029\u001b[0;31m             \u001b[0;32mif\u001b[0m \u001b[0mself\u001b[0m\u001b[0;34m.\u001b[0m\u001b[0mdispatch_one_batch\u001b[0m\u001b[0;34m(\u001b[0m\u001b[0miterator\u001b[0m\u001b[0;34m)\u001b[0m\u001b[0;34m:\u001b[0m\u001b[0;34m\u001b[0m\u001b[0;34m\u001b[0m\u001b[0m\n\u001b[0m\u001b[1;32m   1030\u001b[0m                 \u001b[0mself\u001b[0m\u001b[0;34m.\u001b[0m\u001b[0m_iterating\u001b[0m \u001b[0;34m=\u001b[0m \u001b[0mself\u001b[0m\u001b[0;34m.\u001b[0m\u001b[0m_original_iterator\u001b[0m \u001b[0;32mis\u001b[0m \u001b[0;32mnot\u001b[0m \u001b[0;32mNone\u001b[0m\u001b[0;34m\u001b[0m\u001b[0;34m\u001b[0m\u001b[0m\n\u001b[1;32m   1031\u001b[0m \u001b[0;34m\u001b[0m\u001b[0m\n",
      "\u001b[0;32m~/miniconda3/lib/python3.8/site-packages/joblib/parallel.py\u001b[0m in \u001b[0;36mdispatch_one_batch\u001b[0;34m(self, iterator)\u001b[0m\n\u001b[1;32m    817\u001b[0m                 \u001b[0mbig_batch_size\u001b[0m \u001b[0;34m=\u001b[0m \u001b[0mbatch_size\u001b[0m \u001b[0;34m*\u001b[0m \u001b[0mn_jobs\u001b[0m\u001b[0;34m\u001b[0m\u001b[0;34m\u001b[0m\u001b[0m\n\u001b[1;32m    818\u001b[0m \u001b[0;34m\u001b[0m\u001b[0m\n\u001b[0;32m--> 819\u001b[0;31m                 \u001b[0mislice\u001b[0m \u001b[0;34m=\u001b[0m \u001b[0mlist\u001b[0m\u001b[0;34m(\u001b[0m\u001b[0mitertools\u001b[0m\u001b[0;34m.\u001b[0m\u001b[0mislice\u001b[0m\u001b[0;34m(\u001b[0m\u001b[0miterator\u001b[0m\u001b[0;34m,\u001b[0m \u001b[0mbig_batch_size\u001b[0m\u001b[0;34m)\u001b[0m\u001b[0;34m)\u001b[0m\u001b[0;34m\u001b[0m\u001b[0;34m\u001b[0m\u001b[0m\n\u001b[0m\u001b[1;32m    820\u001b[0m                 \u001b[0;32mif\u001b[0m \u001b[0mlen\u001b[0m\u001b[0;34m(\u001b[0m\u001b[0mislice\u001b[0m\u001b[0;34m)\u001b[0m \u001b[0;34m==\u001b[0m \u001b[0;36m0\u001b[0m\u001b[0;34m:\u001b[0m\u001b[0;34m\u001b[0m\u001b[0;34m\u001b[0m\u001b[0m\n\u001b[1;32m    821\u001b[0m                     \u001b[0;32mreturn\u001b[0m \u001b[0;32mFalse\u001b[0m\u001b[0;34m\u001b[0m\u001b[0;34m\u001b[0m\u001b[0m\n",
      "\u001b[0;32m<ipython-input-38-9f8c32b5cc03>\u001b[0m in \u001b[0;36m<genexpr>\u001b[0;34m(.0)\u001b[0m\n\u001b[1;32m      1\u001b[0m \u001b[0;32mwith\u001b[0m \u001b[0mParallel\u001b[0m\u001b[0;34m(\u001b[0m\u001b[0mn_jobs\u001b[0m\u001b[0;34m=\u001b[0m\u001b[0;36m6\u001b[0m\u001b[0;34m,\u001b[0m \u001b[0mverbose\u001b[0m\u001b[0;34m=\u001b[0m\u001b[0;36m10\u001b[0m\u001b[0;34m)\u001b[0m \u001b[0;32mas\u001b[0m \u001b[0mparallel\u001b[0m\u001b[0;34m:\u001b[0m\u001b[0;34m\u001b[0m\u001b[0;34m\u001b[0m\u001b[0m\n\u001b[0;32m----> 2\u001b[0;31m     \u001b[0mtest_features\u001b[0m \u001b[0;34m=\u001b[0m \u001b[0mparallel\u001b[0m\u001b[0;34m(\u001b[0m\u001b[0mbuild\u001b[0m\u001b[0;34m(\u001b[0m\u001b[0mpdb\u001b[0m\u001b[0;34m)\u001b[0m \u001b[0;32mfor\u001b[0m \u001b[0mpdb\u001b[0m \u001b[0;32min\u001b[0m \u001b[0mtest_pdbs\u001b[0m\u001b[0;34m)\u001b[0m\u001b[0;34m\u001b[0m\u001b[0;34m\u001b[0m\u001b[0m\n\u001b[0m",
      "\u001b[0;31mNameError\u001b[0m: name 'build' is not defined"
     ]
    }
   ],
   "source": [
    "with Parallel(n_jobs=6, verbose=10) as parallel:\n",
    "    test_features = parallel(build(pdb) for pdb in test_pdbs)"
   ]
  },
  {
   "cell_type": "code",
   "execution_count": 23,
   "metadata": {},
   "outputs": [],
   "source": [
    "test_features_crystal = {}\n",
    "test_features_docked = {}\n",
    "\n",
    "for feature, pdb in zip(test_features, test_pdbs):\n",
    "    test_features_crystal[pdb] = feature[0]\n",
    "    test_features_docked[pdb] = feature[1]\n",
    "    \n",
    "with open('pdbbind_test_set_docked_rfv2.json', 'w') as f:\n",
    "    json.dump(test_features_docked, f, cls=NumpyEncoder)\n",
    "    \n",
    "with open('pdbbind_test_set_crystal_rfv2.json', 'w') as f:\n",
    "    json.dump(test_features_crystal, f, cls=NumpyEncoder)"
   ]
  },
  {
   "cell_type": "code",
   "execution_count": 3,
   "metadata": {},
   "outputs": [],
   "source": [
    "pdbbind_training_set_affinity = pd.read_csv('../data/pdbbind_training_set_binding_affinity.csv', index_col=0, header=None, squeeze=True)\n",
    "pdbbind_test_set_affinity = pd.read_csv('../data/pdbbind_test_set_binding_affinity.csv', index_col=0, header=None, squeeze=True)"
   ]
  },
  {
   "cell_type": "code",
   "execution_count": 8,
   "metadata": {},
   "outputs": [],
   "source": [
    "features_docked = pd.Series(features_docked)"
   ]
  },
  {
   "cell_type": "code",
   "execution_count": 4,
   "metadata": {},
   "outputs": [],
   "source": [
    "with open('pdbbind_training_set_docked_rfv2.json') as f:\n",
    "    features_docked = json.load(f)\n",
    "features_docked = pd.DataFrame(features_docked).T\n",
    "with open('pdbbind_training_set_crystal_rfv2.json') as f:\n",
    "    features_crystal = json.load(f)\n",
    "features_crystal = pd.DataFrame(features_crystal).T"
   ]
  },
  {
   "cell_type": "code",
   "execution_count": 87,
   "metadata": {},
   "outputs": [],
   "source": [
    "a=pd.DataFrame({'Crystal': {'RFv2': 0.760, 'RFv2 + Ligand': 0.787}, 'Docked': {'RFv2': 0.723, 'RFv2 + Ligand': 0.768}}).T"
   ]
  },
  {
   "cell_type": "code",
   "execution_count": 88,
   "metadata": {},
   "outputs": [],
   "source": [
    "b=pd.DataFrame({'Crystal': {'RFv3': 0.765, 'RFv3 + Ligand': 0.785}, 'Docked': {'RFv3': 0.692, 'RFv3 + Ligand': 0.756}}).T"
   ]
  },
  {
   "cell_type": "code",
   "execution_count": 91,
   "metadata": {},
   "outputs": [],
   "source": [
    "c=pd.DataFrame({'Crystal': {'PLEC': 0.689}, 'Docked': {'PLEC': 0.645}}).T"
   ]
  },
  {
   "cell_type": "code",
   "execution_count": 93,
   "metadata": {},
   "outputs": [
    {
     "data": {
      "text/html": [
       "<div>\n",
       "<style scoped>\n",
       "    .dataframe tbody tr th:only-of-type {\n",
       "        vertical-align: middle;\n",
       "    }\n",
       "\n",
       "    .dataframe tbody tr th {\n",
       "        vertical-align: top;\n",
       "    }\n",
       "\n",
       "    .dataframe thead th {\n",
       "        text-align: right;\n",
       "    }\n",
       "</style>\n",
       "<table border=\"1\" class=\"dataframe\">\n",
       "  <thead>\n",
       "    <tr style=\"text-align: right;\">\n",
       "      <th></th>\n",
       "      <th>RFv2</th>\n",
       "      <th>RFv2 + Ligand</th>\n",
       "      <th>RFv3</th>\n",
       "      <th>RFv3 + Ligand</th>\n",
       "      <th>PLEC</th>\n",
       "    </tr>\n",
       "  </thead>\n",
       "  <tbody>\n",
       "    <tr>\n",
       "      <th>Crystal</th>\n",
       "      <td>0.760</td>\n",
       "      <td>0.787</td>\n",
       "      <td>0.765</td>\n",
       "      <td>0.785</td>\n",
       "      <td>0.689</td>\n",
       "    </tr>\n",
       "    <tr>\n",
       "      <th>Docked</th>\n",
       "      <td>0.723</td>\n",
       "      <td>0.768</td>\n",
       "      <td>0.692</td>\n",
       "      <td>0.756</td>\n",
       "      <td>0.645</td>\n",
       "    </tr>\n",
       "  </tbody>\n",
       "</table>\n",
       "</div>"
      ],
      "text/plain": [
       "          RFv2  RFv2 + Ligand   RFv3  RFv3 + Ligand   PLEC\n",
       "Crystal  0.760          0.787  0.765          0.785  0.689\n",
       "Docked   0.723          0.768  0.692          0.756  0.645"
      ]
     },
     "execution_count": 93,
     "metadata": {},
     "output_type": "execute_result"
    }
   ],
   "source": [
    "pd.concat([a,b,c], axis='columns')"
   ]
  },
  {
   "cell_type": "code",
   "execution_count": 5,
   "metadata": {},
   "outputs": [],
   "source": [
    "with open('pdbbind_test_set_crystal_rfv2.json') as f:\n",
    "    test_features_crystal = pd.DataFrame(json.load(f)).T    \n",
    "with open('pdbbind_test_set_docked_rfv2.json') as f:\n",
    "    test_features_docked = pd.DataFrame(json.load(f)).T"
   ]
  },
  {
   "cell_type": "code",
   "execution_count": 6,
   "metadata": {},
   "outputs": [],
   "source": [
    "pdbbind_training_set_affinity = pd.read_csv('../data/pdbbind_training_set_binding_affinity.csv', index_col=0, header=None, squeeze=True)\n",
    "pdbbind_test_set_affinity = pd.read_csv('../data/pdbbind_test_set_binding_affinity.csv', index_col=0, header=None, squeeze=True)"
   ]
  },
  {
   "cell_type": "code",
   "execution_count": 7,
   "metadata": {},
   "outputs": [],
   "source": [
    "pdbbind_training_set = pdbbind_training_set_affinity.index\n",
    "pdbbind_test_set = pdbbind_test_set_affinity.index"
   ]
  },
  {
   "cell_type": "code",
   "execution_count": 8,
   "metadata": {},
   "outputs": [],
   "source": [
    "blast_clusters = {}\n",
    "for cutoff in [30, 40, 50, 70, 90, 95, 100]:\n",
    "    with open(f'../data/bc-{cutoff}.out') as f:\n",
    "        blast_clusters[cutoff] = [set(item[:4].lower() for item in line.strip().split()) for line in f]\n",
    "\n",
    "test_set_similar_pdbs = {}\n",
    "for cutoff in blast_clusters:\n",
    "    pdbs = set()\n",
    "    for pdb in pdbbind_test_set:\n",
    "        for cluster in blast_clusters[cutoff]:\n",
    "            if pdb in cluster:\n",
    "                pdbs.update(cluster)\n",
    "    test_set_similar_pdbs[cutoff] = pd.Index(pdbs).intersection(pdbbind_training_set)\n",
    "\n",
    "test_set_similar_pdbs['All'] = pd.Index([])"
   ]
  },
  {
   "cell_type": "code",
   "execution_count": 9,
   "metadata": {},
   "outputs": [],
   "source": [
    "with open('../data/pdbbind_ligand_tanimoto_similarity.json') as f:\n",
    "    tanimoto_similarity = json.load(f)\n",
    "\n",
    "tc_thresholds = [0.3, 0.4, 0.5, 0.6, 0.7, 0.8, 0.9, 1.0]\n",
    "\n",
    "test_set_similar_ligands = {}\n",
    "\n",
    "for t in tc_thresholds:\n",
    "    similar = set()\n",
    "    for pdb_test in pdbbind_test_set:\n",
    "        for pdb_train in pdbbind_training_set:\n",
    "            if pdb_train in similar:\n",
    "                continue\n",
    "            if tanimoto_similarity[pdb_test][pdb_train] >= t:\n",
    "                similar.add(pdb_train)\n",
    "    test_set_similar_ligands[t] = pd.Index(similar)\n",
    "test_set_similar_ligands['All'] = pd.Index([])"
   ]
  },
  {
   "cell_type": "code",
   "execution_count": 10,
   "metadata": {},
   "outputs": [
    {
     "name": "stdout",
     "output_type": "stream",
     "text": [
      "30\n",
      "40\n",
      "50\n",
      "70\n",
      "90\n",
      "95\n",
      "100\n",
      "All\n",
      "CPU times: user 4min 23s, sys: 2.11 s, total: 4min 25s\n",
      "Wall time: 47 s\n"
     ]
    }
   ],
   "source": [
    "%%time\n",
    "predicted_crystal_sequence_identity = {}\n",
    "predicted_docked_sequence_identity = {}\n",
    "pearsonr_crystal_sequence_identity = {}\n",
    "pearsonr_docked_sequence_identity = {}\n",
    "\n",
    "for cutoff in test_set_similar_pdbs:\n",
    "    print(cutoff)\n",
    "    training_set = pdbbind_training_set.difference(test_set_similar_pdbs[cutoff])\n",
    "    y_train = pdbbind_training_set_affinity.loc[training_set].values.ravel()\n",
    "    X_train_crystal = features_crystal.loc[training_set].values\n",
    "    X_train_docked = features_docked.loc[training_set].values\n",
    "    X_test_crystal = test_features_crystal.loc[pdbbind_test_set].values\n",
    "    X_test_docked = test_features_docked.loc[pdbbind_test_set].values\n",
    "    y_test = pdbbind_test_set_affinity.loc[pdbbind_test_set].values.ravel()\n",
    "    rf_crystal = RandomForestRegressor(n_estimators=500, max_features=0.33,random_state=42, n_jobs=8, oob_score=True)\n",
    "    rf_crystal.fit(X_train_crystal, y_train)\n",
    "    rf_docked = RandomForestRegressor(n_estimators=500, max_features=0.33,random_state=42, n_jobs=8, oob_score=True)\n",
    "    rf_docked.fit(X_train_docked, y_train)\n",
    "    \n",
    "    predicted_crystal = rf_crystal.predict(X_test_crystal)\n",
    "    predicted_docked = rf_docked.predict(X_test_docked)\n",
    "    \n",
    "    predicted_crystal_sequence_identity[cutoff] = {pdb: pred for pdb, pred in zip(pdbbind_test_set, predicted_crystal)}\n",
    "    predicted_docked_sequence_identity[cutoff] = {pdb: pred for pdb, pred in zip(pdbbind_test_set, predicted_docked)}\n",
    "    \n",
    "    pearsonr_crystal_sequence_identity[cutoff] = stats.pearsonr(y_test, predicted_crystal)[0]\n",
    "    pearsonr_docked_sequence_identity[cutoff] = stats.pearsonr(y_test, predicted_docked)[0]"
   ]
  },
  {
   "cell_type": "code",
   "execution_count": 11,
   "metadata": {},
   "outputs": [],
   "source": [
    "lb_features = pd.read_csv('lb_features.csv', index_col=0)"
   ]
  },
  {
   "cell_type": "code",
   "execution_count": 12,
   "metadata": {},
   "outputs": [
    {
     "name": "stdout",
     "output_type": "stream",
     "text": [
      "30\n",
      "40\n",
      "50\n",
      "70\n",
      "90\n",
      "95\n",
      "100\n",
      "All\n",
      "CPU times: user 9min 48s, sys: 1.88 s, total: 9min 49s\n",
      "Wall time: 1min 31s\n"
     ]
    }
   ],
   "source": [
    "%%time\n",
    "predicted_crystal_rdk_sequence_identity = {}\n",
    "predicted_docked_rdk_sequence_identity = {}\n",
    "pearsonr_crystal_rdk_sequence_identity = {}\n",
    "pearsonr_docked_rdk_sequence_identity = {}\n",
    "\n",
    "for cutoff in test_set_similar_pdbs:\n",
    "    print(cutoff)\n",
    "    training_set = pdbbind_training_set.difference(test_set_similar_pdbs[cutoff])\n",
    "    y_train = pdbbind_training_set_affinity.loc[training_set].values.ravel()\n",
    "    X_train_crystal = features_crystal.loc[training_set]\n",
    "    X_train_docked = features_docked.loc[training_set]\n",
    "    X_test_crystal = test_features_crystal.loc[pdbbind_test_set]\n",
    "    X_test_docked = test_features_docked.loc[pdbbind_test_set]\n",
    "    y_test = pdbbind_test_set_affinity.loc[pdbbind_test_set].values.ravel()\n",
    "    # add lb features\n",
    "    X_train_crystal = pd.concat([X_train_crystal, lb_features.loc[training_set]], axis='columns')\n",
    "    X_test_crystal = pd.concat([X_test_crystal, lb_features.loc[pdbbind_test_set]], axis='columns')\n",
    "    X_train_docked = pd.concat([X_train_docked, lb_features.loc[training_set]], axis='columns')\n",
    "    X_test_docked = pd.concat([X_test_docked, lb_features.loc[pdbbind_test_set]], axis='columns')\n",
    "    rf_crystal = RandomForestRegressor(n_estimators=500, max_features=0.33,random_state=42, n_jobs=8, oob_score=True)\n",
    "    rf_crystal.fit(X_train_crystal, y_train)\n",
    "    rf_docked = RandomForestRegressor(n_estimators=500, max_features=0.33,random_state=42, n_jobs=8, oob_score=True)\n",
    "    rf_docked.fit(X_train_docked, y_train)\n",
    "    \n",
    "    predicted_crystal = rf_crystal.predict(X_test_crystal)\n",
    "    predicted_docked = rf_docked.predict(X_test_docked)\n",
    "    \n",
    "    predicted_crystal_rdk_sequence_identity[cutoff] = {pdb: pred for pdb, pred in zip(pdbbind_test_set, predicted_crystal)}\n",
    "    predicted_docked_rdk_sequence_identity[cutoff] = {pdb: pred for pdb, pred in zip(pdbbind_test_set, predicted_docked)}\n",
    "    \n",
    "    pearsonr_crystal_rdk_sequence_identity[cutoff] = stats.pearsonr(y_test, predicted_crystal)[0]\n",
    "    pearsonr_docked_rdk_sequence_identity[cutoff] = stats.pearsonr(y_test, predicted_docked)[0]"
   ]
  },
  {
   "cell_type": "code",
   "execution_count": null,
   "metadata": {},
   "outputs": [],
   "source": [
    "with open('RFv2_predicted_crystal_sequence_identity.json', 'w') as f:\n",
    "    json.dump(predicted_crystal_sequence_identity, f, cls=NumpyEncoder)\n",
    "with open('RFv2_predicted_docked_sequence_identity.json', 'w') as f:\n",
    "    json.dump(predicted_docked_sequence_identity, f, cls=NumpyEncoder)\n",
    "with open('RFv2_pearsonr_crystal_sequence_identity.json', 'w') as f:\n",
    "    json.dump(pearsonr_crystal_sequence_identity, f, cls=NumpyEncoder)\n",
    "with open('RFv2_pearsonr_docked_sequence_identity.json', 'w') as f:\n",
    "    json.dump(pearsonr_docked_sequence_identity, f, cls=NumpyEncoder)"
   ]
  },
  {
   "cell_type": "code",
   "execution_count": 13,
   "metadata": {},
   "outputs": [],
   "source": [
    "with open('RFv2_RDK_predicted_crystal_sequence_identity.json', 'w') as f:\n",
    "    json.dump(predicted_crystal_rdk_sequence_identity, f, cls=NumpyEncoder)\n",
    "with open('RFv2_RDK_predicted_docked_sequence_identity.json', 'w') as f:\n",
    "    json.dump(predicted_docked_rdk_sequence_identity, f, cls=NumpyEncoder)\n",
    "with open('RFv2_RDK_pearsonr_crystal_sequence_identity.json', 'w') as f:\n",
    "    json.dump(pearsonr_crystal_rdk_sequence_identity, f, cls=NumpyEncoder)\n",
    "with open('RFv2_RDK_pearsonr_docked_sequence_identity.json', 'w') as f:\n",
    "    json.dump(pearsonr_docked_rdk_sequence_identity, f, cls=NumpyEncoder)"
   ]
  },
  {
   "cell_type": "code",
   "execution_count": 16,
   "metadata": {},
   "outputs": [],
   "source": [
    "import statistical_tests as st\n",
    "\n",
    "pearsonr_ci_crystal_si = {}\n",
    "pearsonr_ci_docked_si = {}\n",
    "pearsonr_pval_crystal_si = {}\n",
    "pearsonr_pval_docked_si = {}\n",
    "\n",
    "y_test = pdbbind_test_set_affinity.loc[pdbbind_test_set]\n",
    "for cutoff in predicted_crystal_sequence_identity:\n",
    "    y_pred = pd.Series(predicted_crystal_sequence_identity[cutoff]).loc[pdbbind_test_set]\n",
    "    pearsonr_ci_crystal_si[cutoff] = st.bootstrap_pearsonr(y_test, y_pred)\n",
    "    pearsonr_ci_docked_si[cutoff] = st.bootstrap_pearsonr(y_test, y_pred)\n",
    "    y_pred = pd.Series(predicted_docked_sequence_identity[cutoff]).loc[pdbbind_test_set]\n",
    "    pearsonr_pval_crystal_si[cutoff] = st.permutation_pearsonr(y_test, y_pred)\n",
    "    pearsonr_pval_docked_si[cutoff] = st.permutation_pearsonr(y_test, y_pred)"
   ]
  },
  {
   "cell_type": "code",
   "execution_count": 17,
   "metadata": {},
   "outputs": [],
   "source": [
    "pearsonr_ci_crystal_rdk_si = {}\n",
    "pearsonr_ci_docked_rdk_si = {}\n",
    "pearsonr_pval_crystal_rdk_si = {}\n",
    "pearsonr_pval_docked_rdk_si = {}\n",
    "\n",
    "y_test = pdbbind_test_set_affinity.loc[pdbbind_test_set]\n",
    "for cutoff in predicted_crystal_sequence_identity:\n",
    "    y_pred = pd.Series(predicted_crystal_rdk_sequence_identity[cutoff]).loc[pdbbind_test_set]\n",
    "    pearsonr_ci_crystal_rdk_si[cutoff] = st.bootstrap_pearsonr(y_test, y_pred)\n",
    "    pearsonr_ci_docked_rdk_si[cutoff] = st.bootstrap_pearsonr(y_test, y_pred)\n",
    "    y_pred = pd.Series(predicted_docked_rdk_sequence_identity[cutoff]).loc[pdbbind_test_set]\n",
    "    pearsonr_pval_crystal_rdk_si[cutoff] = st.permutation_pearsonr(y_test, y_pred)\n",
    "    pearsonr_pval_docked_rdk_si[cutoff] = st.permutation_pearsonr(y_test, y_pred)"
   ]
  },
  {
   "cell_type": "code",
   "execution_count": 18,
   "metadata": {},
   "outputs": [
    {
     "data": {
      "text/plain": [
       "{30: (0.6363352941528522, 0.5861732111540154, 0.6809833203604377),\n",
       " 40: (0.655218555043996, 0.6064773217308622, 0.6983750638330051),\n",
       " 50: (0.6679261930168756, 0.6200800430089926, 0.710638467171554),\n",
       " 70: (0.6784759671589725, 0.6318741456936731, 0.7202703120665265),\n",
       " 90: (0.6788647471573663, 0.6309934976573922, 0.7220444392238354),\n",
       " 95: (0.6865974628613758, 0.6384876007145944, 0.7297136591450654),\n",
       " 100: (0.6911562310376635, 0.6453616225840594, 0.7328836953444601),\n",
       " 'All': (0.7595467454161737, 0.7169144171770295, 0.7963317518623201)}"
      ]
     },
     "execution_count": 18,
     "metadata": {},
     "output_type": "execute_result"
    }
   ],
   "source": [
    "pearsonr_ci_docked_si"
   ]
  },
  {
   "cell_type": "code",
   "execution_count": 19,
   "metadata": {},
   "outputs": [
    {
     "data": {
      "text/plain": [
       "{30: (0.6656586430897223, 0.6191025848988843, 0.7071141003743997),\n",
       " 40: (0.6912263367490572, 0.646206767697391, 0.7308093094059908),\n",
       " 50: (0.7015456794383016, 0.6571238189144453, 0.7403780434508314),\n",
       " 70: (0.7129654154734528, 0.6693445091111934, 0.7509937444080956),\n",
       " 90: (0.7159675362640138, 0.6721432740175579, 0.7547605783836621),\n",
       " 95: (0.7141030679223483, 0.6695906378289265, 0.7531093592035177),\n",
       " 100: (0.7232433218886716, 0.6803722349588313, 0.7609198558777046),\n",
       " 'All': (0.7866430614997031, 0.7480014913627931, 0.819873097863047)}"
      ]
     },
     "execution_count": 19,
     "metadata": {},
     "output_type": "execute_result"
    }
   ],
   "source": [
    "pearsonr_ci_docked_rdk_si"
   ]
  },
  {
   "cell_type": "code",
   "execution_count": null,
   "metadata": {},
   "outputs": [],
   "source": []
  }
 ],
 "metadata": {
  "kernelspec": {
   "display_name": "Python 3.8.3 64-bit ('base')",
   "language": "python",
   "name": "python38364bitbasee0e66f8e4cdf4b30a175922b5b25ea0e"
  },
  "language_info": {
   "codemirror_mode": {
    "name": "ipython",
    "version": 3
   },
   "file_extension": ".py",
   "mimetype": "text/x-python",
   "name": "python",
   "nbconvert_exporter": "python",
   "pygments_lexer": "ipython3",
   "version": "3.8.3"
  }
 },
 "nbformat": 4,
 "nbformat_minor": 4
}
