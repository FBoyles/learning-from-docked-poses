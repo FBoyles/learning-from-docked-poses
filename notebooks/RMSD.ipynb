{
 "cells": [
  {
   "cell_type": "code",
   "execution_count": 36,
   "metadata": {},
   "outputs": [],
   "source": [
    "from oddt.spatial import rmsd\n",
    "from oddt.toolkits import ob\n",
    "import pandas as pd\n",
    "import numpy as np\n",
    "import json\n",
    "from scipy import stats\n",
    "PDBBIND_DIR = '/home/fergus/pdbbind/v2019'\n",
    "from statistical_tests import bootstrap_pearsonr, permutation_pearsonr"
   ]
  },
  {
   "cell_type": "code",
   "execution_count": 2,
   "metadata": {},
   "outputs": [],
   "source": [
    "def calc_rmsd(pdb):\n",
    "    crystal_ligand = next(ob.readfile('sdf', f'{PDBBIND_DIR}/{pdb}/{pdb}_ligand.sdf'))\n",
    "    crystal_ligand.removeh()\n",
    "    docked_ligand = next(ob.readfile('sdf', f'../pdbbind_docked_poses/{pdb}/{pdb}_ligand_docked.sdf'))\n",
    "    docked_ligand.removeh()\n",
    "    try:\n",
    "        result = rmsd(crystal_ligand, docked_ligand, method='min_symmetry')\n",
    "    except ValueError:\n",
    "        result = rmsd(crystal_ligand, docked_ligand) # some mols appear to break matching, even though they match and rmsd can be calculated...\n",
    "    return result"
   ]
  },
  {
   "cell_type": "code",
   "execution_count": 10,
   "metadata": {},
   "outputs": [],
   "source": [
    "def calc_min_rmsd(pdb):\n",
    "    crystal_ligand = next(ob.readfile('sdf', f'{PDBBIND_DIR}/{pdb}/{pdb}_ligand.sdf'))\n",
    "    crystal_ligand.removeh()\n",
    "    docked_poses = [mol for mol in ob.readfile('sdf', f'../pdbbind_docked_poses/{pdb}/{pdb}_ligand_docked.sdf')]\n",
    "    rmsds = []\n",
    "    for docked_pose in docked_poses:\n",
    "        docked_pose.removeh()\n",
    "        try:\n",
    "            result = rmsd(crystal_ligand, docked_pose, method='min_symmetry')\n",
    "        except ValueError:\n",
    "            result = rmsd(crystal_ligand, docked_pose)\n",
    "        rmsds.append(result)\n",
    "    return min(rmsds)"
   ]
  },
  {
   "cell_type": "code",
   "execution_count": 3,
   "metadata": {},
   "outputs": [],
   "source": [
    "with open('../data/pdbbind_training_set.txt') as f:\n",
    "    train_pdbs = [l.strip() for l in f]\n",
    "    \n",
    "with open('../data/pdbbind_test_set.txt') as f:\n",
    "    test_pdbs = [l.strip() for l in f]"
   ]
  },
  {
   "cell_type": "code",
   "execution_count": 5,
   "metadata": {},
   "outputs": [],
   "source": [
    "train_rmsd = pd.Series({pdb: calc_rmsd(pdb) for pdb in train_pdbs})\n",
    "test_rmsd = pd.Series({pdb: calc_rmsd(pdb) for pdb in test_pdbs})"
   ]
  },
  {
   "cell_type": "code",
   "execution_count": 11,
   "metadata": {},
   "outputs": [],
   "source": [
    "train_min_rmsd = pd.Series({pdb: calc_min_rmsd(pdb) for pdb in train_pdbs})\n",
    "test_min_rmsd = pd.Series({pdb: calc_min_rmsd(pdb) for pdb in test_pdbs})"
   ]
  },
  {
   "cell_type": "code",
   "execution_count": 18,
   "metadata": {},
   "outputs": [
    {
     "data": {
      "text/plain": [
       "<AxesSubplot:>"
      ]
     },
     "execution_count": 18,
     "metadata": {},
     "output_type": "execute_result"
    },
    {
     "data": {
      "image/png": "[encoded data removed]",
      "text/plain": [
       "<Figure size 432x288 with 1 Axes>"
      ]
     },
     "metadata": {
      "needs_background": "light"
     },
     "output_type": "display_data"
    }
   ],
   "source": [
    "test_min_rmsd.hist(bins=np.arange(0,15))"
   ]
  },
  {
   "cell_type": "code",
   "execution_count": 27,
   "metadata": {},
   "outputs": [],
   "source": [
    "with open('../data/docked_pose_labels.json') as f:\n",
    "    docked_pose_labels = json.load(f)"
   ]
  },
  {
   "cell_type": "code",
   "execution_count": 31,
   "metadata": {},
   "outputs": [],
   "source": [
    "pdbbind_test_set_pk = pd.read_csv('../data/pdbbind_test_set_binding_affinity.csv', index_col=0, header=None, squeeze=True)\n",
    "with open('../results/pdbbind_test_set_results_protein_similarity.json') as f:\n",
    "    predicted = json.load(f)\n",
    "max_score = {}\n",
    "\n",
    "for f in predictions:\n",
    "    max_score[f] = {}\n",
    "    for c in predictions[f]:\n",
    "        max_score[f][c] = {}\n",
    "        for pdb in test_pdbs:\n",
    "            scores = [predicted[f][c][label] for label in docked_pose_labels[pdb]]\n",
    "            max_score[f][c][pdb] = np.max(scores)\n",
    "        max_score[f][c] = pd.Series(max_score[f][c])\n",
    "        \n",
    "max_score_pearsonr = {}\n",
    "for f in predictions:\n",
    "    max_score_pearsonr[f] = {}\n",
    "    for c in predictions[f]:\n",
    "        y_true = pdbbind_test_set_pk.values.ravel()\n",
    "        y_pred = max_score[f][c].loc[pdbbind_test_set_pk.index].values.ravel()\n",
    "        max_score_pearsonr[f][c] = stats.pearsonr(y_true, y_pred)[0]\n",
    "    max_score_pearsonr[f] = pd.Series(max_score_pearsonr[f])"
   ]
  },
  {
   "cell_type": "code",
   "execution_count": 41,
   "metadata": {},
   "outputs": [
    {
     "name": "stdout",
     "output_type": "stream",
     "text": [
      "LB -0.07047778917613276 -0.1506326172935119 0.011534562008798297\n",
      "LB 0.9466053394660534\n",
      "SB -0.09058362425167137 -0.17108099059397164 -0.00732051136018002\n",
      "SB 0.9821017898210179\n",
      "HB -0.07181677628448835 -0.15406830587122894 0.013239849423693181\n",
      "HB 0.9498050194980502\n"
     ]
    }
   ],
   "source": [
    "for f in predictions:\n",
    "    y_pred = pd.Series(max_score[f]['All']).loc[pdbbind_test_set_pk.index].values.ravel()\n",
    "    y_true = pdbbind_test_set_pk.values.ravel()\n",
    "    errors = np.abs(y_true - y_pred)\n",
    "    test_set_rmsd = test_min_rmsd.loc[pdbbind_test_set_pk.index].values.ravel()\n",
    "    print(f, *bootstrap_pearsonr(test_set_rmsd, errors))\n",
    "    print(f, permutation_pearsonr(test_set_rmsd, errors)[1])"
   ]
  },
  {
   "cell_type": "code",
   "execution_count": 43,
   "metadata": {},
   "outputs": [],
   "source": [
    "#y_true = pdbbind_test_set_pk.loc[pdbbind_test_set]\n",
    "\n",
    "vina_docked_scores = pd.read_csv('../results/vina_docked_predicted_pk.csv', index_col=0, squeeze=True)"
   ]
  },
  {
   "cell_type": "code",
   "execution_count": 49,
   "metadata": {},
   "outputs": [
    {
     "data": {
      "text/plain": [
       "<matplotlib.collections.PathCollection at 0x7fc977807ee0>"
      ]
     },
     "execution_count": 49,
     "metadata": {},
     "output_type": "execute_result"
    },
    {
     "data": {
      "image/png": "[encoded data removed]",
      "text/plain": [
       "<Figure size 432x288 with 1 Axes>"
      ]
     },
     "metadata": {
      "needs_background": "light"
     },
     "output_type": "display_data"
    }
   ],
   "source": [
    "from matplotlib import pyplot as plt\n",
    "diff = pdbbind_test_set_pk - vina_docked_scores.loc[pdbbind_test_set_pk.index]\n",
    "plt.scatter(test_set_rmsd, diff)"
   ]
  },
  {
   "cell_type": "code",
   "execution_count": 46,
   "metadata": {},
   "outputs": [
    {
     "data": {
      "text/plain": [
       "0\n",
       "4pcs    2.285566\n",
       "1sl3    3.930694\n",
       "3kwa    0.855935\n",
       "3bv9   -0.757665\n",
       "3ueu    0.701152\n",
       "          ...   \n",
       "4ivb    1.565473\n",
       "2wn9    3.017194\n",
       "1rnt    1.459008\n",
       "2jdm    1.235365\n",
       "4gr0    1.802865\n",
       "Length: 519, dtype: float64"
      ]
     },
     "execution_count": 46,
     "metadata": {},
     "output_type": "execute_result"
    }
   ],
   "source": [
    "plt.scatter()"
   ]
  },
  {
   "cell_type": "code",
   "execution_count": null,
   "metadata": {},
   "outputs": [],
   "source": []
  }
 ],
 "metadata": {
  "kernelspec": {
   "display_name": "Python 3.8.3 64-bit ('base')",
   "language": "python",
   "name": "python38364bitbasee0e66f8e4cdf4b30a175922b5b25ea0e"
  },
  "language_info": {
   "codemirror_mode": {
    "name": "ipython",
    "version": 3
   },
   "file_extension": ".py",
   "mimetype": "text/x-python",
   "name": "python",
   "nbconvert_exporter": "python",
   "pygments_lexer": "ipython3",
   "version": "3.8.3"
  }
 },
 "nbformat": 4,
 "nbformat_minor": 4
}
