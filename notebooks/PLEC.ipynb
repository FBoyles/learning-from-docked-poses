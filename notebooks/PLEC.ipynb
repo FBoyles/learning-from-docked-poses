{
 "cells": [
  {
   "cell_type": "code",
   "execution_count": 1,
   "metadata": {},
   "outputs": [],
   "source": [
    "from oddt.scoring.descriptors import universal_descriptor\n",
    "from oddt.fingerprints import PLEC\n",
    "from oddt.toolkits import rdk, ob\n",
    "\n",
    "from statistical_tests import bootstrap_pearsonr, permutation_pearsonr\n",
    "\n",
    "import json\n",
    "import numpy as np\n",
    "from joblib import delayed, Parallel\n",
    "from functools import partial\n",
    "from sklearn.ensemble import RandomForestRegressor\n",
    "\n",
    "from scipy import sparse, stats\n",
    "\n",
    "from oddt.fingerprints import sparse_to_csr_matrix, csr_matrix_to_sparse, fold, sparse_to_dense\n",
    "from matplotlib import pyplot as plt\n",
    "import json\n",
    "import pandas as pd\n",
    "\n",
    "class NumpyEncoder(json.JSONEncoder):\n",
    "    def default(self, obj):\n",
    "        if isinstance(obj, np.ndarray):\n",
    "            return obj.tolist()\n",
    "        return json.JSONEncoder.default(self, obj)\n",
    "\n",
    "PDBBIND_DIR = '/home/fergus/pdbbind/v2019'"
   ]
  },
  {
   "cell_type": "code",
   "execution_count": 2,
   "metadata": {},
   "outputs": [],
   "source": [
    "with open('../data/pdbbind_training_set.txt') as f:\n",
    "    train_pdbs = [l.strip() for l in f]\n",
    "    \n",
    "with open('../data/pdbbind_test_set.txt') as f:\n",
    "    test_pdbs = [l.strip() for l in f]"
   ]
  },
  {
   "cell_type": "code",
   "execution_count": 3,
   "metadata": {},
   "outputs": [],
   "source": [
    "@delayed\n",
    "def build(pdb):\n",
    "    protein = next(ob.readfile('pdb', f'{PDBBIND_DIR}/{pdb}/{pdb}_protein.pdb'))\n",
    "    protein.protein = True\n",
    "    # crystal\n",
    "    ligand = next(ob.readfile('sdf', f'{PDBBIND_DIR}/{pdb}/{pdb}_ligand.sdf'))\n",
    "    features_c = PLEC(ligand, protein, depth_ligand=1, depth_protein=5, size=65536, count_bits=True, sparse=True, ignore_hoh=True)\n",
    "    # docked        \n",
    "    ligand = next(ob.readfile('sdf', f'../pdbbind_docked_poses/{pdb}/{pdb}_ligand_docked.sdf'))\n",
    "    features_d = PLEC(ligand, protein, depth_ligand=1, depth_protein=5, size=65536, count_bits=True, sparse=True, ignore_hoh=True)\n",
    "    return (features_c, features_d)"
   ]
  },
  {
   "cell_type": "code",
   "execution_count": 114,
   "metadata": {
    "collapsed": true,
    "jupyter": {
     "outputs_hidden": true
    }
   },
   "outputs": [
    {
     "name": "stderr",
     "output_type": "stream",
     "text": [
      "[Parallel(n_jobs=6)]: Using backend LokyBackend with 6 concurrent workers.\n",
      "[Parallel(n_jobs=6)]: Done   1 tasks      | elapsed:    1.6s\n",
      "[Parallel(n_jobs=6)]: Done   6 tasks      | elapsed:    2.4s\n",
      "[Parallel(n_jobs=6)]: Done  13 tasks      | elapsed:    4.1s\n",
      "[Parallel(n_jobs=6)]: Done  20 tasks      | elapsed:   11.0s\n",
      "[Parallel(n_jobs=6)]: Done  29 tasks      | elapsed:   15.2s\n",
      "[Parallel(n_jobs=6)]: Done  38 tasks      | elapsed:   22.2s\n",
      "[Parallel(n_jobs=6)]: Done  49 tasks      | elapsed:   31.7s\n",
      "[Parallel(n_jobs=6)]: Done  60 tasks      | elapsed:   33.2s\n",
      "[Parallel(n_jobs=6)]: Done  73 tasks      | elapsed:   35.7s\n",
      "[Parallel(n_jobs=6)]: Done  86 tasks      | elapsed:   40.3s\n",
      "[Parallel(n_jobs=6)]: Done 101 tasks      | elapsed:   46.7s\n",
      "[Parallel(n_jobs=6)]: Done 116 tasks      | elapsed:   51.0s\n",
      "[Parallel(n_jobs=6)]: Done 133 tasks      | elapsed:   55.4s\n",
      "[Parallel(n_jobs=6)]: Done 150 tasks      | elapsed:  1.1min\n",
      "[Parallel(n_jobs=6)]: Done 169 tasks      | elapsed:  1.3min\n",
      "[Parallel(n_jobs=6)]: Done 188 tasks      | elapsed:  1.6min\n",
      "[Parallel(n_jobs=6)]: Done 209 tasks      | elapsed:  1.8min\n",
      "[Parallel(n_jobs=6)]: Done 230 tasks      | elapsed:  1.9min\n",
      "[Parallel(n_jobs=6)]: Done 253 tasks      | elapsed:  2.0min\n",
      "[Parallel(n_jobs=6)]: Done 276 tasks      | elapsed:  2.0min\n",
      "[Parallel(n_jobs=6)]: Done 301 tasks      | elapsed:  2.1min\n",
      "[Parallel(n_jobs=6)]: Done 326 tasks      | elapsed:  2.4min\n",
      "[Parallel(n_jobs=6)]: Done 353 tasks      | elapsed:  2.6min\n",
      "[Parallel(n_jobs=6)]: Done 380 tasks      | elapsed:  3.4min\n",
      "[Parallel(n_jobs=6)]: Done 409 tasks      | elapsed:  3.8min\n",
      "[Parallel(n_jobs=6)]: Done 438 tasks      | elapsed:  4.3min\n",
      "[Parallel(n_jobs=6)]: Done 469 tasks      | elapsed:  4.6min\n",
      "[Parallel(n_jobs=6)]: Done 500 tasks      | elapsed:  4.9min\n",
      "[Parallel(n_jobs=6)]: Done 533 tasks      | elapsed:  5.3min\n",
      "[Parallel(n_jobs=6)]: Done 566 tasks      | elapsed:  5.5min\n",
      "[Parallel(n_jobs=6)]: Done 601 tasks      | elapsed:  5.9min\n",
      "[Parallel(n_jobs=6)]: Done 636 tasks      | elapsed:  6.3min\n",
      "[Parallel(n_jobs=6)]: Done 673 tasks      | elapsed:  6.6min\n",
      "[Parallel(n_jobs=6)]: Done 710 tasks      | elapsed:  6.9min\n",
      "[Parallel(n_jobs=6)]: Done 749 tasks      | elapsed:  7.1min\n",
      "[Parallel(n_jobs=6)]: Done 788 tasks      | elapsed:  7.8min\n",
      "[Parallel(n_jobs=6)]: Done 829 tasks      | elapsed:  8.3min\n",
      "[Parallel(n_jobs=6)]: Done 870 tasks      | elapsed:  9.3min\n",
      "[Parallel(n_jobs=6)]: Done 913 tasks      | elapsed:  9.9min\n",
      "[Parallel(n_jobs=6)]: Done 956 tasks      | elapsed: 10.2min\n",
      "[Parallel(n_jobs=6)]: Done 1001 tasks      | elapsed: 10.6min\n",
      "[Parallel(n_jobs=6)]: Done 1046 tasks      | elapsed: 10.9min\n",
      "[Parallel(n_jobs=6)]: Done 1093 tasks      | elapsed: 11.3min\n",
      "[Parallel(n_jobs=6)]: Done 1140 tasks      | elapsed: 11.9min\n",
      "[Parallel(n_jobs=6)]: Done 1189 tasks      | elapsed: 12.4min\n",
      "[Parallel(n_jobs=6)]: Done 1238 tasks      | elapsed: 13.3min\n",
      "[Parallel(n_jobs=6)]: Done 1289 tasks      | elapsed: 13.9min\n",
      "[Parallel(n_jobs=6)]: Done 1340 tasks      | elapsed: 14.4min\n",
      "[Parallel(n_jobs=6)]: Done 1393 tasks      | elapsed: 16.4min\n",
      "[Parallel(n_jobs=6)]: Done 1446 tasks      | elapsed: 17.0min\n",
      "[Parallel(n_jobs=6)]: Done 1501 tasks      | elapsed: 17.7min\n",
      "[Parallel(n_jobs=6)]: Done 1556 tasks      | elapsed: 18.0min\n",
      "[Parallel(n_jobs=6)]: Done 1613 tasks      | elapsed: 18.7min\n",
      "[Parallel(n_jobs=6)]: Done 1670 tasks      | elapsed: 19.8min\n",
      "[Parallel(n_jobs=6)]: Done 1729 tasks      | elapsed: 20.6min\n",
      "[Parallel(n_jobs=6)]: Done 1788 tasks      | elapsed: 21.4min\n",
      "[Parallel(n_jobs=6)]: Done 1849 tasks      | elapsed: 23.6min\n",
      "[Parallel(n_jobs=6)]: Done 1910 tasks      | elapsed: 23.9min\n",
      "[Parallel(n_jobs=6)]: Done 1973 tasks      | elapsed: 24.6min\n",
      "[Parallel(n_jobs=6)]: Done 2036 tasks      | elapsed: 25.2min\n",
      "[Parallel(n_jobs=6)]: Done 2101 tasks      | elapsed: 25.7min\n",
      "[Parallel(n_jobs=6)]: Done 2166 tasks      | elapsed: 27.0min\n",
      "[Parallel(n_jobs=6)]: Done 2233 tasks      | elapsed: 28.6min\n",
      "[Parallel(n_jobs=6)]: Done 2300 tasks      | elapsed: 29.3min\n",
      "[Parallel(n_jobs=6)]: Done 2369 tasks      | elapsed: 30.1min\n",
      "[Parallel(n_jobs=6)]: Done 2438 tasks      | elapsed: 31.3min\n",
      "[Parallel(n_jobs=6)]: Done 2509 tasks      | elapsed: 32.5min\n",
      "[Parallel(n_jobs=6)]: Done 2580 tasks      | elapsed: 34.2min\n",
      "[Parallel(n_jobs=6)]: Done 2653 tasks      | elapsed: 35.1min\n",
      "[Parallel(n_jobs=6)]: Done 2726 tasks      | elapsed: 36.4min\n",
      "[Parallel(n_jobs=6)]: Done 2801 tasks      | elapsed: 37.0min\n",
      "[Parallel(n_jobs=6)]: Done 2876 tasks      | elapsed: 37.6min\n",
      "[Parallel(n_jobs=6)]: Done 2953 tasks      | elapsed: 38.2min\n",
      "[Parallel(n_jobs=6)]: Done 3030 tasks      | elapsed: 38.6min\n",
      "[Parallel(n_jobs=6)]: Done 3109 tasks      | elapsed: 39.2min\n",
      "[Parallel(n_jobs=6)]: Done 3188 tasks      | elapsed: 39.5min\n",
      "[Parallel(n_jobs=6)]: Done 3269 tasks      | elapsed: 39.9min\n",
      "[Parallel(n_jobs=6)]: Done 3350 tasks      | elapsed: 40.2min\n",
      "[Parallel(n_jobs=6)]: Done 3433 tasks      | elapsed: 40.6min\n",
      "[Parallel(n_jobs=6)]: Done 3516 tasks      | elapsed: 41.0min\n",
      "[Parallel(n_jobs=6)]: Done 3601 tasks      | elapsed: 41.5min\n",
      "[Parallel(n_jobs=6)]: Done 3686 tasks      | elapsed: 41.9min\n",
      "[Parallel(n_jobs=6)]: Done 3752 out of 3752 | elapsed: 42.5min finished\n"
     ]
    }
   ],
   "source": [
    "plecs_xtal = {}\n",
    "\n",
    "with Parallel(n_jobs=6, verbose=10) as parallel:\n",
    "    plecs_xtal = parallel(build_plec(pdb) for pdb in pdbs)"
   ]
  },
  {
   "cell_type": "code",
   "execution_count": 113,
   "metadata": {},
   "outputs": [],
   "source": [
    "\n",
    "with open('pdbbind_training_set_docked_plec_sparse.json', 'w') as f:\n",
    "    json.dump(plecs, f, cls=NumpyEncoder)"
   ]
  },
  {
   "cell_type": "code",
   "execution_count": 115,
   "metadata": {},
   "outputs": [],
   "source": [
    "with open('pdbbind_training_set_crystal_plec_sparse.json', 'w') as f:\n",
    "    json.dump(plecs_xtal, f, cls=NumpyEncoder)"
   ]
  },
  {
   "cell_type": "code",
   "execution_count": 121,
   "metadata": {},
   "outputs": [],
   "source": [
    "y = []\n",
    "x_docked = []\n",
    "x_crystal = []\n",
    "labels = []\n",
    "for plec_docked, plec_crystal, pdb in zip(plecs, plecs_xtal, pdbs):\n",
    "    y.append(1)\n",
    "    x_docked.append(sparse_to_csr_matrix(plec_docked, size=65536))\n",
    "    x_crystal.append(sparse_to_csr_matrix(plec_crystal, size=65536))\n",
    "    labels.append(pdb)\n",
    "    #x.append(sparse_to_dense(plec, size=65536).tolist())\n",
    "x_crystal = sparse.vstack(x_crystal, format='csr')\n",
    "x_docked = sparse.vstack(x_docked, format='csr')"
   ]
  },
  {
   "cell_type": "code",
   "execution_count": 125,
   "metadata": {},
   "outputs": [
    {
     "data": {
      "text/plain": [
       "93.53553550628129"
      ]
     },
     "execution_count": 125,
     "metadata": {},
     "output_type": "execute_result"
    }
   ],
   "source": [
    "1792298/1916168 * 100"
   ]
  },
  {
   "cell_type": "code",
   "execution_count": 126,
   "metadata": {},
   "outputs": [
    {
     "data": {
      "text/plain": [
       "510.7057569296375"
      ]
     },
     "execution_count": 126,
     "metadata": {},
     "output_type": "execute_result"
    }
   ],
   "source": [
    "1916168/len(pdbs)"
   ]
  },
  {
   "cell_type": "markdown",
   "metadata": {},
   "source": [
    "Docked poses have approx 93% the number of 'on' bits as crystal poses. Average of 510 of ~65.5k bits so very sparse!"
   ]
  },
  {
   "cell_type": "code",
   "execution_count": 122,
   "metadata": {},
   "outputs": [
    {
     "data": {
      "text/plain": [
       "<3752x65536 sparse matrix of type '<class 'numpy.uint8'>'\n",
       "\twith 1916168 stored elements in Compressed Sparse Row format>"
      ]
     },
     "execution_count": 122,
     "metadata": {},
     "output_type": "execute_result"
    }
   ],
   "source": [
    "x_crystal"
   ]
  },
  {
   "cell_type": "code",
   "execution_count": 123,
   "metadata": {},
   "outputs": [
    {
     "data": {
      "text/plain": [
       "<3752x65536 sparse matrix of type '<class 'numpy.uint8'>'\n",
       "\twith 1792298 stored elements in Compressed Sparse Row format>"
      ]
     },
     "execution_count": 123,
     "metadata": {},
     "output_type": "execute_result"
    }
   ],
   "source": [
    "x_docked"
   ]
  },
  {
   "cell_type": "code",
   "execution_count": 73,
   "metadata": {},
   "outputs": [],
   "source": [
    "from oddt.fingerprints import sparse_to_csr_matrix, csr_matrix_to_sparse, fold"
   ]
  },
  {
   "cell_type": "code",
   "execution_count": 8,
   "metadata": {},
   "outputs": [
    {
     "name": "stderr",
     "output_type": "stream",
     "text": [
      "[Parallel(n_jobs=6)]: Using backend LokyBackend with 6 concurrent workers.\n",
      "[Parallel(n_jobs=6)]: Done   1 tasks      | elapsed:    2.1s\n",
      "[Parallel(n_jobs=6)]: Done   6 tasks      | elapsed:    3.0s\n",
      "[Parallel(n_jobs=6)]: Done  13 tasks      | elapsed:    7.5s\n",
      "[Parallel(n_jobs=6)]: Done  20 tasks      | elapsed:   10.1s\n",
      "[Parallel(n_jobs=6)]: Done  29 tasks      | elapsed:   16.0s\n",
      "[Parallel(n_jobs=6)]: Done  38 tasks      | elapsed:   20.5s\n",
      "[Parallel(n_jobs=6)]: Done  49 tasks      | elapsed:   26.3s\n",
      "[Parallel(n_jobs=6)]: Done  60 tasks      | elapsed:   44.0s\n",
      "[Parallel(n_jobs=6)]: Done  73 tasks      | elapsed:   52.0s\n",
      "[Parallel(n_jobs=6)]: Done  86 tasks      | elapsed:  1.1min\n",
      "[Parallel(n_jobs=6)]: Done 101 tasks      | elapsed:  1.3min\n",
      "[Parallel(n_jobs=6)]: Done 116 tasks      | elapsed:  1.5min\n",
      "[Parallel(n_jobs=6)]: Done 133 tasks      | elapsed:  1.9min\n",
      "[Parallel(n_jobs=6)]: Done 150 tasks      | elapsed:  2.2min\n",
      "[Parallel(n_jobs=6)]: Done 169 tasks      | elapsed:  2.4min\n",
      "[Parallel(n_jobs=6)]: Done 188 tasks      | elapsed:  2.7min\n",
      "[Parallel(n_jobs=6)]: Done 209 tasks      | elapsed:  3.1min\n",
      "[Parallel(n_jobs=6)]: Done 230 tasks      | elapsed:  3.6min\n",
      "[Parallel(n_jobs=6)]: Done 253 tasks      | elapsed:  4.1min\n",
      "[Parallel(n_jobs=6)]: Done 276 tasks      | elapsed:  4.5min\n",
      "[Parallel(n_jobs=6)]: Done 301 tasks      | elapsed:  5.1min\n",
      "[Parallel(n_jobs=6)]: Done 326 tasks      | elapsed:  5.2min\n",
      "[Parallel(n_jobs=6)]: Done 353 tasks      | elapsed:  5.5min\n",
      "[Parallel(n_jobs=6)]: Done 380 tasks      | elapsed:  6.2min\n",
      "[Parallel(n_jobs=6)]: Done 409 tasks      | elapsed:  7.0min\n",
      "[Parallel(n_jobs=6)]: Done 438 tasks      | elapsed:  7.5min\n",
      "[Parallel(n_jobs=6)]: Done 469 tasks      | elapsed:  8.0min\n",
      "[Parallel(n_jobs=6)]: Done 500 tasks      | elapsed:  8.6min\n",
      "[Parallel(n_jobs=6)]: Done 519 out of 519 | elapsed:  8.9min finished\n"
     ]
    }
   ],
   "source": [
    "with Parallel(n_jobs=6, verbose=10) as parallel:\n",
    "    test_features = parallel(build(pdb) for pdb in test_pdbs)"
   ]
  },
  {
   "cell_type": "code",
   "execution_count": 14,
   "metadata": {},
   "outputs": [],
   "source": [
    "test_features_crystal = {}\n",
    "test_features_docked = {}\n",
    "\n",
    "for feature, pdb in zip(test_features, test_pdbs):\n",
    "    test_features_crystal[pdb] = feature[0]\n",
    "    test_features_docked[pdb] = feature[1]\n",
    "    \n",
    "with open('pdbbind_test_set_docked_plec_sparse.json', 'w') as f:\n",
    "    json.dump(test_features_docked, f, cls=NumpyEncoder)\n",
    "    \n",
    "with open('pdbbind_test_set_crystal_plec_sparse.json', 'w') as f:\n",
    "    json.dump(test_features_crystal, f, cls=NumpyEncoder)"
   ]
  },
  {
   "cell_type": "code",
   "execution_count": 3,
   "metadata": {},
   "outputs": [],
   "source": [
    "with open('pdbbind_training_set_docked_plec_sparse.json') as f:\n",
    "    train_features_docked = json.load(f)\n",
    "    \n",
    "with open('pdbbind_training_set_crystal_plec_sparse.json') as f:\n",
    "    train_features_crystal = json.load(f)"
   ]
  },
  {
   "cell_type": "code",
   "execution_count": 4,
   "metadata": {},
   "outputs": [],
   "source": [
    "with open('pdbbind_test_set_docked_plec_sparse.json') as f:\n",
    "    test_features_docked = json.load(f)\n",
    "    \n",
    "with open('pdbbind_test_set_crystal_plec_sparse.json') as f:\n",
    "    test_features_crystal = json.load(f)"
   ]
  },
  {
   "cell_type": "code",
   "execution_count": 5,
   "metadata": {},
   "outputs": [],
   "source": [
    "from sklearn.decomposition import TruncatedSVD\n",
    "\n",
    "X_train_sparse = sparse.vstack([sparse_to_csr_matrix(plec, size=65536) for plec in train_features_crystal], format='csr')\n",
    "X_test_sparse = sparse.vstack([sparse_to_csr_matrix(test_features_crystal[pdb], size=65536) for pdb in test_features_crystal], format='csr')\n",
    "\n",
    "svd = TruncatedSVD(n_components=200, random_state=42).fit(X_train_sparse)\n",
    "X_train_svd = svd.transform(X_train_sparse)\n",
    "X_test_svd = svd.transform(X_test_sparse)"
   ]
  },
  {
   "cell_type": "code",
   "execution_count": 12,
   "metadata": {},
   "outputs": [
    {
     "name": "stdout",
     "output_type": "stream",
     "text": [
      "0.7337512171702328\n"
     ]
    },
    {
     "data": {
      "text/plain": [
       "<matplotlib.collections.PathCollection at 0x7faa81ad4a00>"
      ]
     },
     "execution_count": 12,
     "metadata": {},
     "output_type": "execute_result"
    },
    {
     "data": {
      "image/png": "[encoded data removed]",
      "text/plain": [
       "<Figure size 432x288 with 1 Axes>"
      ]
     },
     "metadata": {
      "needs_background": "light"
     },
     "output_type": "display_data"
    }
   ],
   "source": [
    "rf = RandomForestRegressor(n_estimators=500, max_features=0.33, random_state=42, n_jobs=8)\n",
    "rf.fit(X_train_svd, train_affinity.values.ravel())\n",
    "print(stats.pearsonr(test_affinity.values.ravel(), rf.predict(X_test_svd))[0])\n",
    "plt.scatter(test_affinity.values.ravel(), rf.predict(X_test_svd))"
   ]
  },
  {
   "cell_type": "code",
   "execution_count": 23,
   "metadata": {},
   "outputs": [],
   "source": [
    "train_affinity = pd.read_csv('../data/pdbbind_training_set_binding_affinity.csv', index_col=0, header=None, squeeze=True)\n",
    "test_affinity = pd.read_csv('../data/pdbbind_test_set_binding_affinity.csv', index_col=0, header=None, squeeze=True)"
   ]
  },
  {
   "cell_type": "code",
   "execution_count": 8,
   "metadata": {},
   "outputs": [],
   "source": [
    "y_train = []\n",
    "X_train_crystal = []\n",
    "X_train_docked = []\n",
    "labels = []\n",
    "for plec_docked, plec_crystal, pdb in zip(train_features_crystal, train_features_docked, train_pdbs):\n",
    "    X_train_crystal.append(sparse_to_csr_matrix(plec_crystal, size=65536))\n",
    "    X_train_docked.append(sparse_to_csr_matrix(plec_docked, size=65536))\n",
    "    y_train.append(train_affinity.loc[pdb])\n",
    "X_train_crystal = sparse.vstack(X_train_crystal, format='csr')\n",
    "X_train_docked = sparse.vstack(X_train_docked, format='csr')"
   ]
  },
  {
   "cell_type": "code",
   "execution_count": 9,
   "metadata": {},
   "outputs": [],
   "source": [
    "y_test = []\n",
    "X_test_crystal = []\n",
    "X_test_docked = []\n",
    "labels = []\n",
    "for pdb in test_pdbs:\n",
    "    X_test_crystal.append(sparse_to_csr_matrix(test_features_crystal[pdb], size=65536))\n",
    "    X_test_docked.append(sparse_to_csr_matrix(test_features_docked[pdb], size=65536))\n",
    "    y_test.append(test_affinity.loc[pdb])\n",
    "X_test_crystal = sparse.vstack(X_test_crystal, format='csr')\n",
    "X_test_docked = sparse.vstack(X_test_docked, format='csr')"
   ]
  },
  {
   "cell_type": "code",
   "execution_count": 38,
   "metadata": {},
   "outputs": [
    {
     "name": "stdout",
     "output_type": "stream",
     "text": [
      "CPU times: user 1h 54min 36s, sys: 9.37 s, total: 1h 54min 45s\n",
      "Wall time: 15min 32s\n"
     ]
    },
    {
     "data": {
      "text/plain": [
       "RandomForestRegressor(max_features=0.33, n_estimators=500, n_jobs=8,\n",
       "                      oob_score=True, random_state=42)"
      ]
     },
     "execution_count": 38,
     "metadata": {},
     "output_type": "execute_result"
    }
   ],
   "source": [
    "%%time\n",
    "rf_crystal = RandomForestRegressor(n_estimators=500, max_features=0.33,random_state=42, n_jobs=8, oob_score=True)\n",
    "rf_crystal.fit(X_train_crystal, y_train)\n",
    "rf_docked = RandomForestRegressor(n_estimators=500, max_features=0.33,random_state=42, n_jobs=8, oob_score=True)\n",
    "rf_docked.fit(X_train_docked, y_train)"
   ]
  },
  {
   "cell_type": "code",
   "execution_count": 39,
   "metadata": {},
   "outputs": [],
   "source": [
    "predicted_crystal = rf_crystal.predict(X_test_crystal)\n",
    "predicted_docked = rf_docked.predict(X_test_docked)"
   ]
  },
  {
   "cell_type": "code",
   "execution_count": 44,
   "metadata": {},
   "outputs": [
    {
     "name": "stdout",
     "output_type": "stream",
     "text": [
      "0.7036850723759726\n"
     ]
    },
    {
     "data": {
      "image/png": "[encoded data removed]",
      "text/plain": [
       "<Figure size 432x288 with 1 Axes>"
      ]
     },
     "metadata": {
      "needs_background": "light"
     },
     "output_type": "display_data"
    }
   ],
   "source": [
    "plt.scatter(y_test, predicted_crystal)\n",
    "print(stats.pearsonr(y_test, predicted_crystal)[0])"
   ]
  },
  {
   "cell_type": "code",
   "execution_count": 45,
   "metadata": {},
   "outputs": [
    {
     "name": "stdout",
     "output_type": "stream",
     "text": [
      "0.6589021380413864\n"
     ]
    },
    {
     "data": {
      "image/png": "[encoded data removed]",
      "text/plain": [
       "<Figure size 432x288 with 1 Axes>"
      ]
     },
     "metadata": {
      "needs_background": "light"
     },
     "output_type": "display_data"
    }
   ],
   "source": [
    "plt.scatter(y_test, predicted_docked)\n",
    "print(stats.pearsonr(y_test, predicted_docked)[0])"
   ]
  },
  {
   "cell_type": "code",
   "execution_count": 47,
   "metadata": {},
   "outputs": [
    {
     "name": "stdout",
     "output_type": "stream",
     "text": [
      "CPU times: user 42min 54s, sys: 3 s, total: 42min 57s\n",
      "Wall time: 5min 52s\n"
     ]
    },
    {
     "data": {
      "text/plain": [
       "RandomForestRegressor(n_jobs=8, oob_score=True, random_state=0)"
      ]
     },
     "execution_count": 47,
     "metadata": {},
     "output_type": "execute_result"
    }
   ],
   "source": [
    "%%time\n",
    "\n",
    "# using original plecscore params\n",
    "plecscore_crystal = RandomForestRegressor(n_estimators=100, random_state=0, n_jobs=8, oob_score=True)\n",
    "plecscore_crystal.fit(X_train_crystal, y_train)\n",
    "plecscore_docked = RandomForestRegressor(n_estimators=100, random_state=0, n_jobs=8, oob_score=True)\n",
    "plecscore_docked.fit(X_train_docked, y_train)"
   ]
  },
  {
   "cell_type": "code",
   "execution_count": 48,
   "metadata": {},
   "outputs": [],
   "source": [
    "predicted_plecscore_crystal = plecscore_crystal.predict(X_test_crystal)\n",
    "predicted_plecscore_docked = plecscore_docked.predict(X_test_docked)"
   ]
  },
  {
   "cell_type": "code",
   "execution_count": 49,
   "metadata": {},
   "outputs": [
    {
     "name": "stdout",
     "output_type": "stream",
     "text": [
      "0.6855406644517302\n"
     ]
    },
    {
     "data": {
      "image/png": "[encoded data removed]",
      "text/plain": [
       "<Figure size 432x288 with 1 Axes>"
      ]
     },
     "metadata": {
      "needs_background": "light"
     },
     "output_type": "display_data"
    }
   ],
   "source": [
    "plt.scatter(y_test, predicted_plecscore_crystal)\n",
    "print(stats.pearsonr(y_test, predicted_plecscore_crystal)[0])"
   ]
  },
  {
   "cell_type": "code",
   "execution_count": 50,
   "metadata": {},
   "outputs": [
    {
     "name": "stdout",
     "output_type": "stream",
     "text": [
      "0.6449895681766727\n"
     ]
    },
    {
     "data": {
      "image/png": "[encoded data removed]",
      "text/plain": [
       "<Figure size 432x288 with 1 Axes>"
      ]
     },
     "metadata": {
      "needs_background": "light"
     },
     "output_type": "display_data"
    }
   ],
   "source": [
    "plt.scatter(y_test, predicted_plecscore_docked)\n",
    "print(stats.pearsonr(y_test, predicted_plecscore_docked)[0])"
   ]
  },
  {
   "cell_type": "code",
   "execution_count": 6,
   "metadata": {},
   "outputs": [
    {
     "ename": "NameError",
     "evalue": "name 'train_features_dense_docked' is not defined",
     "output_type": "error",
     "traceback": [
      "\u001b[0;31m---------------------------------------------------------------------------\u001b[0m",
      "\u001b[0;31mNameError\u001b[0m                                 Traceback (most recent call last)",
      "\u001b[0;32m<ipython-input-6-7e7c6e8b50b4>\u001b[0m in \u001b[0;36m<module>\u001b[0;34m\u001b[0m\n\u001b[1;32m      1\u001b[0m \u001b[0;32mdel\u001b[0m \u001b[0mtrain_features_docked\u001b[0m\u001b[0;34m\u001b[0m\u001b[0;34m\u001b[0m\u001b[0m\n\u001b[1;32m      2\u001b[0m \u001b[0;32mdel\u001b[0m \u001b[0mtest_features_docked\u001b[0m\u001b[0;34m\u001b[0m\u001b[0;34m\u001b[0m\u001b[0m\n\u001b[0;32m----> 3\u001b[0;31m \u001b[0;32mdel\u001b[0m \u001b[0mtrain_features_dense_docked\u001b[0m\u001b[0;34m\u001b[0m\u001b[0;34m\u001b[0m\u001b[0m\n\u001b[0m\u001b[1;32m      4\u001b[0m \u001b[0;32mdel\u001b[0m \u001b[0mtest_features_dense_docked\u001b[0m\u001b[0;34m\u001b[0m\u001b[0;34m\u001b[0m\u001b[0m\n",
      "\u001b[0;31mNameError\u001b[0m: name 'train_features_dense_docked' is not defined"
     ]
    }
   ],
   "source": [
    "del train_features_docked\n",
    "del test_features_docked\n",
    "del train_features_dense_docked\n",
    "del test_features_dense_docked"
   ]
  },
  {
   "cell_type": "code",
   "execution_count": 6,
   "metadata": {},
   "outputs": [],
   "source": [
    "pdbbind_training_set = pd.Index(train_pdbs)\n",
    "pdbbind_test_set = pd.Index(test_pdbs)"
   ]
  },
  {
   "cell_type": "code",
   "execution_count": 7,
   "metadata": {},
   "outputs": [],
   "source": [
    "blast_clusters = {}\n",
    "for cutoff in [30, 40, 50, 70, 90, 95, 100]:\n",
    "    with open(f'../data/bc-{cutoff}.out') as f:\n",
    "        blast_clusters[cutoff] = [set(item[:4].lower() for item in line.strip().split()) for line in f]\n",
    "\n",
    "test_set_similar_pdbs = {}\n",
    "for cutoff in blast_clusters:\n",
    "    pdbs = set()\n",
    "    for pdb in pdbbind_test_set:\n",
    "        for cluster in blast_clusters[cutoff]:\n",
    "            if pdb in cluster:\n",
    "                pdbs.update(cluster)\n",
    "    test_set_similar_pdbs[cutoff] = pd.Index(pdbs).intersection(pdbbind_training_set)\n",
    "\n",
    "test_set_similar_pdbs['All'] = pd.Index([])"
   ]
  },
  {
   "cell_type": "code",
   "execution_count": 8,
   "metadata": {},
   "outputs": [],
   "source": [
    "with open('../data/pdbbind_ligand_tanimoto_similarity.json') as f:\n",
    "    tanimoto_similarity = json.load(f)\n",
    "\n",
    "tc_thresholds = [0.3, 0.4, 0.5, 0.6, 0.7, 0.8, 0.9, 1.0]\n",
    "\n",
    "test_set_similar_ligands = {}\n",
    "\n",
    "for t in tc_thresholds:\n",
    "    similar = set()\n",
    "    for pdb_test in pdbbind_test_set:\n",
    "        for pdb_train in pdbbind_training_set:\n",
    "            if pdb_train in similar:\n",
    "                continue\n",
    "            if tanimoto_similarity[pdb_test][pdb_train] >= t:\n",
    "                similar.add(pdb_train)\n",
    "    test_set_similar_ligands[t] = pd.Index(similar)\n",
    "test_set_similar_ligands['All'] = pd.Index([])"
   ]
  },
  {
   "cell_type": "code",
   "execution_count": 13,
   "metadata": {},
   "outputs": [],
   "source": [
    "y_train = []\n",
    "X_train_crystal = []\n",
    "X_train_docked = []\n",
    "labels = []\n",
    "for plec_docked, plec_crystal, pdb in zip(train_features_crystal, train_features_docked, train_pdbs):\n",
    "    X_train_crystal.append(sparse_to_csr_matrix(plec_crystal, size=65536))\n",
    "    X_train_docked.append(sparse_to_csr_matrix(plec_docked, size=65536))\n",
    "    y_train.append(train_affinity.loc[pdb])\n",
    "X_train_crystal = sparse.vstack(X_train_crystal, format='csr')\n",
    "X_train_docked = sparse.vstack(X_train_docked, format='csr')"
   ]
  },
  {
   "cell_type": "code",
   "execution_count": 14,
   "metadata": {},
   "outputs": [],
   "source": [
    "y_test = []\n",
    "X_test_crystal = []\n",
    "X_test_docked = []\n",
    "labels = []\n",
    "for pdb in test_pdbs:\n",
    "    X_test_crystal.append(sparse_to_csr_matrix(test_features_crystal[pdb], size=65536))\n",
    "    X_test_docked.append(sparse_to_csr_matrix(test_features_docked[pdb], size=65536))\n",
    "    y_test.append(test_affinity.loc[pdb])\n",
    "X_test_crystal = sparse.vstack(X_test_crystal, format='csr')\n",
    "X_test_docked = sparse.vstack(X_test_docked, format='csr')"
   ]
  },
  {
   "cell_type": "code",
   "execution_count": 17,
   "metadata": {},
   "outputs": [
    {
     "name": "stdout",
     "output_type": "stream",
     "text": [
      "30\n",
      "40\n",
      "50\n",
      "70\n",
      "90\n",
      "95\n",
      "100\n",
      "All\n",
      "CPU times: user 7h 17min 48s, sys: 19.3 s, total: 7h 18min 8s\n",
      "Wall time: 59min 9s\n"
     ]
    }
   ],
   "source": [
    "%%time\n",
    "predicted_crystal_sequence_identity = {}\n",
    "predicted_docked_sequence_identity = {}\n",
    "pearsonr_crystal_sequence_identity = {}\n",
    "pearsonr_docked_sequence_identity = {}\n",
    "\n",
    "X_test_crystal = []\n",
    "X_test_docked = []\n",
    "y_test = []\n",
    "for pdb in pdbbind_test_set:\n",
    "    X_test_crystal.append(sparse_to_csr_matrix(test_features_crystal[pdb], size=65536))\n",
    "    X_test_docked.append(sparse_to_csr_matrix(test_features_docked[pdb], size=65536))\n",
    "    y_test.append(test_affinity.loc[pdb])\n",
    "X_test_crystal = sparse.vstack(X_test_crystal, format='csr')\n",
    "X_test_docked = sparse.vstack(X_test_docked, format='csr')\n",
    "\n",
    "for cutoff in test_set_similar_pdbs:\n",
    "    print(cutoff)\n",
    "    y_train = []\n",
    "    X_train_crystal = []\n",
    "    X_train_docked = []\n",
    "    for plec_docked, plec_crystal, pdb in zip(train_features_crystal, train_features_docked, pdbbind_training_set):\n",
    "        if pdb in test_set_similar_pdbs[cutoff]:\n",
    "            continue\n",
    "        X_train_crystal.append(sparse_to_csr_matrix(plec_crystal, size=65536))\n",
    "        X_train_docked.append(sparse_to_csr_matrix(plec_docked, size=65536))\n",
    "        y_train.append(train_affinity.loc[pdb])\n",
    "    X_train_crystal = sparse.vstack(X_train_crystal, format='csr')\n",
    "    X_train_docked = sparse.vstack(X_train_docked, format='csr')\n",
    "    \n",
    "    rf_crystal = RandomForestRegressor(n_estimators=500, max_features=0.33,random_state=42, n_jobs=8, oob_score=True)\n",
    "    rf_crystal.fit(X_train_crystal, y_train)\n",
    "    rf_docked = RandomForestRegressor(n_estimators=500, max_features=0.33,random_state=42, n_jobs=8, oob_score=True)\n",
    "    rf_docked.fit(X_train_docked, y_train)\n",
    "    \n",
    "    predicted_crystal = rf_crystal.predict(X_test_crystal)\n",
    "    predicted_docked = rf_docked.predict(X_test_docked)\n",
    "    predicted_crystal_sequence_identity[cutoff] = {pdb: pred for pdb, pred in zip(pdbbind_test_set, predicted_crystal)}\n",
    "    predicted_docked_sequence_identity[cutoff] = {pdb: pred for pdb, pred in zip(pdbbind_test_set, predicted_docked)}\n",
    "    \n",
    "    pearsonr_crystal_sequence_identity[cutoff] = stats.pearsonr(y_test, predicted_crystal)[0]\n",
    "    pearsonr_docked_sequence_identity[cutoff] = stats.pearsonr(y_test, predicted_docked)[0]"
   ]
  },
  {
   "cell_type": "code",
   "execution_count": 22,
   "metadata": {},
   "outputs": [
    {
     "name": "stdout",
     "output_type": "stream",
     "text": [
      "0.3\n",
      "0.4\n",
      "0.5\n",
      "0.6\n",
      "0.7\n",
      "0.8\n",
      "0.9\n",
      "1.0\n",
      "All\n",
      "CPU times: user 13h 22min 35s, sys: 2min 36s, total: 13h 25min 12s\n",
      "Wall time: 1h 59min 37s\n"
     ]
    }
   ],
   "source": [
    "%%time\n",
    "predicted_crystal_tanimoto = {}\n",
    "predicted_docked_tanimoto = {}\n",
    "pearsonr_crystal_tanimoto = {}\n",
    "pearsonr_docked_tanimoto = {}\n",
    "\n",
    "X_test_crystal = []\n",
    "X_test_docked = []\n",
    "y_test = []\n",
    "for pdb in pdbbind_test_set:\n",
    "    X_test_crystal.append(sparse_to_csr_matrix(test_features_crystal[pdb], size=65536))\n",
    "    X_test_docked.append(sparse_to_csr_matrix(test_features_docked[pdb], size=65536))\n",
    "    y_test.append(test_affinity.loc[pdb])\n",
    "X_test_crystal = sparse.vstack(X_test_crystal, format='csr')\n",
    "X_test_docked = sparse.vstack(X_test_docked, format='csr')\n",
    "\n",
    "for cutoff in test_set_similar_ligands:\n",
    "    print(cutoff)\n",
    "    y_train = []\n",
    "    X_train_crystal = []\n",
    "    X_train_docked = []\n",
    "    for plec_docked, plec_crystal, pdb in zip(train_features_crystal, train_features_docked, pdbbind_training_set):\n",
    "        if pdb in test_set_similar_ligands[cutoff]:\n",
    "            continue\n",
    "        X_train_crystal.append(sparse_to_csr_matrix(plec_crystal, size=65536))\n",
    "        X_train_docked.append(sparse_to_csr_matrix(plec_docked, size=65536))\n",
    "        y_train.append(train_affinity.loc[pdb])\n",
    "    X_train_crystal = sparse.vstack(X_train_crystal, format='csr')\n",
    "    X_train_docked = sparse.vstack(X_train_docked, format='csr')\n",
    "    \n",
    "    rf_crystal = RandomForestRegressor(n_estimators=500, max_features=0.33,random_state=42, n_jobs=8, oob_score=True)\n",
    "    rf_crystal.fit(X_train_crystal, y_train)\n",
    "    rf_docked = RandomForestRegressor(n_estimators=500, max_features=0.33,random_state=42, n_jobs=8, oob_score=True)\n",
    "    rf_docked.fit(X_train_docked, y_train)\n",
    "    \n",
    "    predicted_crystal = rf_crystal.predict(X_test_crystal)\n",
    "    predicted_docked = rf_docked.predict(X_test_docked)\n",
    "    predicted_crystal_tanimoto[cutoff] = {pdb: pred for pdb, pred in zip(pdbbind_test_set, predicted_crystal)}\n",
    "    predicted_docked_tanimoto[cutoff] = {pdb: pred for pdb, pred in zip(pdbbind_test_set, predicted_docked)}\n",
    "    \n",
    "    pearsonr_crystal_tanimoto[cutoff] = stats.pearsonr(y_test, predicted_crystal)[0]\n",
    "    pearsonr_docked_tanimoto[cutoff] = stats.pearsonr(y_test, predicted_docked)[0]"
   ]
  },
  {
   "cell_type": "code",
   "execution_count": 32,
   "metadata": {},
   "outputs": [],
   "source": [
    "with open('PLEC_predicted_crystal_sequence_identity.json', 'w') as f:\n",
    "    json.dump(predicted_crystal_sequence_identity, f, cls=NumpyEncoder)\n",
    "with open('PLEC_predicted_docked_sequence_identity.json', 'w') as f:\n",
    "    json.dump(predicted_docked_sequence_identity, f, cls=NumpyEncoder)\n",
    "with open('PLEC_pearsonr_crystal_sequence_identity.json', 'w') as f:\n",
    "    json.dump(pearsonr_crystal_sequence_identity, f, cls=NumpyEncoder)\n",
    "with open('PLEC_pearsonr_docked_sequence_identity.json', 'w') as f:\n",
    "    json.dump(pearsonr_docked_sequence_identity, f, cls=NumpyEncoder)"
   ]
  },
  {
   "cell_type": "code",
   "execution_count": 23,
   "metadata": {},
   "outputs": [],
   "source": [
    "with open('PLEC_predicted_crystal_tanimoto.json', 'w') as f:\n",
    "    json.dump(predicted_crystal_tanimoto, f, cls=NumpyEncoder)\n",
    "with open('PLEC_predicted_docked_tanimoto.json', 'w') as f:\n",
    "    json.dump(predicted_docked_tanimoto, f, cls=NumpyEncoder)\n",
    "with open('PLEC_pearsonr_crystal_tanimoto.json', 'w') as f:\n",
    "    json.dump(pearsonr_crystal_tanimoto, f, cls=NumpyEncoder)\n",
    "with open('PLEC_pearsonr_docked_tanimoto.json', 'w') as f:\n",
    "    json.dump(pearsonr_docked_tanimoto, f, cls=NumpyEncoder)"
   ]
  },
  {
   "cell_type": "code",
   "execution_count": 21,
   "metadata": {},
   "outputs": [],
   "source": [
    "with open('PLEC_predicted_crystal_sequence_identity.json') as f:\n",
    "    predicted_crystal_sequence_identity = json.load(f)\n",
    "with open('PLEC_predicted_docked_sequence_identity.json') as f:\n",
    "    predicted_docked_sequence_identity = json.load(f)\n",
    "with open('PLEC_pearsonr_crystal_sequence_identity.json') as f:\n",
    "    pearsonr_crystal_sequence_identity = json.load(f)\n",
    "with open('PLEC_pearsonr_docked_sequence_identity.json') as f:\n",
    "    pearsonr_docked_sequence_identity = json.load(f)"
   ]
  },
  {
   "cell_type": "code",
   "execution_count": 30,
   "metadata": {},
   "outputs": [],
   "source": [
    "with open('PLEC_predicted_crystal_tanimoto.json') as f:\n",
    "    predicted_crystal_tanimoto = json.load(f)\n",
    "with open('PLEC_predicted_docked_tanimoto.json') as f:\n",
    "    predicted_docked_tanimoto = json.load(f)\n",
    "with open('PLEC_pearsonr_crystal_tanimoto.json') as f:\n",
    "    pearsonr_crystal_tanimoto = json.load(f)\n",
    "with open('PLEC_pearsonr_docked_tanimoto.json') as f:\n",
    "    pearsonr_docked_tanimoto = json.load(f)"
   ]
  },
  {
   "cell_type": "code",
   "execution_count": 41,
   "metadata": {},
   "outputs": [],
   "source": [
    "import statistical_tests as st\n",
    "\n",
    "pearsonr_ci_crystal_si = {}\n",
    "pearsonr_ci_docked_si = {}\n",
    "pearsonr_pval_crystal_si = {}\n",
    "pearsonr_pval_docked_si = {}\n",
    "pearsonr_ci_crystal_tc = {}\n",
    "pearsonr_ci_docked_tc = {}\n",
    "pearsonr_pval_crystal_tc = {}\n",
    "pearsonr_pval_docked_tc = {}\n",
    "\n",
    "y_test = test_affinity.loc[pdbbind_test_set]\n",
    "for cutoff in predicted_crystal_sequence_identity:\n",
    "    y_pred = pd.Series(predicted_crystal_sequence_identity[cutoff]).loc[pdbbind_test_set]\n",
    "    pearsonr_ci_crystal_si[cutoff] = st.bootstrap_pearsonr(y_test, y_pred)\n",
    "    pearsonr_pval_crystal_si[cutoff] = st.permutation_pearsonr(y_test, y_pred)\n",
    "    y_pred = pd.Series(predicted_docked_sequence_identity[cutoff]).loc[pdbbind_test_set]\n",
    "    pearsonr_pval_docked_si[cutoff] = st.permutation_pearsonr(y_test, y_pred)\n",
    "    pearsonr_ci_docked_si[cutoff] = st.bootstrap_pearsonr(y_test, y_pred)\n",
    "\n",
    "for cutoff in predicted_crystal_tanimoto:\n",
    "    y_pred = pd.Series(predicted_crystal_tanimoto[cutoff]).loc[pdbbind_test_set]\n",
    "    pearsonr_ci_crystal_tc[cutoff] = st.bootstrap_pearsonr(y_test, y_pred)\n",
    "    pearsonr_pval_crystal_tc[cutoff] = st.permutation_pearsonr(y_test, y_pred)\n",
    "    y_pred = pd.Series(predicted_docked_tanimoto[cutoff]).loc[pdbbind_test_set]\n",
    "    pearsonr_ci_docked_tc[cutoff] = st.bootstrap_pearsonr(y_test, y_pred)\n",
    "    pearsonr_pval_docked_tc[cutoff] = st.permutation_pearsonr(y_test, y_pred)"
   ]
  },
  {
   "cell_type": "code",
   "execution_count": 42,
   "metadata": {},
   "outputs": [
    {
     "data": {
      "text/plain": [
       "{'30': (0.5608741009330555, 0.5034597530881951, 0.6132666208573603),\n",
       " '40': (0.5913791650624448, 0.5341760764513837, 0.6445723559667932),\n",
       " '50': (0.6234230604628606, 0.5717141127418369, 0.6719038999799519),\n",
       " '70': (0.6305215293531099, 0.5788854945214194, 0.6784414090677245),\n",
       " '90': (0.6312312482487037, 0.5785414080015201, 0.6792700493918344),\n",
       " '95': (0.6269577836939475, 0.5724170234559904, 0.6760374415105496),\n",
       " '100': (0.6368134529910341, 0.5842940963707411, 0.6846061047681368),\n",
       " 'All': (0.7036850723759726, 0.6509589693948276, 0.750363682672983)}"
      ]
     },
     "execution_count": 42,
     "metadata": {},
     "output_type": "execute_result"
    }
   ],
   "source": [
    "pearsonr_ci_crystal_si"
   ]
  },
  {
   "cell_type": "code",
   "execution_count": 43,
   "metadata": {},
   "outputs": [
    {
     "data": {
      "text/plain": [
       "{'30': (0.5155715433596537, 0.4535281039908289, 0.5738242056385738),\n",
       " '40': (0.5605298847168476, 0.5034639839156777, 0.6153553132277119),\n",
       " '50': (0.5788050126125085, 0.5199707667458673, 0.6337116034631743),\n",
       " '70': (0.5812555780764976, 0.522806582566388, 0.6359812500621136),\n",
       " '90': (0.5846511912601939, 0.5251838776365342, 0.640403568227971),\n",
       " '95': (0.5901686056903788, 0.5325995610239426, 0.6442509056380263),\n",
       " '100': (0.5877530928105802, 0.5296199137159089, 0.6416096794491223),\n",
       " 'All': (0.6589021380413865, 0.6044658300748218, 0.707974543291743)}"
      ]
     },
     "execution_count": 43,
     "metadata": {},
     "output_type": "execute_result"
    }
   ],
   "source": [
    "pearsonr_ci_docked_si"
   ]
  },
  {
   "cell_type": "code",
   "execution_count": 44,
   "metadata": {},
   "outputs": [
    {
     "data": {
      "text/plain": [
       "{'0.3': (0.5318314550480853, 0.4677825464305126, 0.5917563735269862),\n",
       " '0.4': (0.5970674284521498, 0.5402787589514177, 0.6500329153571455),\n",
       " '0.5': (0.637950143307531, 0.5862460677406799, 0.685378913786856),\n",
       " '0.6': (0.6448400730681342, 0.5903191915353548, 0.6935316084565047),\n",
       " '0.7': (0.6621781101499636, 0.6060900610839468, 0.711851947462418),\n",
       " '0.8': (0.6754903204199456, 0.6203825366947284, 0.7247551277966111),\n",
       " '0.9': (0.6751710730780369, 0.6184976276845267, 0.7246959647192494),\n",
       " '1.0': (0.6775712002367988, 0.6217219802692991, 0.7264881819482855),\n",
       " 'All': (0.7036850723759727, 0.6509589693948276, 0.7503636826729831)}"
      ]
     },
     "execution_count": 44,
     "metadata": {},
     "output_type": "execute_result"
    }
   ],
   "source": [
    "pearsonr_ci_crystal_tc"
   ]
  },
  {
   "cell_type": "code",
   "execution_count": 45,
   "metadata": {},
   "outputs": [
    {
     "data": {
      "text/plain": [
       "{'0.3': (0.5024189574415638, 0.4380963519214656, 0.5628014577870434),\n",
       " '0.4': (0.5728692269438753, 0.5183933229031855, 0.6231338182230675),\n",
       " '0.5': (0.6098750495529451, 0.5533631943550461, 0.6611656620277508),\n",
       " '0.6': (0.6182024005551553, 0.5622290193601678, 0.6687593149710858),\n",
       " '0.7': (0.6467688886755133, 0.5896229636545363, 0.6970139511255014),\n",
       " '0.8': (0.6410935126691529, 0.5829180331014653, 0.6929543393122994),\n",
       " '0.9': (0.6469053311847747, 0.5907694138536167, 0.6979040985559047),\n",
       " '1.0': (0.644630642276492, 0.5884667170086832, 0.6953131736230113),\n",
       " 'All': (0.6589021380413864, 0.6044658300748218, 0.7079745432917431)}"
      ]
     },
     "execution_count": 45,
     "metadata": {},
     "output_type": "execute_result"
    }
   ],
   "source": [
    "pearsonr_ci_docked_tc"
   ]
  },
  {
   "cell_type": "code",
   "execution_count": 14,
   "metadata": {},
   "outputs": [],
   "source": [
    "lb_features = pd.read_csv('lb_features.csv', index_col=0)"
   ]
  },
  {
   "cell_type": "code",
   "execution_count": 17,
   "metadata": {},
   "outputs": [
    {
     "data": {
      "text/plain": [
       "4pcs    6.00974\n",
       "1sl3    8.38248\n",
       "3kwa    5.43680\n",
       "3bv9    6.66958\n",
       "3ueu    5.69118\n",
       "         ...   \n",
       "4ivb    7.97460\n",
       "2wn9    5.62578\n",
       "1rnt    4.96144\n",
       "2jdm    5.30218\n",
       "4gr0    7.60306\n",
       "Length: 519, dtype: float64"
      ]
     },
     "execution_count": 17,
     "metadata": {},
     "output_type": "execute_result"
    }
   ],
   "source": [
    "pd.Series(predicted_docked_sequence_identity['All'])"
   ]
  },
  {
   "cell_type": "code",
   "execution_count": 18,
   "metadata": {},
   "outputs": [],
   "source": [
    "@delayed\n",
    "def get_plec(protein, ligand):\n",
    "    features = PLEC(ligand, protein, depth_ligand=1, depth_protein=5, size=65536, count_bits=True, sparse=True, ignore_hoh=True)\n",
    "    return features"
   ]
  },
  {
   "cell_type": "code",
   "execution_count": 20,
   "metadata": {},
   "outputs": [
    {
     "name": "stderr",
     "output_type": "stream",
     "text": [
      "[Parallel(n_jobs=8)]: Using backend LokyBackend with 8 concurrent workers.\n",
      "[Parallel(n_jobs=8)]: Done   2 tasks      | elapsed:    3.7s\n",
      "[Parallel(n_jobs=8)]: Done   9 tasks      | elapsed:    4.8s\n",
      "[Parallel(n_jobs=8)]: Done  16 tasks      | elapsed:    5.7s\n",
      "[Parallel(n_jobs=8)]: Done  25 tasks      | elapsed:    7.5s\n",
      "[Parallel(n_jobs=8)]: Done  34 tasks      | elapsed:    9.1s\n",
      "[Parallel(n_jobs=8)]: Done  45 tasks      | elapsed:   10.8s\n",
      "[Parallel(n_jobs=8)]: Done  56 tasks      | elapsed:   12.6s\n",
      "[Parallel(n_jobs=8)]: Done  69 tasks      | elapsed:   15.0s\n",
      "[Parallel(n_jobs=8)]: Done  82 tasks      | elapsed:   17.2s\n",
      "[Parallel(n_jobs=8)]: Done  97 tasks      | elapsed:   19.8s\n",
      "[Parallel(n_jobs=8)]: Done 112 tasks      | elapsed:   22.3s\n",
      "[Parallel(n_jobs=8)]: Done 129 tasks      | elapsed:   25.4s\n",
      "[Parallel(n_jobs=8)]: Done 146 tasks      | elapsed:   28.5s\n",
      "[Parallel(n_jobs=8)]: Done 165 tasks      | elapsed:   31.7s\n",
      "[Parallel(n_jobs=8)]: Done 184 tasks      | elapsed:   34.9s\n",
      "[Parallel(n_jobs=8)]: Done 216 out of 216 | elapsed:   39.9s finished\n",
      "[Parallel(n_jobs=8)]: Using backend LokyBackend with 8 concurrent workers.\n",
      "[Parallel(n_jobs=8)]: Done   2 tasks      | elapsed:    2.6s\n",
      "[Parallel(n_jobs=8)]: Done   9 tasks      | elapsed:    5.0s\n",
      "[Parallel(n_jobs=8)]: Done  16 tasks      | elapsed:    5.8s\n",
      "[Parallel(n_jobs=8)]: Done  25 tasks      | elapsed:   10.0s\n",
      "[Parallel(n_jobs=8)]: Done  34 tasks      | elapsed:   12.4s\n",
      "[Parallel(n_jobs=8)]: Done  45 tasks      | elapsed:   15.2s\n",
      "[Parallel(n_jobs=8)]: Done  56 tasks      | elapsed:   18.3s\n",
      "[Parallel(n_jobs=8)]: Done  69 tasks      | elapsed:   22.6s\n",
      "[Parallel(n_jobs=8)]: Done  82 tasks      | elapsed:   26.5s\n",
      "[Parallel(n_jobs=8)]: Done  97 tasks      | elapsed:   31.7s\n",
      "[Parallel(n_jobs=8)]: Done 112 tasks      | elapsed:   36.3s\n",
      "[Parallel(n_jobs=8)]: Done 137 out of 137 | elapsed:   44.4s finished\n",
      "[Parallel(n_jobs=8)]: Using backend LokyBackend with 8 concurrent workers.\n",
      "[Parallel(n_jobs=8)]: Done   2 tasks      | elapsed:    1.3s\n",
      "[Parallel(n_jobs=8)]: Done   9 tasks      | elapsed:    2.4s\n",
      "[Parallel(n_jobs=8)]: Done  16 tasks      | elapsed:    2.9s\n",
      "[Parallel(n_jobs=8)]: Done  25 tasks      | elapsed:    4.5s\n",
      "[Parallel(n_jobs=8)]: Done  34 tasks      | elapsed:    5.7s\n",
      "[Parallel(n_jobs=8)]: Done  45 tasks      | elapsed:    7.3s\n",
      "[Parallel(n_jobs=8)]: Done  56 tasks      | elapsed:    9.1s\n",
      "[Parallel(n_jobs=8)]: Done  69 tasks      | elapsed:   10.8s\n",
      "[Parallel(n_jobs=8)]: Done  82 tasks      | elapsed:   13.1s\n",
      "[Parallel(n_jobs=8)]: Done  97 tasks      | elapsed:   15.3s\n",
      "[Parallel(n_jobs=8)]: Done 112 tasks      | elapsed:   17.8s\n",
      "[Parallel(n_jobs=8)]: Done 129 tasks      | elapsed:   21.2s\n",
      "[Parallel(n_jobs=8)]: Done 146 tasks      | elapsed:   23.5s\n",
      "[Parallel(n_jobs=8)]: Done 165 tasks      | elapsed:   25.9s\n",
      "[Parallel(n_jobs=8)]: Done 184 tasks      | elapsed:   28.9s\n",
      "[Parallel(n_jobs=8)]: Done 205 tasks      | elapsed:   31.8s\n",
      "[Parallel(n_jobs=8)]: Done 226 tasks      | elapsed:   35.3s\n",
      "[Parallel(n_jobs=8)]: Done 249 tasks      | elapsed:   38.7s\n",
      "[Parallel(n_jobs=8)]: Done 272 tasks      | elapsed:   42.1s\n",
      "[Parallel(n_jobs=8)]: Done 297 tasks      | elapsed:   45.8s\n",
      "[Parallel(n_jobs=8)]: Done 322 tasks      | elapsed:   49.2s\n",
      "[Parallel(n_jobs=8)]: Done 349 tasks      | elapsed:   52.9s\n",
      "[Parallel(n_jobs=8)]: Done 376 tasks      | elapsed:   56.6s\n",
      "[Parallel(n_jobs=8)]: Done 405 tasks      | elapsed:  1.0min\n",
      "[Parallel(n_jobs=8)]: Done 434 tasks      | elapsed:  1.1min\n",
      "[Parallel(n_jobs=8)]: Done 465 tasks      | elapsed:  1.2min\n",
      "[Parallel(n_jobs=8)]: Done 496 tasks      | elapsed:  1.3min\n",
      "[Parallel(n_jobs=8)]: Done 529 tasks      | elapsed:  1.4min\n",
      "[Parallel(n_jobs=8)]: Done 562 tasks      | elapsed:  1.4min\n",
      "[Parallel(n_jobs=8)]: Done 597 tasks      | elapsed:  1.5min\n",
      "[Parallel(n_jobs=8)]: Done 632 tasks      | elapsed:  1.6min\n",
      "[Parallel(n_jobs=8)]: Done 669 tasks      | elapsed:  1.7min\n",
      "[Parallel(n_jobs=8)]: Done 706 tasks      | elapsed:  1.9min\n",
      "[Parallel(n_jobs=8)]: Done 745 tasks      | elapsed:  2.0min\n",
      "[Parallel(n_jobs=8)]: Done 784 tasks      | elapsed:  2.1min\n",
      "[Parallel(n_jobs=8)]: Done 825 tasks      | elapsed:  2.2min\n",
      "[Parallel(n_jobs=8)]: Done 862 out of 862 | elapsed:  2.3min finished\n",
      "[Parallel(n_jobs=8)]: Using backend LokyBackend with 8 concurrent workers.\n",
      "[Parallel(n_jobs=8)]: Done   2 tasks      | elapsed:    0.9s\n",
      "[Parallel(n_jobs=8)]: Done   9 tasks      | elapsed:    1.7s\n",
      "[Parallel(n_jobs=8)]: Done  16 tasks      | elapsed:    2.3s\n",
      "[Parallel(n_jobs=8)]: Done  25 tasks      | elapsed:    3.4s\n",
      "[Parallel(n_jobs=8)]: Done  34 tasks      | elapsed:    4.5s\n",
      "[Parallel(n_jobs=8)]: Done  45 tasks      | elapsed:    6.0s\n",
      "[Parallel(n_jobs=8)]: Done  56 tasks      | elapsed:    7.5s\n",
      "[Parallel(n_jobs=8)]: Done  69 tasks      | elapsed:    9.4s\n",
      "[Parallel(n_jobs=8)]: Done  82 tasks      | elapsed:   11.3s\n",
      "[Parallel(n_jobs=8)]: Done  97 tasks      | elapsed:   13.1s\n",
      "[Parallel(n_jobs=8)]: Done 112 tasks      | elapsed:   14.9s\n",
      "[Parallel(n_jobs=8)]: Done 129 tasks      | elapsed:   16.8s\n",
      "[Parallel(n_jobs=8)]: Done 146 tasks      | elapsed:   18.8s\n",
      "[Parallel(n_jobs=8)]: Done 165 tasks      | elapsed:   20.8s\n",
      "[Parallel(n_jobs=8)]: Done 184 tasks      | elapsed:   23.1s\n",
      "[Parallel(n_jobs=8)]: Done 205 tasks      | elapsed:   25.8s\n",
      "[Parallel(n_jobs=8)]: Done 226 tasks      | elapsed:   28.1s\n",
      "[Parallel(n_jobs=8)]: Done 249 tasks      | elapsed:   30.9s\n",
      "[Parallel(n_jobs=8)]: Done 272 tasks      | elapsed:   33.5s\n",
      "[Parallel(n_jobs=8)]: Done 297 tasks      | elapsed:   36.7s\n",
      "[Parallel(n_jobs=8)]: Done 322 tasks      | elapsed:   39.6s\n",
      "[Parallel(n_jobs=8)]: Done 349 tasks      | elapsed:   42.5s\n",
      "[Parallel(n_jobs=8)]: Done 376 tasks      | elapsed:   45.6s\n",
      "[Parallel(n_jobs=8)]: Done 405 tasks      | elapsed:   49.3s\n",
      "[Parallel(n_jobs=8)]: Done 434 tasks      | elapsed:   52.5s\n",
      "[Parallel(n_jobs=8)]: Done 465 tasks      | elapsed:   56.0s\n",
      "[Parallel(n_jobs=8)]: Done 496 tasks      | elapsed:   59.8s\n",
      "[Parallel(n_jobs=8)]: Done 529 tasks      | elapsed:  1.1min\n",
      "[Parallel(n_jobs=8)]: Done 562 tasks      | elapsed:  1.1min\n",
      "[Parallel(n_jobs=8)]: Done 597 tasks      | elapsed:  1.2min\n",
      "[Parallel(n_jobs=8)]: Done 632 tasks      | elapsed:  1.3min\n",
      "[Parallel(n_jobs=8)]: Done 669 tasks      | elapsed:  1.4min\n",
      "[Parallel(n_jobs=8)]: Done 706 tasks      | elapsed:  1.5min\n",
      "[Parallel(n_jobs=8)]: Done 745 tasks      | elapsed:  1.5min\n",
      "[Parallel(n_jobs=8)]: Done 784 tasks      | elapsed:  1.6min\n",
      "[Parallel(n_jobs=8)]: Done 825 tasks      | elapsed:  1.7min\n",
      "[Parallel(n_jobs=8)]: Done 866 tasks      | elapsed:  1.8min\n",
      "[Parallel(n_jobs=8)]: Done 909 tasks      | elapsed:  1.9min\n",
      "[Parallel(n_jobs=8)]: Done 952 tasks      | elapsed:  1.9min\n",
      "[Parallel(n_jobs=8)]: Done 997 tasks      | elapsed:  2.0min\n",
      "[Parallel(n_jobs=8)]: Done 1042 tasks      | elapsed:  2.1min\n",
      "[Parallel(n_jobs=8)]: Done 1089 tasks      | elapsed:  2.2min\n",
      "[Parallel(n_jobs=8)]: Done 1136 tasks      | elapsed:  2.3min\n",
      "[Parallel(n_jobs=8)]: Done 1185 tasks      | elapsed:  2.4min\n",
      "[Parallel(n_jobs=8)]: Done 1234 tasks      | elapsed:  2.5min\n",
      "[Parallel(n_jobs=8)]: Done 1285 tasks      | elapsed:  2.5min\n",
      "[Parallel(n_jobs=8)]: Done 1336 tasks      | elapsed:  2.6min\n",
      "[Parallel(n_jobs=8)]: Done 1389 tasks      | elapsed:  2.7min\n",
      "[Parallel(n_jobs=8)]: Done 1442 tasks      | elapsed:  2.8min\n",
      "[Parallel(n_jobs=8)]: Done 1497 tasks      | elapsed:  2.9min\n",
      "[Parallel(n_jobs=8)]: Done 1552 tasks      | elapsed:  3.0min\n",
      "[Parallel(n_jobs=8)]: Done 1609 tasks      | elapsed:  3.1min\n",
      "[Parallel(n_jobs=8)]: Done 1666 tasks      | elapsed:  3.2min\n",
      "[Parallel(n_jobs=8)]: Done 1725 tasks      | elapsed:  3.3min\n",
      "[Parallel(n_jobs=8)]: Done 1784 tasks      | elapsed:  3.5min\n",
      "[Parallel(n_jobs=8)]: Done 1845 tasks      | elapsed:  3.6min\n",
      "[Parallel(n_jobs=8)]: Done 1906 tasks      | elapsed:  3.8min\n",
      "[Parallel(n_jobs=8)]: Done 1969 tasks      | elapsed:  4.0min\n",
      "[Parallel(n_jobs=8)]: Done 2021 out of 2021 | elapsed:  4.1min finished\n",
      "[Parallel(n_jobs=8)]: Using backend LokyBackend with 8 concurrent workers.\n",
      "[Parallel(n_jobs=8)]: Done   2 tasks      | elapsed:    1.6s\n",
      "[Parallel(n_jobs=8)]: Done   9 tasks      | elapsed:    3.2s\n",
      "[Parallel(n_jobs=8)]: Done  16 tasks      | elapsed:    3.7s\n",
      "[Parallel(n_jobs=8)]: Done  25 tasks      | elapsed:    6.1s\n",
      "[Parallel(n_jobs=8)]: Done  34 tasks      | elapsed:    7.6s\n",
      "[Parallel(n_jobs=8)]: Done  45 tasks      | elapsed:    9.7s\n",
      "[Parallel(n_jobs=8)]: Done  61 out of  69 | elapsed:   12.5s remaining:    1.6s\n",
      "[Parallel(n_jobs=8)]: Done  69 out of  69 | elapsed:   13.5s finished\n",
      "[Parallel(n_jobs=8)]: Using backend LokyBackend with 8 concurrent workers.\n",
      "[Parallel(n_jobs=8)]: Done   2 tasks      | elapsed:    1.3s\n",
      "[Parallel(n_jobs=8)]: Done   9 tasks      | elapsed:    2.4s\n",
      "[Parallel(n_jobs=8)]: Done  16 tasks      | elapsed:    3.4s\n",
      "[Parallel(n_jobs=8)]: Done  25 tasks      | elapsed:    5.3s\n",
      "[Parallel(n_jobs=8)]: Done  34 tasks      | elapsed:    7.0s\n",
      "[Parallel(n_jobs=8)]: Done  45 tasks      | elapsed:    8.6s\n",
      "[Parallel(n_jobs=8)]: Done  56 tasks      | elapsed:   10.5s\n",
      "[Parallel(n_jobs=8)]: Done  69 tasks      | elapsed:   12.7s\n",
      "[Parallel(n_jobs=8)]: Done  82 tasks      | elapsed:   14.6s\n",
      "[Parallel(n_jobs=8)]: Done  97 tasks      | elapsed:   17.4s\n",
      "[Parallel(n_jobs=8)]: Done 112 tasks      | elapsed:   20.0s\n",
      "[Parallel(n_jobs=8)]: Done 143 out of 143 | elapsed:   24.5s remaining:    0.0s\n",
      "[Parallel(n_jobs=8)]: Done 143 out of 143 | elapsed:   24.5s finished\n"
     ]
    }
   ],
   "source": [
    "targets = ['AKT1', 'CP3A4', 'GCR', 'HIVPR', 'HIVRT', 'KIF11']\n",
    "chembl_plecs = {}\n",
    "for target in targets:\n",
    "    protein = next(ob.readfile('pdb', f'../dude_chembl/dude_data/{target.lower()}/receptor.pdb'))\n",
    "    protein.protein = True\n",
    "    ligands = {}\n",
    "    ligand_file = f'../dude_chembl/{target}_docked.sdf'\n",
    "    for mol in ob.readfile('sdf', ligand_file):\n",
    "        mol_name = mol.OBMol.GetTitle()\n",
    "        if mol_name in ligands:\n",
    "            continue\n",
    "        ligands[mol_name] = mol\n",
    "    with Parallel(n_jobs=8, verbose=10) as parallel:\n",
    "        results = parallel(get_plec(protein, ligands[mol_name]) for mol_name in ligands)\n",
    "    chembl_plecs[target] = {mol_name: result for mol_name, result in zip(ligands, results)}"
   ]
  },
  {
   "cell_type": "code",
   "execution_count": 23,
   "metadata": {},
   "outputs": [
    {
     "data": {
      "text/plain": [
       "array([   37,    92,   120, ..., 65388, 65388, 65388], dtype=uint32)"
      ]
     },
     "execution_count": 23,
     "metadata": {},
     "output_type": "execute_result"
    }
   ],
   "source": [
    "chembl_plecs['KIF11'][mol_name]"
   ]
  },
  {
   "cell_type": "code",
   "execution_count": 24,
   "metadata": {},
   "outputs": [],
   "source": [
    "with open('../data/dude_chembl_plec_finterprints.json', 'w') as f:\n",
    "    json.dump(chembl_plecs, f, cls=NumpyEncoder)"
   ]
  },
  {
   "cell_type": "code",
   "execution_count": null,
   "metadata": {},
   "outputs": [],
   "source": [
    "X_train_sparse = sparse.vstack([sparse_to_csr_matrix(plec, size=65536) for plec in train_features_crystal], format='csr')\n",
    "X_test_sparse = sparse.vstack([sparse_to_csr_matrix(test_features_crystal[pdb], size=65536) for pdb in test_features_crystal], format='csr')\n",
    "\n",
    "svd = TruncatedSVD(n_components=200, random_state=42).fit(X_train_sparse)\n",
    "X_train_svd = svd.transform(X_train_sparse)\n",
    "X_test_svd = svd.transform(X_test_sparse)"
   ]
  },
  {
   "cell_type": "code",
   "execution_count": 10,
   "metadata": {},
   "outputs": [],
   "source": [
    "crystal_pose_features = pd.read_csv('../data/crystal_pose_features.csv', index_col=0)\n",
    "feature_sets = {}\n",
    "with open('../data/lb_feature_names.txt') as f:\n",
    "    feature_sets['LB'] = pd.Index([l.strip() for l in f])\n",
    "lb_features = pd.read_csv('../data/crystal_pose_features.csv', index_col=0).loc[:, feature_sets['LB']]"
   ]
  },
  {
   "cell_type": "code",
   "execution_count": 13,
   "metadata": {},
   "outputs": [],
   "source": [
    "pdbbind_training_set_pk = pd.read_csv('../data/pdbbind_training_set_binding_affinity.csv', index_col=0, header=None, squeeze=True)\n",
    "pdbbind_test_set_pk = pd.read_csv('../data/pdbbind_test_set_binding_affinity.csv', index_col=0, header=None, squeeze=True)"
   ]
  },
  {
   "cell_type": "code",
   "execution_count": 18,
   "metadata": {},
   "outputs": [
    {
     "name": "stdout",
     "output_type": "stream",
     "text": [
      "30\n",
      "40\n",
      "50\n",
      "70\n",
      "90\n",
      "95\n",
      "100\n",
      "All\n"
     ]
    }
   ],
   "source": [
    "#%%time\n",
    "predicted_svd_crystal_sequence_identity = {}\n",
    "predicted_svd_docked_sequence_identity = {}\n",
    "pearsonr_svd_crystal_sequence_identity = {}\n",
    "pearsonr_svd_docked_sequence_identity = {}\n",
    "\n",
    "predicted_svd_rdk_crystal_sequence_identity = {}\n",
    "predicted_svd_rdk_docked_sequence_identity = {}\n",
    "pearsonr_svd_rdk_crystal_sequence_identity = {}\n",
    "pearsonr_svd_rdk_docked_sequence_identity = {}\n",
    "\n",
    "y_test = []\n",
    "for pdb in pdbbind_test_set:\n",
    "    y_test.append(pdbbind_test_set_pk.loc[pdb])\n",
    "\n",
    "for cutoff in test_set_similar_pdbs:\n",
    "    print(cutoff)\n",
    "    y_train = []\n",
    "    X_train_crystal = []\n",
    "    X_train_docked = []\n",
    "    for plec_docked, plec_crystal, pdb in zip(train_features_crystal, train_features_docked, pdbbind_training_set):\n",
    "        if pdb in test_set_similar_pdbs[cutoff]:\n",
    "            continue\n",
    "        X_train_crystal.append(sparse_to_csr_matrix(plec_crystal, size=65536))\n",
    "        X_train_docked.append(sparse_to_csr_matrix(plec_docked, size=65536))\n",
    "        y_train.append(pdbbind_training_set_pk.loc[pdb])\n",
    "    X_train_crystal = sparse.vstack(X_train_crystal, format='csr')\n",
    "    X_train_docked = sparse.vstack(X_train_docked, format='csr')\n",
    "    \n",
    "    # need to rebuild test set each time as svd will be different\n",
    "    X_test_crystal = []\n",
    "    X_test_docked = []\n",
    "    for pdb in pdbbind_test_set:\n",
    "        X_test_crystal.append(sparse_to_csr_matrix(test_features_crystal[pdb], size=65536))\n",
    "        X_test_docked.append(sparse_to_csr_matrix(test_features_docked[pdb], size=65536))\n",
    "    X_test_crystal = sparse.vstack(X_test_crystal, format='csr')\n",
    "    X_test_docked = sparse.vstack(X_test_docked, format='csr')\n",
    "\n",
    "    training_set = pdbbind_training_set.difference(test_set_similar_pdbs[cutoff])\n",
    "    rdk_train = lb_features.loc[training_set].values\n",
    "    rdk_test = lb_features.loc[pdbbind_test_set].values\n",
    "    \n",
    "    svd = TruncatedSVD(n_components=200, random_state=42).fit(X_train_crystal)\n",
    "    X_train_crystal = svd.transform(X_train_crystal)\n",
    "    X_test_crystal = svd.transform(X_test_crystal)\n",
    "    \n",
    "    svd = TruncatedSVD(n_components=200, random_state=42).fit(X_train_docked)\n",
    "    X_train_docked = svd.transform(X_train_docked)\n",
    "    X_test_docked = svd.transform(X_test_docked)\n",
    "    \n",
    "    rf_crystal = RandomForestRegressor(n_estimators=500, max_features=0.33,random_state=42, n_jobs=8, oob_score=True)\n",
    "    rf_crystal.fit(X_train_crystal, y_train)\n",
    "    rf_docked = RandomForestRegressor(n_estimators=500, max_features=0.33,random_state=42, n_jobs=8, oob_score=True)\n",
    "    rf_docked.fit(X_train_docked, y_train)\n",
    "    \n",
    "    predicted_svd_crystal = rf_crystal.predict(X_test_crystal)\n",
    "    predicted_svd_docked = rf_docked.predict(X_test_docked)\n",
    "    predicted_svd_crystal_sequence_identity[cutoff] = {pdb: pred for pdb, pred in zip(pdbbind_test_set, predicted_svd_crystal)}\n",
    "    predicted_svd_docked_sequence_identity[cutoff] = {pdb: pred for pdb, pred in zip(pdbbind_test_set, predicted_svd_docked)}\n",
    "    \n",
    "    pearsonr_svd_crystal_sequence_identity[cutoff] = bootstrap_pearsonr(np.array(y_test), predicted_svd_crystal)\n",
    "    pearsonr_svd_docked_sequence_identity[cutoff] = bootstrap_pearsonr(np.array(y_test), predicted_svd_docked)\n",
    "    \n",
    "    # add rdk features\n",
    "    \n",
    "    X_train_crystal = np.concatenate((X_train_crystal, rdk_train), axis=1)\n",
    "    X_test_crystal = np.concatenate((X_test_crystal, rdk_test), axis=1)\n",
    "    X_train_docked = np.concatenate((X_train_docked, rdk_train), axis=1)\n",
    "    X_test_docked = np.concatenate((X_test_docked, rdk_test), axis=1)\n",
    "\n",
    "    rf_crystal = RandomForestRegressor(n_estimators=500, max_features=0.33,random_state=42, n_jobs=8, oob_score=True)\n",
    "    rf_crystal.fit(X_train_crystal, y_train)\n",
    "    rf_docked = RandomForestRegressor(n_estimators=500, max_features=0.33,random_state=42, n_jobs=8, oob_score=True)\n",
    "    rf_docked.fit(X_train_docked, y_train)\n",
    "    \n",
    "    predicted_svd_rdk_crystal = rf_crystal.predict(X_test_crystal)\n",
    "    predicted_svd_rdk_docked = rf_docked.predict(X_test_docked)\n",
    "    predicted_svd_rdk_crystal_sequence_identity[cutoff] = {pdb: pred for pdb, pred in zip(pdbbind_test_set, predicted_svd_rdk_crystal)}\n",
    "    predicted_svd_rdk_docked_sequence_identity[cutoff] = {pdb: pred for pdb, pred in zip(pdbbind_test_set, predicted_svd_rdk_docked)}\n",
    "    \n",
    "    pearsonr_svd_rdk_crystal_sequence_identity[cutoff] = bootstrap_pearsonr(np.array(y_test), predicted_svd_rdk_crystal)\n",
    "    pearsonr_svd_rdk_docked_sequence_identity[cutoff] = bootstrap_pearsonr(np.array(y_test), predicted_svd_rdk_docked)"
   ]
  },
  {
   "cell_type": "code",
   "execution_count": 20,
   "metadata": {},
   "outputs": [
    {
     "name": "stdout",
     "output_type": "stream",
     "text": [
      "0.3\n",
      "0.4\n",
      "0.5\n",
      "0.6\n",
      "0.7\n",
      "0.8\n",
      "0.9\n",
      "1.0\n",
      "All\n"
     ]
    }
   ],
   "source": [
    "#%%time\n",
    "predicted_svd_crystal_tanimoto = {}\n",
    "predicted_svd_docked_tanimoto = {}\n",
    "pearsonr_svd_crystal_tanimoto = {}\n",
    "pearsonr_svd_docked_tanimoto = {}\n",
    "\n",
    "predicted_svd_rdk_crystal_tanimoto = {}\n",
    "predicted_svd_rdk_docked_tanimoto = {}\n",
    "pearsonr_svd_rdk_crystal_tanimoto = {}\n",
    "pearsonr_svd_rdk_docked_tanimoto = {}\n",
    "\n",
    "y_test = []\n",
    "for pdb in pdbbind_test_set:\n",
    "    y_test.append(pdbbind_test_set_pk.loc[pdb])\n",
    "\n",
    "for cutoff in test_set_similar_ligands:\n",
    "    print(cutoff)\n",
    "    y_train = []\n",
    "    X_train_crystal = []\n",
    "    X_train_docked = []\n",
    "    for plec_docked, plec_crystal, pdb in zip(train_features_crystal, train_features_docked, pdbbind_training_set):\n",
    "        if pdb in test_set_similar_ligands[cutoff]:\n",
    "            continue\n",
    "        X_train_crystal.append(sparse_to_csr_matrix(plec_crystal, size=65536))\n",
    "        X_train_docked.append(sparse_to_csr_matrix(plec_docked, size=65536))\n",
    "        y_train.append(pdbbind_training_set_pk.loc[pdb])\n",
    "    X_train_crystal = sparse.vstack(X_train_crystal, format='csr')\n",
    "    X_train_docked = sparse.vstack(X_train_docked, format='csr')\n",
    "    \n",
    "    # need to rebuild test set each time as svd will be different\n",
    "    X_test_crystal = []\n",
    "    X_test_docked = []\n",
    "    for pdb in pdbbind_test_set:\n",
    "        X_test_crystal.append(sparse_to_csr_matrix(test_features_crystal[pdb], size=65536))\n",
    "        X_test_docked.append(sparse_to_csr_matrix(test_features_docked[pdb], size=65536))\n",
    "    X_test_crystal = sparse.vstack(X_test_crystal, format='csr')\n",
    "    X_test_docked = sparse.vstack(X_test_docked, format='csr')\n",
    "\n",
    "    training_set = pdbbind_training_set.difference(test_set_similar_ligands[cutoff])\n",
    "    rdk_train = lb_features.loc[training_set].values\n",
    "    rdk_test = lb_features.loc[pdbbind_test_set].values\n",
    "    \n",
    "    svd = TruncatedSVD(n_components=200, random_state=42).fit(X_train_crystal)\n",
    "    X_train_crystal = svd.transform(X_train_crystal)\n",
    "    X_test_crystal = svd.transform(X_test_crystal)\n",
    "    \n",
    "    svd = TruncatedSVD(n_components=200, random_state=42).fit(X_train_docked)\n",
    "    X_train_docked = svd.transform(X_train_docked)\n",
    "    X_test_docked = svd.transform(X_test_docked)\n",
    "    \n",
    "    rf_crystal = RandomForestRegressor(n_estimators=500, max_features=0.33,random_state=42, n_jobs=8, oob_score=True)\n",
    "    rf_crystal.fit(X_train_crystal, y_train)\n",
    "    rf_docked = RandomForestRegressor(n_estimators=500, max_features=0.33,random_state=42, n_jobs=8, oob_score=True)\n",
    "    rf_docked.fit(X_train_docked, y_train)\n",
    "    \n",
    "    predicted_svd_crystal = rf_crystal.predict(X_test_crystal)\n",
    "    predicted_svd_docked = rf_docked.predict(X_test_docked)\n",
    "    predicted_svd_crystal_tanimoto[cutoff] = {pdb: pred for pdb, pred in zip(pdbbind_test_set, predicted_svd_crystal)}\n",
    "    predicted_svd_docked_tanimoto[cutoff] = {pdb: pred for pdb, pred in zip(pdbbind_test_set, predicted_svd_docked)}\n",
    "    \n",
    "    pearsonr_svd_crystal_tanimoto[cutoff] = bootstrap_pearsonr(np.array(y_test), predicted_svd_crystal)\n",
    "    pearsonr_svd_docked_tanimoto[cutoff] = bootstrap_pearsonr(np.array(y_test), predicted_svd_docked)\n",
    "    \n",
    "    # add rdk features\n",
    "    \n",
    "    X_train_crystal = np.concatenate((X_train_crystal, rdk_train), axis=1)\n",
    "    X_test_crystal = np.concatenate((X_test_crystal, rdk_test), axis=1)\n",
    "    X_train_docked = np.concatenate((X_train_docked, rdk_train), axis=1)\n",
    "    X_test_docked = np.concatenate((X_test_docked, rdk_test), axis=1)\n",
    "\n",
    "    rf_crystal = RandomForestRegressor(n_estimators=500, max_features=0.33,random_state=42, n_jobs=8, oob_score=True)\n",
    "    rf_crystal.fit(X_train_crystal, y_train)\n",
    "    rf_docked = RandomForestRegressor(n_estimators=500, max_features=0.33,random_state=42, n_jobs=8, oob_score=True)\n",
    "    rf_docked.fit(X_train_docked, y_train)\n",
    "    \n",
    "    predicted_svd_rdk_crystal = rf_crystal.predict(X_test_crystal)\n",
    "    predicted_svd_rdk_docked = rf_docked.predict(X_test_docked)\n",
    "    predicted_svd_rdk_crystal_tanimoto[cutoff] = {pdb: pred for pdb, pred in zip(pdbbind_test_set, predicted_svd_rdk_crystal)}\n",
    "    predicted_svd_rdk_docked_tanimoto[cutoff] = {pdb: pred for pdb, pred in zip(pdbbind_test_set, predicted_svd_rdk_docked)}\n",
    "    \n",
    "    pearsonr_svd_rdk_crystal_tanimoto[cutoff] = bootstrap_pearsonr(np.array(y_test), predicted_svd_rdk_crystal)\n",
    "    pearsonr_svd_rdk_docked_tanimoto[cutoff] = bootstrap_pearsonr(np.array(y_test), predicted_svd_rdk_docked)"
   ]
  },
  {
   "cell_type": "code",
   "execution_count": 25,
   "metadata": {},
   "outputs": [
    {
     "data": {
      "text/plain": [
       "{'30': (0.5608741009330555, 0.5034597530881951, 0.6132666208573603),\n",
       " '40': (0.5913791650624448, 0.5341760764513837, 0.6445723559667932),\n",
       " '50': (0.6234230604628606, 0.5717141127418369, 0.6719038999799519),\n",
       " '70': (0.6305215293531099, 0.5788854945214194, 0.6784414090677245),\n",
       " '90': (0.6312312482487037, 0.5785414080015201, 0.6792700493918344),\n",
       " '95': (0.6269577836939475, 0.5724170234559904, 0.6760374415105496),\n",
       " '100': (0.6368134529910341, 0.5842940963707411, 0.6846061047681368),\n",
       " 'All': (0.7036850723759726, 0.6509589693948276, 0.750363682672983)}"
      ]
     },
     "execution_count": 25,
     "metadata": {},
     "output_type": "execute_result"
    }
   ],
   "source": [
    "pearsonr_ci_crystal_si"
   ]
  },
  {
   "cell_type": "code",
   "execution_count": 48,
   "metadata": {},
   "outputs": [
    {
     "name": "stdout",
     "output_type": "stream",
     "text": [
      "30 & 0.561 (0.503, 0.613) & 0.516 (0.454, 0.574) \\\\\n",
      "40 & 0.591 (0.534, 0.645) & 0.561 (0.503, 0.615) \\\\\n",
      "50 & 0.623 (0.572, 0.672) & 0.579 (0.520, 0.634) \\\\\n",
      "70 & 0.631 (0.579, 0.678) & 0.581 (0.523, 0.636) \\\\\n",
      "90 & 0.631 (0.579, 0.679) & 0.585 (0.525, 0.640) \\\\\n",
      "95 & 0.627 (0.572, 0.676) & 0.590 (0.533, 0.644) \\\\\n",
      "100 & 0.637 (0.584, 0.685) & 0.588 (0.530, 0.642) \\\\\n",
      "All & 0.704 (0.651, 0.750) & 0.659 (0.604, 0.708) \\\\\n"
     ]
    }
   ],
   "source": [
    "for cutoff in pearsonr_ci_crystal_si:\n",
    "    c = pearsonr_ci_crystal_si[cutoff]\n",
    "    d = pearsonr_ci_docked_si[cutoff]\n",
    "    print(f'{cutoff} & {c[0]:.3f} ({c[1]:.3f}, {c[2]:.3f}) & {d[0]:.3f} ({d[1]:.3f}, {d[2]:.3f}) \\\\\\\\')"
   ]
  },
  {
   "cell_type": "code",
   "execution_count": 49,
   "metadata": {},
   "outputs": [
    {
     "name": "stdout",
     "output_type": "stream",
     "text": [
      "0.3 & 0.532 (0.468, 0.592) & 0.502 (0.438, 0.563) \\\\\n",
      "0.4 & 0.597 (0.540, 0.650) & 0.573 (0.518, 0.623) \\\\\n",
      "0.5 & 0.638 (0.586, 0.685) & 0.610 (0.553, 0.661) \\\\\n",
      "0.6 & 0.645 (0.590, 0.694) & 0.618 (0.562, 0.669) \\\\\n",
      "0.7 & 0.662 (0.606, 0.712) & 0.647 (0.590, 0.697) \\\\\n",
      "0.8 & 0.675 (0.620, 0.725) & 0.641 (0.583, 0.693) \\\\\n",
      "0.9 & 0.675 (0.618, 0.725) & 0.647 (0.591, 0.698) \\\\\n",
      "1.0 & 0.678 (0.622, 0.726) & 0.645 (0.588, 0.695) \\\\\n",
      "All & 0.704 (0.651, 0.750) & 0.659 (0.604, 0.708) \\\\\n"
     ]
    }
   ],
   "source": [
    "for cutoff in pearsonr_ci_crystal_tc:\n",
    "    c = pearsonr_ci_crystal_tc[cutoff]\n",
    "    d = pearsonr_ci_docked_tc[cutoff]\n",
    "    print(f'{cutoff} & {c[0]:.3f} ({c[1]:.3f}, {c[2]:.3f}) & {d[0]:.3f} ({d[1]:.3f}, {d[2]:.3f}) \\\\\\\\')"
   ]
  },
  {
   "cell_type": "code",
   "execution_count": 50,
   "metadata": {},
   "outputs": [
    {
     "name": "stdout",
     "output_type": "stream",
     "text": [
      "30 & 0.552 (0.483, 0.614) & 0.497 (0.429, 0.560) & 0.627 (0.572, 0.676) & 0.625 (0.570, 0.674) \\\\\n",
      "40 & 0.625 (0.573, 0.674) & 0.547 (0.487, 0.602) & 0.666 (0.617, 0.711) & 0.649 (0.598, 0.695) \\\\\n",
      "50 & 0.655 (0.605, 0.701) & 0.568 (0.506, 0.626) & 0.672 (0.622, 0.716) & 0.659 (0.609, 0.704) \\\\\n",
      "70 & 0.657 (0.609, 0.701) & 0.581 (0.520, 0.637) & 0.683 (0.634, 0.727) & 0.675 (0.626, 0.720) \\\\\n",
      "90 & 0.656 (0.605, 0.701) & 0.590 (0.528, 0.645) & 0.685 (0.636, 0.728) & 0.680 (0.631, 0.724) \\\\\n",
      "95 & 0.657 (0.608, 0.702) & 0.588 (0.529, 0.642) & 0.695 (0.647, 0.737) & 0.683 (0.635, 0.726) \\\\\n",
      "100 & 0.653 (0.602, 0.700) & 0.592 (0.532, 0.647) & 0.696 (0.648, 0.739) & 0.682 (0.634, 0.725) \\\\\n",
      "All & 0.686 (0.632, 0.732) & 0.635 (0.577, 0.686) & 0.741 (0.696, 0.780) & 0.734 (0.691, 0.772) \\\\\n"
     ]
    }
   ],
   "source": [
    "for cutoff in pearsonr_svd_crystal_sequence_identity:\n",
    "    c = pearsonr_svd_crystal_sequence_identity[cutoff]\n",
    "    d = pearsonr_svd_docked_sequence_identity[cutoff]\n",
    "    cr = pearsonr_svd_rdk_crystal_sequence_identity[cutoff]\n",
    "    dr = pearsonr_svd_rdk_docked_sequence_identity[cutoff]\n",
    "    print(f'{cutoff} & {c[0]:.3f} ({c[1]:.3f}, {c[2]:.3f}) & {d[0]:.3f} ({d[1]:.3f}, {d[2]:.3f}) & {cr[0]:.3f} ({cr[1]:.3f}, {cr[2]:.3f}) & {dr[0]:.3f} ({dr[1]:.3f}, {dr[2]:.3f}) \\\\\\\\')"
   ]
  },
  {
   "cell_type": "code",
   "execution_count": 51,
   "metadata": {},
   "outputs": [
    {
     "name": "stdout",
     "output_type": "stream",
     "text": [
      "0.3 & 0.542 (0.476, 0.602) & 0.537 (0.474, 0.595) & 0.573 (0.510, 0.630) & 0.576 (0.514, 0.633) \\\\\n",
      "0.4 & 0.614 (0.561, 0.663) & 0.561 (0.503, 0.616) & 0.606 (0.546, 0.659) & 0.609 (0.554, 0.661) \\\\\n",
      "0.5 & 0.637 (0.587, 0.682) & 0.587 (0.528, 0.642) & 0.652 (0.601, 0.699) & 0.660 (0.611, 0.706) \\\\\n",
      "0.6 & 0.648 (0.599, 0.694) & 0.596 (0.541, 0.648) & 0.674 (0.624, 0.720) & 0.683 (0.637, 0.726) \\\\\n",
      "0.7 & 0.662 (0.611, 0.707) & 0.604 (0.547, 0.658) & 0.697 (0.648, 0.741) & 0.708 (0.663, 0.749) \\\\\n",
      "0.8 & 0.668 (0.617, 0.714) & 0.621 (0.565, 0.672) & 0.707 (0.659, 0.750) & 0.713 (0.667, 0.754) \\\\\n",
      "0.9 & 0.668 (0.617, 0.715) & 0.622 (0.565, 0.674) & 0.708 (0.660, 0.751) & 0.716 (0.670, 0.757) \\\\\n",
      "1.0 & 0.666 (0.615, 0.712) & 0.621 (0.564, 0.673) & 0.709 (0.661, 0.752) & 0.713 (0.667, 0.755) \\\\\n",
      "All & 0.686 (0.632, 0.732) & 0.635 (0.577, 0.686) & 0.741 (0.696, 0.780) & 0.734 (0.691, 0.772) \\\\\n"
     ]
    }
   ],
   "source": [
    "for cutoff in pearsonr_svd_crystal_tanimoto:\n",
    "    c = pearsonr_svd_crystal_tanimoto[cutoff]\n",
    "    d = pearsonr_svd_docked_tanimoto[cutoff]\n",
    "    cr = pearsonr_svd_rdk_crystal_tanimoto[cutoff]\n",
    "    dr = pearsonr_svd_rdk_docked_tanimoto[cutoff]\n",
    "    print(f'{cutoff} & {c[0]:.3f} ({c[1]:.3f}, {c[2]:.3f}) & {d[0]:.3f} ({d[1]:.3f}, {d[2]:.3f}) & {cr[0]:.3f} ({cr[1]:.3f}, {cr[2]:.3f}) & {dr[0]:.3f} ({dr[1]:.3f}, {dr[2]:.3f}) \\\\\\\\')"
   ]
  },
  {
   "cell_type": "code",
   "execution_count": null,
   "metadata": {},
   "outputs": [],
   "source": []
  }
 ],
 "metadata": {
  "kernelspec": {
   "display_name": "Python 3.8.3 64-bit ('base')",
   "language": "python",
   "name": "python38364bitbasee0e66f8e4cdf4b30a175922b5b25ea0e"
  },
  "language_info": {
   "codemirror_mode": {
    "name": "ipython",
    "version": 3
   },
   "file_extension": ".py",
   "mimetype": "text/x-python",
   "name": "python",
   "nbconvert_exporter": "python",
   "pygments_lexer": "ipython3",
   "version": "3.8.3"
  }
 },
 "nbformat": 4,
 "nbformat_minor": 4
}
