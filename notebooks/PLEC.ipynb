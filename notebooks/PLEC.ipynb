{
 "cells": [
  {
   "cell_type": "code",
   "execution_count": 1,
   "metadata": {},
   "outputs": [],
   "source": [
    "from oddt.scoring.descriptors import universal_descriptor\n",
    "from oddt.fingerprints import PLEC\n",
    "from oddt.toolkits import rdk, ob\n",
    "\n",
    "from statistical_tests import bootstrap_pearsonr, permutation_pearsonr\n",
    "\n",
    "import json\n",
    "import numpy as np\n",
    "from joblib import delayed, Parallel\n",
    "from functools import partial\n",
    "from sklearn.ensemble import RandomForestRegressor\n",
    "\n",
    "from scipy import sparse, stats\n",
    "\n",
    "from oddt.fingerprints import sparse_to_csr_matrix, csr_matrix_to_sparse, fold, sparse_to_dense\n",
    "from matplotlib import pyplot as plt\n",
    "import json\n",
    "import pandas as pd\n",
    "\n",
    "class NumpyEncoder(json.JSONEncoder):\n",
    "    def default(self, obj):\n",
    "        if isinstance(obj, np.ndarray):\n",
    "            return obj.tolist()\n",
    "        return json.JSONEncoder.default(self, obj)\n",
    "\n",
    "PDBBIND_DIR = '/home/fergus/pdbbind/v2019'"
   ]
  },
  {
   "cell_type": "code",
   "execution_count": 2,
   "metadata": {},
   "outputs": [],
   "source": [
    "with open('../data/pdbbind_training_set.txt') as f:\n",
    "    train_pdbs = [l.strip() for l in f]\n",
    "    \n",
    "with open('../data/pdbbind_test_set.txt') as f:\n",
    "    test_pdbs = [l.strip() for l in f]"
   ]
  },
  {
   "cell_type": "code",
   "execution_count": 3,
   "metadata": {},
   "outputs": [],
   "source": [
    "@delayed\n",
    "def build(pdb):\n",
    "    protein = next(ob.readfile('pdb', f'{PDBBIND_DIR}/{pdb}/{pdb}_protein.pdb'))\n",
    "    protein.protein = True\n",
    "    # crystal\n",
    "    ligand = next(ob.readfile('sdf', f'{PDBBIND_DIR}/{pdb}/{pdb}_ligand.sdf'))\n",
    "    features_c = PLEC(ligand, protein, depth_ligand=1, depth_protein=5, size=65536, count_bits=True, sparse=True, ignore_hoh=True)\n",
    "    # docked        \n",
    "    ligand = next(ob.readfile('sdf', f'../pdbbind_docked_poses/{pdb}/{pdb}_ligand_docked.sdf'))\n",
    "    features_d = PLEC(ligand, protein, depth_ligand=1, depth_protein=5, size=65536, count_bits=True, sparse=True, ignore_hoh=True)\n",
    "    return (features_c, features_d)"
   ]
  },
  {
   "cell_type": "code",
   "execution_count": 114,
   "metadata": {
    "collapsed": true,
    "jupyter": {
     "outputs_hidden": true
    }
   },
   "outputs": [
    {
     "name": "stderr",
     "output_type": "stream",
     "text": [
      "[Parallel(n_jobs=6)]: Using backend LokyBackend with 6 concurrent workers.\n",
      "[Parallel(n_jobs=6)]: Done   1 tasks      | elapsed:    1.6s\n",
      "[Parallel(n_jobs=6)]: Done   6 tasks      | elapsed:    2.4s\n",
      "[Parallel(n_jobs=6)]: Done  13 tasks      | elapsed:    4.1s\n",
      "[Parallel(n_jobs=6)]: Done  20 tasks      | elapsed:   11.0s\n",
      "[Parallel(n_jobs=6)]: Done  29 tasks      | elapsed:   15.2s\n",
      "[Parallel(n_jobs=6)]: Done  38 tasks      | elapsed:   22.2s\n",
      "[Parallel(n_jobs=6)]: Done  49 tasks      | elapsed:   31.7s\n",
      "[Parallel(n_jobs=6)]: Done  60 tasks      | elapsed:   33.2s\n",
      "[Parallel(n_jobs=6)]: Done  73 tasks      | elapsed:   35.7s\n",
      "[Parallel(n_jobs=6)]: Done  86 tasks      | elapsed:   40.3s\n",
      "[Parallel(n_jobs=6)]: Done 101 tasks      | elapsed:   46.7s\n",
      "[Parallel(n_jobs=6)]: Done 116 tasks      | elapsed:   51.0s\n",
      "[Parallel(n_jobs=6)]: Done 133 tasks      | elapsed:   55.4s\n",
      "[Parallel(n_jobs=6)]: Done 150 tasks      | elapsed:  1.1min\n",
      "[Parallel(n_jobs=6)]: Done 169 tasks      | elapsed:  1.3min\n",
      "[Parallel(n_jobs=6)]: Done 188 tasks      | elapsed:  1.6min\n",
      "[Parallel(n_jobs=6)]: Done 209 tasks      | elapsed:  1.8min\n",
      "[Parallel(n_jobs=6)]: Done 230 tasks      | elapsed:  1.9min\n",
      "[Parallel(n_jobs=6)]: Done 253 tasks      | elapsed:  2.0min\n",
      "[Parallel(n_jobs=6)]: Done 276 tasks      | elapsed:  2.0min\n",
      "[Parallel(n_jobs=6)]: Done 301 tasks      | elapsed:  2.1min\n",
      "[Parallel(n_jobs=6)]: Done 326 tasks      | elapsed:  2.4min\n",
      "[Parallel(n_jobs=6)]: Done 353 tasks      | elapsed:  2.6min\n",
      "[Parallel(n_jobs=6)]: Done 380 tasks      | elapsed:  3.4min\n",
      "[Parallel(n_jobs=6)]: Done 409 tasks      | elapsed:  3.8min\n",
      "[Parallel(n_jobs=6)]: Done 438 tasks      | elapsed:  4.3min\n",
      "[Parallel(n_jobs=6)]: Done 469 tasks      | elapsed:  4.6min\n",
      "[Parallel(n_jobs=6)]: Done 500 tasks      | elapsed:  4.9min\n",
      "[Parallel(n_jobs=6)]: Done 533 tasks      | elapsed:  5.3min\n",
      "[Parallel(n_jobs=6)]: Done 566 tasks      | elapsed:  5.5min\n",
      "[Parallel(n_jobs=6)]: Done 601 tasks      | elapsed:  5.9min\n",
      "[Parallel(n_jobs=6)]: Done 636 tasks      | elapsed:  6.3min\n",
      "[Parallel(n_jobs=6)]: Done 673 tasks      | elapsed:  6.6min\n",
      "[Parallel(n_jobs=6)]: Done 710 tasks      | elapsed:  6.9min\n",
      "[Parallel(n_jobs=6)]: Done 749 tasks      | elapsed:  7.1min\n",
      "[Parallel(n_jobs=6)]: Done 788 tasks      | elapsed:  7.8min\n",
      "[Parallel(n_jobs=6)]: Done 829 tasks      | elapsed:  8.3min\n",
      "[Parallel(n_jobs=6)]: Done 870 tasks      | elapsed:  9.3min\n",
      "[Parallel(n_jobs=6)]: Done 913 tasks      | elapsed:  9.9min\n",
      "[Parallel(n_jobs=6)]: Done 956 tasks      | elapsed: 10.2min\n",
      "[Parallel(n_jobs=6)]: Done 1001 tasks      | elapsed: 10.6min\n",
      "[Parallel(n_jobs=6)]: Done 1046 tasks      | elapsed: 10.9min\n",
      "[Parallel(n_jobs=6)]: Done 1093 tasks      | elapsed: 11.3min\n",
      "[Parallel(n_jobs=6)]: Done 1140 tasks      | elapsed: 11.9min\n",
      "[Parallel(n_jobs=6)]: Done 1189 tasks      | elapsed: 12.4min\n",
      "[Parallel(n_jobs=6)]: Done 1238 tasks      | elapsed: 13.3min\n",
      "[Parallel(n_jobs=6)]: Done 1289 tasks      | elapsed: 13.9min\n",
      "[Parallel(n_jobs=6)]: Done 1340 tasks      | elapsed: 14.4min\n",
      "[Parallel(n_jobs=6)]: Done 1393 tasks      | elapsed: 16.4min\n",
      "[Parallel(n_jobs=6)]: Done 1446 tasks      | elapsed: 17.0min\n",
      "[Parallel(n_jobs=6)]: Done 1501 tasks      | elapsed: 17.7min\n",
      "[Parallel(n_jobs=6)]: Done 1556 tasks      | elapsed: 18.0min\n",
      "[Parallel(n_jobs=6)]: Done 1613 tasks      | elapsed: 18.7min\n",
      "[Parallel(n_jobs=6)]: Done 1670 tasks      | elapsed: 19.8min\n",
      "[Parallel(n_jobs=6)]: Done 1729 tasks      | elapsed: 20.6min\n",
      "[Parallel(n_jobs=6)]: Done 1788 tasks      | elapsed: 21.4min\n",
      "[Parallel(n_jobs=6)]: Done 1849 tasks      | elapsed: 23.6min\n",
      "[Parallel(n_jobs=6)]: Done 1910 tasks      | elapsed: 23.9min\n",
      "[Parallel(n_jobs=6)]: Done 1973 tasks      | elapsed: 24.6min\n",
      "[Parallel(n_jobs=6)]: Done 2036 tasks      | elapsed: 25.2min\n",
      "[Parallel(n_jobs=6)]: Done 2101 tasks      | elapsed: 25.7min\n",
      "[Parallel(n_jobs=6)]: Done 2166 tasks      | elapsed: 27.0min\n",
      "[Parallel(n_jobs=6)]: Done 2233 tasks      | elapsed: 28.6min\n",
      "[Parallel(n_jobs=6)]: Done 2300 tasks      | elapsed: 29.3min\n",
      "[Parallel(n_jobs=6)]: Done 2369 tasks      | elapsed: 30.1min\n",
      "[Parallel(n_jobs=6)]: Done 2438 tasks      | elapsed: 31.3min\n",
      "[Parallel(n_jobs=6)]: Done 2509 tasks      | elapsed: 32.5min\n",
      "[Parallel(n_jobs=6)]: Done 2580 tasks      | elapsed: 34.2min\n",
      "[Parallel(n_jobs=6)]: Done 2653 tasks      | elapsed: 35.1min\n",
      "[Parallel(n_jobs=6)]: Done 2726 tasks      | elapsed: 36.4min\n",
      "[Parallel(n_jobs=6)]: Done 2801 tasks      | elapsed: 37.0min\n",
      "[Parallel(n_jobs=6)]: Done 2876 tasks      | elapsed: 37.6min\n",
      "[Parallel(n_jobs=6)]: Done 2953 tasks      | elapsed: 38.2min\n",
      "[Parallel(n_jobs=6)]: Done 3030 tasks      | elapsed: 38.6min\n",
      "[Parallel(n_jobs=6)]: Done 3109 tasks      | elapsed: 39.2min\n",
      "[Parallel(n_jobs=6)]: Done 3188 tasks      | elapsed: 39.5min\n",
      "[Parallel(n_jobs=6)]: Done 3269 tasks      | elapsed: 39.9min\n",
      "[Parallel(n_jobs=6)]: Done 3350 tasks      | elapsed: 40.2min\n",
      "[Parallel(n_jobs=6)]: Done 3433 tasks      | elapsed: 40.6min\n",
      "[Parallel(n_jobs=6)]: Done 3516 tasks      | elapsed: 41.0min\n",
      "[Parallel(n_jobs=6)]: Done 3601 tasks      | elapsed: 41.5min\n",
      "[Parallel(n_jobs=6)]: Done 3686 tasks      | elapsed: 41.9min\n",
      "[Parallel(n_jobs=6)]: Done 3752 out of 3752 | elapsed: 42.5min finished\n"
     ]
    }
   ],
   "source": [
    "plecs_xtal = {}\n",
    "\n",
    "with Parallel(n_jobs=6, verbose=10) as parallel:\n",
    "    plecs_xtal = parallel(build_plec(pdb) for pdb in pdbs)"
   ]
  },
  {
   "cell_type": "code",
   "execution_count": 113,
   "metadata": {},
   "outputs": [],
   "source": [
    "\n",
    "with open('pdbbind_training_set_docked_plec_sparse.json', 'w') as f:\n",
    "    json.dump(plecs, f, cls=NumpyEncoder)"
   ]
  },
  {
   "cell_type": "code",
   "execution_count": 115,
   "metadata": {},
   "outputs": [],
   "source": [
    "with open('pdbbind_training_set_crystal_plec_sparse.json', 'w') as f:\n",
    "    json.dump(plecs_xtal, f, cls=NumpyEncoder)"
   ]
  },
  {
   "cell_type": "code",
   "execution_count": 121,
   "metadata": {},
   "outputs": [],
   "source": [
    "y = []\n",
    "x_docked = []\n",
    "x_crystal = []\n",
    "labels = []\n",
    "for plec_docked, plec_crystal, pdb in zip(plecs, plecs_xtal, pdbs):\n",
    "    y.append(1)\n",
    "    x_docked.append(sparse_to_csr_matrix(plec_docked, size=65536))\n",
    "    x_crystal.append(sparse_to_csr_matrix(plec_crystal, size=65536))\n",
    "    labels.append(pdb)\n",
    "    #x.append(sparse_to_dense(plec, size=65536).tolist())\n",
    "x_crystal = sparse.vstack(x_crystal, format='csr')\n",
    "x_docked = sparse.vstack(x_docked, format='csr')"
   ]
  },
  {
   "cell_type": "code",
   "execution_count": 125,
   "metadata": {},
   "outputs": [
    {
     "data": {
      "text/plain": [
       "93.53553550628129"
      ]
     },
     "execution_count": 125,
     "metadata": {},
     "output_type": "execute_result"
    }
   ],
   "source": [
    "1792298/1916168 * 100"
   ]
  },
  {
   "cell_type": "code",
   "execution_count": 126,
   "metadata": {},
   "outputs": [
    {
     "data": {
      "text/plain": [
       "510.7057569296375"
      ]
     },
     "execution_count": 126,
     "metadata": {},
     "output_type": "execute_result"
    }
   ],
   "source": [
    "1916168/len(pdbs)"
   ]
  },
  {
   "cell_type": "markdown",
   "metadata": {},
   "source": [
    "Docked poses have approx 93% the number of 'on' bits as crystal poses. Average of 510 of ~65.5k bits so very sparse!"
   ]
  },
  {
   "cell_type": "code",
   "execution_count": 122,
   "metadata": {},
   "outputs": [
    {
     "data": {
      "text/plain": [
       "<3752x65536 sparse matrix of type '<class 'numpy.uint8'>'\n",
       "\twith 1916168 stored elements in Compressed Sparse Row format>"
      ]
     },
     "execution_count": 122,
     "metadata": {},
     "output_type": "execute_result"
    }
   ],
   "source": [
    "x_crystal"
   ]
  },
  {
   "cell_type": "code",
   "execution_count": 123,
   "metadata": {},
   "outputs": [
    {
     "data": {
      "text/plain": [
       "<3752x65536 sparse matrix of type '<class 'numpy.uint8'>'\n",
       "\twith 1792298 stored elements in Compressed Sparse Row format>"
      ]
     },
     "execution_count": 123,
     "metadata": {},
     "output_type": "execute_result"
    }
   ],
   "source": [
    "x_docked"
   ]
  },
  {
   "cell_type": "code",
   "execution_count": 73,
   "metadata": {},
   "outputs": [],
   "source": [
    "from oddt.fingerprints import sparse_to_csr_matrix, csr_matrix_to_sparse, fold"
   ]
  },
  {
   "cell_type": "code",
   "execution_count": 8,
   "metadata": {},
   "outputs": [
    {
     "name": "stderr",
     "output_type": "stream",
     "text": [
      "[Parallel(n_jobs=6)]: Using backend LokyBackend with 6 concurrent workers.\n",
      "[Parallel(n_jobs=6)]: Done   1 tasks      | elapsed:    2.1s\n",
      "[Parallel(n_jobs=6)]: Done   6 tasks      | elapsed:    3.0s\n",
      "[Parallel(n_jobs=6)]: Done  13 tasks      | elapsed:    7.5s\n",
      "[Parallel(n_jobs=6)]: Done  20 tasks      | elapsed:   10.1s\n",
      "[Parallel(n_jobs=6)]: Done  29 tasks      | elapsed:   16.0s\n",
      "[Parallel(n_jobs=6)]: Done  38 tasks      | elapsed:   20.5s\n",
      "[Parallel(n_jobs=6)]: Done  49 tasks      | elapsed:   26.3s\n",
      "[Parallel(n_jobs=6)]: Done  60 tasks      | elapsed:   44.0s\n",
      "[Parallel(n_jobs=6)]: Done  73 tasks      | elapsed:   52.0s\n",
      "[Parallel(n_jobs=6)]: Done  86 tasks      | elapsed:  1.1min\n",
      "[Parallel(n_jobs=6)]: Done 101 tasks      | elapsed:  1.3min\n",
      "[Parallel(n_jobs=6)]: Done 116 tasks      | elapsed:  1.5min\n",
      "[Parallel(n_jobs=6)]: Done 133 tasks      | elapsed:  1.9min\n",
      "[Parallel(n_jobs=6)]: Done 150 tasks      | elapsed:  2.2min\n",
      "[Parallel(n_jobs=6)]: Done 169 tasks      | elapsed:  2.4min\n",
      "[Parallel(n_jobs=6)]: Done 188 tasks      | elapsed:  2.7min\n",
      "[Parallel(n_jobs=6)]: Done 209 tasks      | elapsed:  3.1min\n",
      "[Parallel(n_jobs=6)]: Done 230 tasks      | elapsed:  3.6min\n",
      "[Parallel(n_jobs=6)]: Done 253 tasks      | elapsed:  4.1min\n",
      "[Parallel(n_jobs=6)]: Done 276 tasks      | elapsed:  4.5min\n",
      "[Parallel(n_jobs=6)]: Done 301 tasks      | elapsed:  5.1min\n",
      "[Parallel(n_jobs=6)]: Done 326 tasks      | elapsed:  5.2min\n",
      "[Parallel(n_jobs=6)]: Done 353 tasks      | elapsed:  5.5min\n",
      "[Parallel(n_jobs=6)]: Done 380 tasks      | elapsed:  6.2min\n",
      "[Parallel(n_jobs=6)]: Done 409 tasks      | elapsed:  7.0min\n",
      "[Parallel(n_jobs=6)]: Done 438 tasks      | elapsed:  7.5min\n",
      "[Parallel(n_jobs=6)]: Done 469 tasks      | elapsed:  8.0min\n",
      "[Parallel(n_jobs=6)]: Done 500 tasks      | elapsed:  8.6min\n",
      "[Parallel(n_jobs=6)]: Done 519 out of 519 | elapsed:  8.9min finished\n"
     ]
    }
   ],
   "source": [
    "with Parallel(n_jobs=6, verbose=10) as parallel:\n",
    "    test_features = parallel(build(pdb) for pdb in test_pdbs)"
   ]
  },
  {
   "cell_type": "code",
   "execution_count": 14,
   "metadata": {},
   "outputs": [],
   "source": [
    "test_features_crystal = {}\n",
    "test_features_docked = {}\n",
    "\n",
    "for feature, pdb in zip(test_features, test_pdbs):\n",
    "    test_features_crystal[pdb] = feature[0]\n",
    "    test_features_docked[pdb] = feature[1]\n",
    "    \n",
    "with open('pdbbind_test_set_docked_plec_sparse.json', 'w') as f:\n",
    "    json.dump(test_features_docked, f, cls=NumpyEncoder)\n",
    "    \n",
    "with open('pdbbind_test_set_crystal_plec_sparse.json', 'w') as f:\n",
    "    json.dump(test_features_crystal, f, cls=NumpyEncoder)"
   ]
  },
  {
   "cell_type": "code",
   "execution_count": 19,
   "metadata": {},
   "outputs": [],
   "source": [
    "with open('pdbbind_training_set_docked_plec_sparse.json') as f:\n",
    "    train_features_docked = json.load(f)\n",
    "    \n",
    "with open('pdbbind_training_set_crystal_plec_sparse.json') as f:\n",
    "    train_features_crystal = json.load(f)"
   ]
  },
  {
   "cell_type": "code",
   "execution_count": 20,
   "metadata": {},
   "outputs": [],
   "source": [
    "with open('pdbbind_test_set_docked_plec_sparse.json') as f:\n",
    "    test_features_docked = json.load(f)\n",
    "    \n",
    "with open('pdbbind_test_set_crystal_plec_sparse.json') as f:\n",
    "    test_features_crystal = json.load(f)"
   ]
  },
  {
   "cell_type": "code",
   "execution_count": 21,
   "metadata": {},
   "outputs": [],
   "source": [
    "train_affinity = pd.read_csv('../data/pdbbind_training_set_binding_affinity.csv', index_col=0, header=None, squeeze=True)\n",
    "test_affinity = pd.read_csv('../data/pdbbind_test_set_binding_affinity.csv', index_col=0, header=None, squeeze=True)"
   ]
  },
  {
   "cell_type": "code",
   "execution_count": 8,
   "metadata": {},
   "outputs": [],
   "source": [
    "y_train = []\n",
    "X_train_crystal = []\n",
    "X_train_docked = []\n",
    "labels = []\n",
    "for plec_docked, plec_crystal, pdb in zip(train_features_crystal, train_features_docked, train_pdbs):\n",
    "    X_train_crystal.append(sparse_to_csr_matrix(plec_crystal, size=65536))\n",
    "    X_train_docked.append(sparse_to_csr_matrix(plec_docked, size=65536))\n",
    "    y_train.append(train_affinity.loc[pdb])\n",
    "X_train_crystal = sparse.vstack(X_train_crystal, format='csr')\n",
    "X_train_docked = sparse.vstack(X_train_docked, format='csr')"
   ]
  },
  {
   "cell_type": "code",
   "execution_count": 9,
   "metadata": {},
   "outputs": [],
   "source": [
    "y_test = []\n",
    "X_test_crystal = []\n",
    "X_test_docked = []\n",
    "labels = []\n",
    "for pdb in test_pdbs:\n",
    "    X_test_crystal.append(sparse_to_csr_matrix(test_features_crystal[pdb], size=65536))\n",
    "    X_test_docked.append(sparse_to_csr_matrix(test_features_docked[pdb], size=65536))\n",
    "    y_test.append(test_affinity.loc[pdb])\n",
    "X_test_crystal = sparse.vstack(X_test_crystal, format='csr')\n",
    "X_test_docked = sparse.vstack(X_test_docked, format='csr')"
   ]
  },
  {
   "cell_type": "code",
   "execution_count": 38,
   "metadata": {},
   "outputs": [
    {
     "name": "stdout",
     "output_type": "stream",
     "text": [
      "CPU times: user 1h 54min 36s, sys: 9.37 s, total: 1h 54min 45s\n",
      "Wall time: 15min 32s\n"
     ]
    },
    {
     "data": {
      "text/plain": [
       "RandomForestRegressor(max_features=0.33, n_estimators=500, n_jobs=8,\n",
       "                      oob_score=True, random_state=42)"
      ]
     },
     "execution_count": 38,
     "metadata": {},
     "output_type": "execute_result"
    }
   ],
   "source": [
    "%%time\n",
    "rf_crystal = RandomForestRegressor(n_estimators=500, max_features=0.33,random_state=42, n_jobs=8, oob_score=True)\n",
    "rf_crystal.fit(X_train_crystal, y_train)\n",
    "rf_docked = RandomForestRegressor(n_estimators=500, max_features=0.33,random_state=42, n_jobs=8, oob_score=True)\n",
    "rf_docked.fit(X_train_docked, y_train)"
   ]
  },
  {
   "cell_type": "code",
   "execution_count": 39,
   "metadata": {},
   "outputs": [],
   "source": [
    "predicted_crystal = rf_crystal.predict(X_test_crystal)\n",
    "predicted_docked = rf_docked.predict(X_test_docked)"
   ]
  },
  {
   "cell_type": "code",
   "execution_count": 44,
   "metadata": {},
   "outputs": [
    {
     "name": "stdout",
     "output_type": "stream",
     "text": [
      "0.7036850723759726\n"
     ]
    },
    {
     "data": {
      "image/png": "[encoded data removed]",
      "text/plain": [
       "<Figure size 432x288 with 1 Axes>"
      ]
     },
     "metadata": {
      "needs_background": "light"
     },
     "output_type": "display_data"
    }
   ],
   "source": [
    "plt.scatter(y_test, predicted_crystal)\n",
    "print(stats.pearsonr(y_test, predicted_crystal)[0])"
   ]
  },
  {
   "cell_type": "code",
   "execution_count": 45,
   "metadata": {},
   "outputs": [
    {
     "name": "stdout",
     "output_type": "stream",
     "text": [
      "0.6589021380413864\n"
     ]
    },
    {
     "data": {
      "image/png": "[encoded data removed]",
      "text/plain": [
       "<Figure size 432x288 with 1 Axes>"
      ]
     },
     "metadata": {
      "needs_background": "light"
     },
     "output_type": "display_data"
    }
   ],
   "source": [
    "plt.scatter(y_test, predicted_docked)\n",
    "print(stats.pearsonr(y_test, predicted_docked)[0])"
   ]
  },
  {
   "cell_type": "code",
   "execution_count": 47,
   "metadata": {},
   "outputs": [
    {
     "name": "stdout",
     "output_type": "stream",
     "text": [
      "CPU times: user 42min 54s, sys: 3 s, total: 42min 57s\n",
      "Wall time: 5min 52s\n"
     ]
    },
    {
     "data": {
      "text/plain": [
       "RandomForestRegressor(n_jobs=8, oob_score=True, random_state=0)"
      ]
     },
     "execution_count": 47,
     "metadata": {},
     "output_type": "execute_result"
    }
   ],
   "source": [
    "%%time\n",
    "\n",
    "# using original plecscore params\n",
    "plecscore_crystal = RandomForestRegressor(n_estimators=100, random_state=0, n_jobs=8, oob_score=True)\n",
    "plecscore_crystal.fit(X_train_crystal, y_train)\n",
    "plecscore_docked = RandomForestRegressor(n_estimators=100, random_state=0, n_jobs=8, oob_score=True)\n",
    "plecscore_docked.fit(X_train_docked, y_train)"
   ]
  },
  {
   "cell_type": "code",
   "execution_count": 48,
   "metadata": {},
   "outputs": [],
   "source": [
    "predicted_plecscore_crystal = plecscore_crystal.predict(X_test_crystal)\n",
    "predicted_plecscore_docked = plecscore_docked.predict(X_test_docked)"
   ]
  },
  {
   "cell_type": "code",
   "execution_count": 49,
   "metadata": {},
   "outputs": [
    {
     "name": "stdout",
     "output_type": "stream",
     "text": [
      "0.6855406644517302\n"
     ]
    },
    {
     "data": {
      "image/png": "[encoded data removed]",
      "text/plain": [
       "<Figure size 432x288 with 1 Axes>"
      ]
     },
     "metadata": {
      "needs_background": "light"
     },
     "output_type": "display_data"
    }
   ],
   "source": [
    "plt.scatter(y_test, predicted_plecscore_crystal)\n",
    "print(stats.pearsonr(y_test, predicted_plecscore_crystal)[0])"
   ]
  },
  {
   "cell_type": "code",
   "execution_count": 50,
   "metadata": {},
   "outputs": [
    {
     "name": "stdout",
     "output_type": "stream",
     "text": [
      "0.6449895681766727\n"
     ]
    },
    {
     "data": {
      "image/png": "[encoded data removed]",
      "text/plain": [
       "<Figure size 432x288 with 1 Axes>"
      ]
     },
     "metadata": {
      "needs_background": "light"
     },
     "output_type": "display_data"
    }
   ],
   "source": [
    "plt.scatter(y_test, predicted_plecscore_docked)\n",
    "print(stats.pearsonr(y_test, predicted_plecscore_docked)[0])"
   ]
  },
  {
   "cell_type": "code",
   "execution_count": 6,
   "metadata": {},
   "outputs": [
    {
     "ename": "NameError",
     "evalue": "name 'train_features_dense_docked' is not defined",
     "output_type": "error",
     "traceback": [
      "\u001b[0;31m---------------------------------------------------------------------------\u001b[0m",
      "\u001b[0;31mNameError\u001b[0m                                 Traceback (most recent call last)",
      "\u001b[0;32m<ipython-input-6-7e7c6e8b50b4>\u001b[0m in \u001b[0;36m<module>\u001b[0;34m\u001b[0m\n\u001b[1;32m      1\u001b[0m \u001b[0;32mdel\u001b[0m \u001b[0mtrain_features_docked\u001b[0m\u001b[0;34m\u001b[0m\u001b[0;34m\u001b[0m\u001b[0m\n\u001b[1;32m      2\u001b[0m \u001b[0;32mdel\u001b[0m \u001b[0mtest_features_docked\u001b[0m\u001b[0;34m\u001b[0m\u001b[0;34m\u001b[0m\u001b[0m\n\u001b[0;32m----> 3\u001b[0;31m \u001b[0;32mdel\u001b[0m \u001b[0mtrain_features_dense_docked\u001b[0m\u001b[0;34m\u001b[0m\u001b[0;34m\u001b[0m\u001b[0m\n\u001b[0m\u001b[1;32m      4\u001b[0m \u001b[0;32mdel\u001b[0m \u001b[0mtest_features_dense_docked\u001b[0m\u001b[0;34m\u001b[0m\u001b[0;34m\u001b[0m\u001b[0m\n",
      "\u001b[0;31mNameError\u001b[0m: name 'train_features_dense_docked' is not defined"
     ]
    }
   ],
   "source": [
    "del train_features_docked\n",
    "del test_features_docked\n",
    "del train_features_dense_docked\n",
    "del test_features_dense_docked"
   ]
  },
  {
   "cell_type": "code",
   "execution_count": 7,
   "metadata": {},
   "outputs": [],
   "source": [
    "pdbbind_training_set = pd.Index(train_pdbs)\n",
    "pdbbind_test_set = pd.Index(test_pdbs)"
   ]
  },
  {
   "cell_type": "code",
   "execution_count": 8,
   "metadata": {},
   "outputs": [],
   "source": [
    "blast_clusters = {}\n",
    "for cutoff in [30, 40, 50, 70, 90, 95, 100]:\n",
    "    with open(f'../data/bc-{cutoff}.out') as f:\n",
    "        blast_clusters[cutoff] = [set(item[:4].lower() for item in line.strip().split()) for line in f]\n",
    "\n",
    "test_set_similar_pdbs = {}\n",
    "for cutoff in blast_clusters:\n",
    "    pdbs = set()\n",
    "    for pdb in pdbbind_test_set:\n",
    "        for cluster in blast_clusters[cutoff]:\n",
    "            if pdb in cluster:\n",
    "                pdbs.update(cluster)\n",
    "    test_set_similar_pdbs[cutoff] = pd.Index(pdbs).intersection(pdbbind_training_set)\n",
    "\n",
    "test_set_similar_pdbs['All'] = pd.Index([])"
   ]
  },
  {
   "cell_type": "code",
   "execution_count": 9,
   "metadata": {},
   "outputs": [],
   "source": [
    "with open('../data/pdbbind_ligand_tanimoto_similarity.json') as f:\n",
    "    tanimoto_similarity = json.load(f)\n",
    "\n",
    "tc_thresholds = [0.3, 0.4, 0.5, 0.6, 0.7, 0.8, 0.9, 1.0]\n",
    "\n",
    "test_set_similar_ligands = {}\n",
    "\n",
    "for t in tc_thresholds:\n",
    "    similar = set()\n",
    "    for pdb_test in pdbbind_test_set:\n",
    "        for pdb_train in pdbbind_training_set:\n",
    "            if pdb_train in similar:\n",
    "                continue\n",
    "            if tanimoto_similarity[pdb_test][pdb_train] >= t:\n",
    "                similar.add(pdb_train)\n",
    "    test_set_similar_ligands[t] = pd.Index(similar)\n",
    "test_set_similar_ligands['All'] = pd.Index([])"
   ]
  },
  {
   "cell_type": "code",
   "execution_count": 13,
   "metadata": {},
   "outputs": [],
   "source": [
    "y_train = []\n",
    "X_train_crystal = []\n",
    "X_train_docked = []\n",
    "labels = []\n",
    "for plec_docked, plec_crystal, pdb in zip(train_features_crystal, train_features_docked, train_pdbs):\n",
    "    X_train_crystal.append(sparse_to_csr_matrix(plec_crystal, size=65536))\n",
    "    X_train_docked.append(sparse_to_csr_matrix(plec_docked, size=65536))\n",
    "    y_train.append(train_affinity.loc[pdb])\n",
    "X_train_crystal = sparse.vstack(X_train_crystal, format='csr')\n",
    "X_train_docked = sparse.vstack(X_train_docked, format='csr')"
   ]
  },
  {
   "cell_type": "code",
   "execution_count": 14,
   "metadata": {},
   "outputs": [],
   "source": [
    "y_test = []\n",
    "X_test_crystal = []\n",
    "X_test_docked = []\n",
    "labels = []\n",
    "for pdb in test_pdbs:\n",
    "    X_test_crystal.append(sparse_to_csr_matrix(test_features_crystal[pdb], size=65536))\n",
    "    X_test_docked.append(sparse_to_csr_matrix(test_features_docked[pdb], size=65536))\n",
    "    y_test.append(test_affinity.loc[pdb])\n",
    "X_test_crystal = sparse.vstack(X_test_crystal, format='csr')\n",
    "X_test_docked = sparse.vstack(X_test_docked, format='csr')"
   ]
  },
  {
   "cell_type": "code",
   "execution_count": 17,
   "metadata": {},
   "outputs": [
    {
     "name": "stdout",
     "output_type": "stream",
     "text": [
      "30\n",
      "40\n",
      "50\n",
      "70\n",
      "90\n",
      "95\n",
      "100\n",
      "All\n",
      "CPU times: user 7h 17min 48s, sys: 19.3 s, total: 7h 18min 8s\n",
      "Wall time: 59min 9s\n"
     ]
    }
   ],
   "source": [
    "%%time\n",
    "predicted_crystal_sequence_identity = {}\n",
    "predicted_docked_sequence_identity = {}\n",
    "pearsonr_crystal_sequence_identity = {}\n",
    "pearsonr_docked_sequence_identity = {}\n",
    "\n",
    "X_test_crystal = []\n",
    "X_test_docked = []\n",
    "y_test = []\n",
    "for pdb in pdbbind_test_set:\n",
    "    X_test_crystal.append(sparse_to_csr_matrix(test_features_crystal[pdb], size=65536))\n",
    "    X_test_docked.append(sparse_to_csr_matrix(test_features_docked[pdb], size=65536))\n",
    "    y_test.append(test_affinity.loc[pdb])\n",
    "X_test_crystal = sparse.vstack(X_test_crystal, format='csr')\n",
    "X_test_docked = sparse.vstack(X_test_docked, format='csr')\n",
    "\n",
    "for cutoff in test_set_similar_pdbs:\n",
    "    print(cutoff)\n",
    "    y_train = []\n",
    "    X_train_crystal = []\n",
    "    X_train_docked = []\n",
    "    for plec_docked, plec_crystal, pdb in zip(train_features_crystal, train_features_docked, pdbbind_training_set):\n",
    "        if pdb in test_set_similar_pdbs[cutoff]:\n",
    "            continue\n",
    "        X_train_crystal.append(sparse_to_csr_matrix(plec_crystal, size=65536))\n",
    "        X_train_docked.append(sparse_to_csr_matrix(plec_docked, size=65536))\n",
    "        y_train.append(train_affinity.loc[pdb])\n",
    "    X_train_crystal = sparse.vstack(X_train_crystal, format='csr')\n",
    "    X_train_docked = sparse.vstack(X_train_docked, format='csr')\n",
    "    \n",
    "    rf_crystal = RandomForestRegressor(n_estimators=500, max_features=0.33,random_state=42, n_jobs=8, oob_score=True)\n",
    "    rf_crystal.fit(X_train_crystal, y_train)\n",
    "    rf_docked = RandomForestRegressor(n_estimators=500, max_features=0.33,random_state=42, n_jobs=8, oob_score=True)\n",
    "    rf_docked.fit(X_train_docked, y_train)\n",
    "    \n",
    "    predicted_crystal = rf_crystal.predict(X_test_crystal)\n",
    "    predicted_docked = rf_docked.predict(X_test_docked)\n",
    "    predicted_crystal_sequence_identity[cutoff] = {pdb: pred for pdb, pred in zip(pdbbind_test_set, predicted_crystal)}\n",
    "    predicted_docked_sequence_identity[cutoff] = {pdb: pred for pdb, pred in zip(pdbbind_test_set, predicted_docked)}\n",
    "    \n",
    "    pearsonr_crystal_sequence_identity[cutoff] = stats.pearsonr(y_test, predicted_crystal)[0]\n",
    "    pearsonr_docked_sequence_identity[cutoff] = stats.pearsonr(y_test, predicted_docked)[0]"
   ]
  },
  {
   "cell_type": "code",
   "execution_count": 22,
   "metadata": {},
   "outputs": [
    {
     "name": "stdout",
     "output_type": "stream",
     "text": [
      "0.3\n",
      "0.4\n",
      "0.5\n",
      "0.6\n",
      "0.7\n",
      "0.8\n",
      "0.9\n",
      "1.0\n",
      "All\n",
      "CPU times: user 13h 22min 35s, sys: 2min 36s, total: 13h 25min 12s\n",
      "Wall time: 1h 59min 37s\n"
     ]
    }
   ],
   "source": [
    "%%time\n",
    "predicted_crystal_tanimoto = {}\n",
    "predicted_docked_tanimoto = {}\n",
    "pearsonr_crystal_tanimoto = {}\n",
    "pearsonr_docked_tanimoto = {}\n",
    "\n",
    "X_test_crystal = []\n",
    "X_test_docked = []\n",
    "y_test = []\n",
    "for pdb in pdbbind_test_set:\n",
    "    X_test_crystal.append(sparse_to_csr_matrix(test_features_crystal[pdb], size=65536))\n",
    "    X_test_docked.append(sparse_to_csr_matrix(test_features_docked[pdb], size=65536))\n",
    "    y_test.append(test_affinity.loc[pdb])\n",
    "X_test_crystal = sparse.vstack(X_test_crystal, format='csr')\n",
    "X_test_docked = sparse.vstack(X_test_docked, format='csr')\n",
    "\n",
    "for cutoff in test_set_similar_ligands:\n",
    "    print(cutoff)\n",
    "    y_train = []\n",
    "    X_train_crystal = []\n",
    "    X_train_docked = []\n",
    "    for plec_docked, plec_crystal, pdb in zip(train_features_crystal, train_features_docked, pdbbind_training_set):\n",
    "        if pdb in test_set_similar_ligands[cutoff]:\n",
    "            continue\n",
    "        X_train_crystal.append(sparse_to_csr_matrix(plec_crystal, size=65536))\n",
    "        X_train_docked.append(sparse_to_csr_matrix(plec_docked, size=65536))\n",
    "        y_train.append(train_affinity.loc[pdb])\n",
    "    X_train_crystal = sparse.vstack(X_train_crystal, format='csr')\n",
    "    X_train_docked = sparse.vstack(X_train_docked, format='csr')\n",
    "    \n",
    "    rf_crystal = RandomForestRegressor(n_estimators=500, max_features=0.33,random_state=42, n_jobs=8, oob_score=True)\n",
    "    rf_crystal.fit(X_train_crystal, y_train)\n",
    "    rf_docked = RandomForestRegressor(n_estimators=500, max_features=0.33,random_state=42, n_jobs=8, oob_score=True)\n",
    "    rf_docked.fit(X_train_docked, y_train)\n",
    "    \n",
    "    predicted_crystal = rf_crystal.predict(X_test_crystal)\n",
    "    predicted_docked = rf_docked.predict(X_test_docked)\n",
    "    predicted_crystal_tanimoto[cutoff] = {pdb: pred for pdb, pred in zip(pdbbind_test_set, predicted_crystal)}\n",
    "    predicted_docked_tanimoto[cutoff] = {pdb: pred for pdb, pred in zip(pdbbind_test_set, predicted_docked)}\n",
    "    \n",
    "    pearsonr_crystal_tanimoto[cutoff] = stats.pearsonr(y_test, predicted_crystal)[0]\n",
    "    pearsonr_docked_tanimoto[cutoff] = stats.pearsonr(y_test, predicted_docked)[0]"
   ]
  },
  {
   "cell_type": "code",
   "execution_count": 32,
   "metadata": {},
   "outputs": [],
   "source": [
    "with open('PLEC_predicted_crystal_sequence_identity.json', 'w') as f:\n",
    "    json.dump(predicted_crystal_sequence_identity, f, cls=NumpyEncoder)\n",
    "with open('PLEC_predicted_docked_sequence_identity.json', 'w') as f:\n",
    "    json.dump(predicted_docked_sequence_identity, f, cls=NumpyEncoder)\n",
    "with open('PLEC_pearsonr_crystal_sequence_identity.json', 'w') as f:\n",
    "    json.dump(pearsonr_crystal_sequence_identity, f, cls=NumpyEncoder)\n",
    "with open('PLEC_pearsonr_docked_sequence_identity.json', 'w') as f:\n",
    "    json.dump(pearsonr_docked_sequence_identity, f, cls=NumpyEncoder)"
   ]
  },
  {
   "cell_type": "code",
   "execution_count": 23,
   "metadata": {},
   "outputs": [],
   "source": [
    "with open('PLEC_predicted_crystal_tanimoto.json', 'w') as f:\n",
    "    json.dump(predicted_crystal_tanimoto, f, cls=NumpyEncoder)\n",
    "with open('PLEC_predicted_docked_tanimoto.json', 'w') as f:\n",
    "    json.dump(predicted_docked_tanimoto, f, cls=NumpyEncoder)\n",
    "with open('PLEC_pearsonr_crystal_tanimoto.json', 'w') as f:\n",
    "    json.dump(pearsonr_crystal_tanimoto, f, cls=NumpyEncoder)\n",
    "with open('PLEC_pearsonr_docked_tanimoto.json', 'w') as f:\n",
    "    json.dump(pearsonr_docked_tanimoto, f, cls=NumpyEncoder)"
   ]
  },
  {
   "cell_type": "code",
   "execution_count": 24,
   "metadata": {},
   "outputs": [],
   "source": [
    "with open('PLEC_predicted_crystal_sequence_identity.json') as f:\n",
    "    predicted_crystal_sequence_identity = json.load(f)\n",
    "with open('PLEC_predicted_docked_sequence_identity.json') as f:\n",
    "    predicted_docked_sequence_identity = json.load(f)\n",
    "with open('PLEC_pearsonr_crystal_sequence_identity.json') as f:\n",
    "    pearsonr_crystal_sequence_identity = json.load(f)\n",
    "with open('PLEC_pearsonr_docked_sequence_identity.json') as f:\n",
    "    pearsonr_docked_sequence_identity = json.load(f)"
   ]
  },
  {
   "cell_type": "code",
   "execution_count": 11,
   "metadata": {},
   "outputs": [],
   "source": [
    "import statistical_tests as st\n",
    "\n",
    "pearsonr_ci_crystal_si = {}\n",
    "pearsonr_ci_docked_si = {}\n",
    "pearsonr_pval_crystal_si = {}\n",
    "pearsonr_pval_docked_si = {}\n",
    "\n",
    "y_test = test_affinity.loc[pdbbind_test_set]\n",
    "for cutoff in predicted_crystal_sequence_identity:\n",
    "    y_pred = pd.Series(predicted_crystal_sequence_identity[cutoff]).loc[pdbbind_test_set]\n",
    "    pearsonr_ci_crystal_si[cutoff] = st.bootstrap_pearsonr(y_test, y_pred)\n",
    "    pearsonr_ci_docked_si[cutoff] = st.bootstrap_pearsonr(y_test, y_pred)\n",
    "    y_pred = pd.Series(predicted_docked_sequence_identity[cutoff]).loc[pdbbind_test_set]\n",
    "    pearsonr_pval_crystal_si[cutoff] = st.permutation_pearsonr(y_test, y_pred)\n",
    "    pearsonr_pval_docked_si[cutoff] = st.permutation_pearsonr(y_test, y_pred)"
   ]
  },
  {
   "cell_type": "code",
   "execution_count": 12,
   "metadata": {},
   "outputs": [
    {
     "data": {
      "text/plain": [
       "{'30': (0.5608741009330555, 0.5034597530881951, 0.6132666208573603),\n",
       " '40': (0.5913791650624448, 0.5341760764513837, 0.6445723559667932),\n",
       " '50': (0.6234230604628606, 0.5717141127418369, 0.6719038999799519),\n",
       " '70': (0.6305215293531099, 0.5788854945214194, 0.6784414090677245),\n",
       " '90': (0.6312312482487037, 0.5785414080015201, 0.6792700493918344),\n",
       " '95': (0.6269577836939475, 0.5724170234559904, 0.6760374415105496),\n",
       " '100': (0.6368134529910341, 0.5842940963707411, 0.6846061047681368),\n",
       " 'All': (0.7036850723759726, 0.6509589693948276, 0.750363682672983)}"
      ]
     },
     "execution_count": 12,
     "metadata": {},
     "output_type": "execute_result"
    }
   ],
   "source": [
    "pearsonr_ci_crystal_si"
   ]
  },
  {
   "cell_type": "code",
   "execution_count": 13,
   "metadata": {},
   "outputs": [
    {
     "data": {
      "text/plain": [
       "{'30': (0.5608741009330555, 0.5034597530881951, 0.6132666208573603),\n",
       " '40': (0.5913791650624448, 0.5341760764513837, 0.6445723559667932),\n",
       " '50': (0.6234230604628606, 0.5717141127418369, 0.6719038999799519),\n",
       " '70': (0.6305215293531099, 0.5788854945214194, 0.6784414090677245),\n",
       " '90': (0.6312312482487037, 0.5785414080015201, 0.6792700493918344),\n",
       " '95': (0.6269577836939475, 0.5724170234559904, 0.6760374415105496),\n",
       " '100': (0.6368134529910341, 0.5842940963707411, 0.6846061047681368),\n",
       " 'All': (0.7036850723759726, 0.6509589693948276, 0.750363682672983)}"
      ]
     },
     "execution_count": 13,
     "metadata": {},
     "output_type": "execute_result"
    }
   ],
   "source": [
    "pearsonr_ci_docked_si"
   ]
  },
  {
   "cell_type": "code",
   "execution_count": 14,
   "metadata": {},
   "outputs": [],
   "source": [
    "lb_features = pd.read_csv('lb_features.csv', index_col=0)"
   ]
  },
  {
   "cell_type": "code",
   "execution_count": 17,
   "metadata": {},
   "outputs": [
    {
     "data": {
      "text/plain": [
       "4pcs    6.00974\n",
       "1sl3    8.38248\n",
       "3kwa    5.43680\n",
       "3bv9    6.66958\n",
       "3ueu    5.69118\n",
       "         ...   \n",
       "4ivb    7.97460\n",
       "2wn9    5.62578\n",
       "1rnt    4.96144\n",
       "2jdm    5.30218\n",
       "4gr0    7.60306\n",
       "Length: 519, dtype: float64"
      ]
     },
     "execution_count": 17,
     "metadata": {},
     "output_type": "execute_result"
    }
   ],
   "source": [
    "pd.Series(predicted_docked_sequence_identity['All'])"
   ]
  },
  {
   "cell_type": "code",
   "execution_count": 16,
   "metadata": {},
   "outputs": [
    {
     "ename": "KeyError",
     "evalue": "\"None of [Index(['184l', '185l', '186l', '187l', '188l', '1a28', '1a4k', '1a4r', '1a4w',\\n       '1a94',\\n       ...\\n       '6eqp', '6equ', '6euw', '6eux', '6ezq', '6upj', '7std', '7upj', '8a3h',\\n       '966c'],\\n      dtype='object', length=3752)] are in the [index]\"",
     "output_type": "error",
     "traceback": [
      "\u001b[0;31m---------------------------------------------------------------------------\u001b[0m",
      "\u001b[0;31mKeyError\u001b[0m                                  Traceback (most recent call last)",
      "\u001b[0;32m<ipython-input-16-67c21be87161>\u001b[0m in \u001b[0;36m<module>\u001b[0;34m\u001b[0m\n\u001b[1;32m      1\u001b[0m \u001b[0mX_train\u001b[0m \u001b[0;34m=\u001b[0m \u001b[0mlb_features\u001b[0m\u001b[0;34m.\u001b[0m\u001b[0mloc\u001b[0m\u001b[0;34m[\u001b[0m\u001b[0mpdbbind_training_set\u001b[0m\u001b[0;34m]\u001b[0m\u001b[0;34m\u001b[0m\u001b[0;34m\u001b[0m\u001b[0m\n\u001b[0;32m----> 2\u001b[0;31m \u001b[0mX_train\u001b[0m\u001b[0;34m[\u001b[0m\u001b[0;34m'PLECscore'\u001b[0m\u001b[0;34m]\u001b[0m \u001b[0;34m=\u001b[0m \u001b[0mpd\u001b[0m\u001b[0;34m.\u001b[0m\u001b[0mSeries\u001b[0m\u001b[0;34m(\u001b[0m\u001b[0mpredicted_docked_sequence_identity\u001b[0m\u001b[0;34m[\u001b[0m\u001b[0;34m'All'\u001b[0m\u001b[0;34m]\u001b[0m\u001b[0;34m)\u001b[0m\u001b[0;34m.\u001b[0m\u001b[0mloc\u001b[0m\u001b[0;34m[\u001b[0m\u001b[0mpdbbind_training_set\u001b[0m\u001b[0;34m]\u001b[0m\u001b[0;34m\u001b[0m\u001b[0;34m\u001b[0m\u001b[0m\n\u001b[0m",
      "\u001b[0;32m~/miniconda3/lib/python3.8/site-packages/pandas/core/indexing.py\u001b[0m in \u001b[0;36m__getitem__\u001b[0;34m(self, key)\u001b[0m\n\u001b[1;32m    893\u001b[0m \u001b[0;34m\u001b[0m\u001b[0m\n\u001b[1;32m    894\u001b[0m             \u001b[0mmaybe_callable\u001b[0m \u001b[0;34m=\u001b[0m \u001b[0mcom\u001b[0m\u001b[0;34m.\u001b[0m\u001b[0mapply_if_callable\u001b[0m\u001b[0;34m(\u001b[0m\u001b[0mkey\u001b[0m\u001b[0;34m,\u001b[0m \u001b[0mself\u001b[0m\u001b[0;34m.\u001b[0m\u001b[0mobj\u001b[0m\u001b[0;34m)\u001b[0m\u001b[0;34m\u001b[0m\u001b[0;34m\u001b[0m\u001b[0m\n\u001b[0;32m--> 895\u001b[0;31m             \u001b[0;32mreturn\u001b[0m \u001b[0mself\u001b[0m\u001b[0;34m.\u001b[0m\u001b[0m_getitem_axis\u001b[0m\u001b[0;34m(\u001b[0m\u001b[0mmaybe_callable\u001b[0m\u001b[0;34m,\u001b[0m \u001b[0maxis\u001b[0m\u001b[0;34m=\u001b[0m\u001b[0maxis\u001b[0m\u001b[0;34m)\u001b[0m\u001b[0;34m\u001b[0m\u001b[0;34m\u001b[0m\u001b[0m\n\u001b[0m\u001b[1;32m    896\u001b[0m \u001b[0;34m\u001b[0m\u001b[0m\n\u001b[1;32m    897\u001b[0m     \u001b[0;32mdef\u001b[0m \u001b[0m_is_scalar_access\u001b[0m\u001b[0;34m(\u001b[0m\u001b[0mself\u001b[0m\u001b[0;34m,\u001b[0m \u001b[0mkey\u001b[0m\u001b[0;34m:\u001b[0m \u001b[0mTuple\u001b[0m\u001b[0;34m)\u001b[0m\u001b[0;34m:\u001b[0m\u001b[0;34m\u001b[0m\u001b[0;34m\u001b[0m\u001b[0m\n",
      "\u001b[0;32m~/miniconda3/lib/python3.8/site-packages/pandas/core/indexing.py\u001b[0m in \u001b[0;36m_getitem_axis\u001b[0;34m(self, key, axis)\u001b[0m\n\u001b[1;32m   1111\u001b[0m                     \u001b[0;32mraise\u001b[0m \u001b[0mValueError\u001b[0m\u001b[0;34m(\u001b[0m\u001b[0;34m\"Cannot index with multidimensional key\"\u001b[0m\u001b[0;34m)\u001b[0m\u001b[0;34m\u001b[0m\u001b[0;34m\u001b[0m\u001b[0m\n\u001b[1;32m   1112\u001b[0m \u001b[0;34m\u001b[0m\u001b[0m\n\u001b[0;32m-> 1113\u001b[0;31m                 \u001b[0;32mreturn\u001b[0m \u001b[0mself\u001b[0m\u001b[0;34m.\u001b[0m\u001b[0m_getitem_iterable\u001b[0m\u001b[0;34m(\u001b[0m\u001b[0mkey\u001b[0m\u001b[0;34m,\u001b[0m \u001b[0maxis\u001b[0m\u001b[0;34m=\u001b[0m\u001b[0maxis\u001b[0m\u001b[0;34m)\u001b[0m\u001b[0;34m\u001b[0m\u001b[0;34m\u001b[0m\u001b[0m\n\u001b[0m\u001b[1;32m   1114\u001b[0m \u001b[0;34m\u001b[0m\u001b[0m\n\u001b[1;32m   1115\u001b[0m             \u001b[0;31m# nested tuple slicing\u001b[0m\u001b[0;34m\u001b[0m\u001b[0;34m\u001b[0m\u001b[0;34m\u001b[0m\u001b[0m\n",
      "\u001b[0;32m~/miniconda3/lib/python3.8/site-packages/pandas/core/indexing.py\u001b[0m in \u001b[0;36m_getitem_iterable\u001b[0;34m(self, key, axis)\u001b[0m\n\u001b[1;32m   1051\u001b[0m \u001b[0;34m\u001b[0m\u001b[0m\n\u001b[1;32m   1052\u001b[0m         \u001b[0;31m# A collection of keys\u001b[0m\u001b[0;34m\u001b[0m\u001b[0;34m\u001b[0m\u001b[0;34m\u001b[0m\u001b[0m\n\u001b[0;32m-> 1053\u001b[0;31m         \u001b[0mkeyarr\u001b[0m\u001b[0;34m,\u001b[0m \u001b[0mindexer\u001b[0m \u001b[0;34m=\u001b[0m \u001b[0mself\u001b[0m\u001b[0;34m.\u001b[0m\u001b[0m_get_listlike_indexer\u001b[0m\u001b[0;34m(\u001b[0m\u001b[0mkey\u001b[0m\u001b[0;34m,\u001b[0m \u001b[0maxis\u001b[0m\u001b[0;34m,\u001b[0m \u001b[0mraise_missing\u001b[0m\u001b[0;34m=\u001b[0m\u001b[0;32mFalse\u001b[0m\u001b[0;34m)\u001b[0m\u001b[0;34m\u001b[0m\u001b[0;34m\u001b[0m\u001b[0m\n\u001b[0m\u001b[1;32m   1054\u001b[0m         return self.obj._reindex_with_indexers(\n\u001b[1;32m   1055\u001b[0m             \u001b[0;34m{\u001b[0m\u001b[0maxis\u001b[0m\u001b[0;34m:\u001b[0m \u001b[0;34m[\u001b[0m\u001b[0mkeyarr\u001b[0m\u001b[0;34m,\u001b[0m \u001b[0mindexer\u001b[0m\u001b[0;34m]\u001b[0m\u001b[0;34m}\u001b[0m\u001b[0;34m,\u001b[0m \u001b[0mcopy\u001b[0m\u001b[0;34m=\u001b[0m\u001b[0;32mTrue\u001b[0m\u001b[0;34m,\u001b[0m \u001b[0mallow_dups\u001b[0m\u001b[0;34m=\u001b[0m\u001b[0;32mTrue\u001b[0m\u001b[0;34m\u001b[0m\u001b[0;34m\u001b[0m\u001b[0m\n",
      "\u001b[0;32m~/miniconda3/lib/python3.8/site-packages/pandas/core/indexing.py\u001b[0m in \u001b[0;36m_get_listlike_indexer\u001b[0;34m(self, key, axis, raise_missing)\u001b[0m\n\u001b[1;32m   1264\u001b[0m             \u001b[0mkeyarr\u001b[0m\u001b[0;34m,\u001b[0m \u001b[0mindexer\u001b[0m\u001b[0;34m,\u001b[0m \u001b[0mnew_indexer\u001b[0m \u001b[0;34m=\u001b[0m \u001b[0max\u001b[0m\u001b[0;34m.\u001b[0m\u001b[0m_reindex_non_unique\u001b[0m\u001b[0;34m(\u001b[0m\u001b[0mkeyarr\u001b[0m\u001b[0;34m)\u001b[0m\u001b[0;34m\u001b[0m\u001b[0;34m\u001b[0m\u001b[0m\n\u001b[1;32m   1265\u001b[0m \u001b[0;34m\u001b[0m\u001b[0m\n\u001b[0;32m-> 1266\u001b[0;31m         \u001b[0mself\u001b[0m\u001b[0;34m.\u001b[0m\u001b[0m_validate_read_indexer\u001b[0m\u001b[0;34m(\u001b[0m\u001b[0mkeyarr\u001b[0m\u001b[0;34m,\u001b[0m \u001b[0mindexer\u001b[0m\u001b[0;34m,\u001b[0m \u001b[0maxis\u001b[0m\u001b[0;34m,\u001b[0m \u001b[0mraise_missing\u001b[0m\u001b[0;34m=\u001b[0m\u001b[0mraise_missing\u001b[0m\u001b[0;34m)\u001b[0m\u001b[0;34m\u001b[0m\u001b[0;34m\u001b[0m\u001b[0m\n\u001b[0m\u001b[1;32m   1267\u001b[0m         \u001b[0;32mreturn\u001b[0m \u001b[0mkeyarr\u001b[0m\u001b[0;34m,\u001b[0m \u001b[0mindexer\u001b[0m\u001b[0;34m\u001b[0m\u001b[0;34m\u001b[0m\u001b[0m\n\u001b[1;32m   1268\u001b[0m \u001b[0;34m\u001b[0m\u001b[0m\n",
      "\u001b[0;32m~/miniconda3/lib/python3.8/site-packages/pandas/core/indexing.py\u001b[0m in \u001b[0;36m_validate_read_indexer\u001b[0;34m(self, key, indexer, axis, raise_missing)\u001b[0m\n\u001b[1;32m   1306\u001b[0m             \u001b[0;32mif\u001b[0m \u001b[0mmissing\u001b[0m \u001b[0;34m==\u001b[0m \u001b[0mlen\u001b[0m\u001b[0;34m(\u001b[0m\u001b[0mindexer\u001b[0m\u001b[0;34m)\u001b[0m\u001b[0;34m:\u001b[0m\u001b[0;34m\u001b[0m\u001b[0;34m\u001b[0m\u001b[0m\n\u001b[1;32m   1307\u001b[0m                 \u001b[0maxis_name\u001b[0m \u001b[0;34m=\u001b[0m \u001b[0mself\u001b[0m\u001b[0;34m.\u001b[0m\u001b[0mobj\u001b[0m\u001b[0;34m.\u001b[0m\u001b[0m_get_axis_name\u001b[0m\u001b[0;34m(\u001b[0m\u001b[0maxis\u001b[0m\u001b[0;34m)\u001b[0m\u001b[0;34m\u001b[0m\u001b[0;34m\u001b[0m\u001b[0m\n\u001b[0;32m-> 1308\u001b[0;31m                 \u001b[0;32mraise\u001b[0m \u001b[0mKeyError\u001b[0m\u001b[0;34m(\u001b[0m\u001b[0;34mf\"None of [{key}] are in the [{axis_name}]\"\u001b[0m\u001b[0;34m)\u001b[0m\u001b[0;34m\u001b[0m\u001b[0;34m\u001b[0m\u001b[0m\n\u001b[0m\u001b[1;32m   1309\u001b[0m \u001b[0;34m\u001b[0m\u001b[0m\n\u001b[1;32m   1310\u001b[0m             \u001b[0max\u001b[0m \u001b[0;34m=\u001b[0m \u001b[0mself\u001b[0m\u001b[0;34m.\u001b[0m\u001b[0mobj\u001b[0m\u001b[0;34m.\u001b[0m\u001b[0m_get_axis\u001b[0m\u001b[0;34m(\u001b[0m\u001b[0maxis\u001b[0m\u001b[0;34m)\u001b[0m\u001b[0;34m\u001b[0m\u001b[0;34m\u001b[0m\u001b[0m\n",
      "\u001b[0;31mKeyError\u001b[0m: \"None of [Index(['184l', '185l', '186l', '187l', '188l', '1a28', '1a4k', '1a4r', '1a4w',\\n       '1a94',\\n       ...\\n       '6eqp', '6equ', '6euw', '6eux', '6ezq', '6upj', '7std', '7upj', '8a3h',\\n       '966c'],\\n      dtype='object', length=3752)] are in the [index]\""
     ]
    }
   ],
   "source": [
    "X_train = lb_features.loc[pdbbind_training_set]\n",
    "X_train['PLECscore'] = pd.Series(predicted_docked_sequence_identity['All']).loc[pdbbind_training_set]"
   ]
  },
  {
   "cell_type": "code",
   "execution_count": null,
   "metadata": {},
   "outputs": [],
   "source": [
    "%%time\n",
    "predicted_crystal_rdk_sequence_identity = {}\n",
    "predicted_docked_rdk_sequence_identity = {}\n",
    "pearsonr_crystal_rdk_sequence_identity = {}\n",
    "pearsonr_docked_rdk_sequence_identity = {}\n",
    "\n",
    "for cutoff in test_set_similar_pdbs:\n",
    "    print(cutoff)\n",
    "    training_set = pdbbind_training_set.difference(test_set_similar_pdbs[cutoff])\n",
    "    '''y_train = pdbbind_training_set_affinity.loc[training_set].values.ravel()\n",
    "    X_train_crystal = features_crystal.loc[training_set]\n",
    "    X_train_docked = features_docked.loc[training_set]\n",
    "    X_test_crystal = test_features_crystal.loc[pdbbind_test_set]\n",
    "    X_test_docked = test_features_docked.loc[pdbbind_test_set]'''\n",
    "    y_test = pdbbind_test_set_affinity.loc[pdbbind_test_set].values.ravel()\n",
    "    # add lb features\n",
    "    X_train_crystal = pd.concat([X_train_crystal, lb_features.loc[training_set]], axis='columns')\n",
    "    X_test_crystal = pd.concat([X_test_crystal, lb_features.loc[pdbbind_test_set]], axis='columns')\n",
    "    X_train_docked = pd.concat([X_train_docked, lb_features.loc[training_set]], axis='columns')\n",
    "    X_test_docked = pd.concat([X_test_docked, lb_features.loc[pdbbind_test_set]], axis='columns')\n",
    "    rf_crystal = RandomForestRegressor(n_estimators=500, max_features=0.33,random_state=42, n_jobs=8, oob_score=True)\n",
    "    rf_crystal.fit(X_train_crystal, y_train)\n",
    "    rf_docked = RandomForestRegressor(n_estimators=500, max_features=0.33,random_state=42, n_jobs=8, oob_score=True)\n",
    "    rf_docked.fit(X_train_docked, y_train)\n",
    "    \n",
    "    predicted_crystal = rf_crystal.predict(X_test_crystal)\n",
    "    predicted_docked = rf_docked.predict(X_test_docked)\n",
    "    \n",
    "    predicted_crystal_rdk_sequence_identity[cutoff] = {pdb: pred for pdb, pred in zip(pdbbind_test_set, predicted_crystal)}\n",
    "    predicted_docked_rdk_sequence_identity[cutoff] = {pdb: pred for pdb, pred in zip(pdbbind_test_set, predicted_docked)}\n",
    "    \n",
    "    pearsonr_crystal_rdk_sequence_identity[cutoff] = stats.pearsonr(y_test, predicted_crystal)[0]\n",
    "    pearsonr_docked_rdk_sequence_identity[cutoff] = stats.pearsonr(y_test, predicted_docked)[0]"
   ]
  }
 ],
 "metadata": {
  "kernelspec": {
   "display_name": "Python 3.8.3 64-bit ('base')",
   "language": "python",
   "name": "python38364bitbasee0e66f8e4cdf4b30a175922b5b25ea0e"
  },
  "language_info": {
   "codemirror_mode": {
    "name": "ipython",
    "version": 3
   },
   "file_extension": ".py",
   "mimetype": "text/x-python",
   "name": "python",
   "nbconvert_exporter": "python",
   "pygments_lexer": "ipython3",
   "version": "3.8.3"
  }
 },
 "nbformat": 4,
 "nbformat_minor": 4
}
