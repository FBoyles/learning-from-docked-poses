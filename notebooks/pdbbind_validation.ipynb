{
 "cells": [
  {
   "cell_type": "code",
   "execution_count": 1,
   "metadata": {},
   "outputs": [],
   "source": [
    "import json\n",
    "\n",
    "import numpy as np\n",
    "import pandas as pd\n",
    "\n",
    "from matplotlib import pyplot as plt\n",
    "from scipy import stats\n",
    "from sklearn.metrics import mean_squared_error\n",
    "from sklearn.ensemble import RandomForestRegressor\n",
    "\n",
    "from statistical_tests import bootstrap_pearsonr, permutation_pearsonr#, bootstrap_pearsonr_mwu\n",
    "\n",
    "def bootstrap_pearsonr_mwu(y_pred_1, y_pred_2, n_samples=10000, seed=42):\n",
    "    assert len(y_true) == len(y_pred)\n",
    "    indices = np.arange(len(y_true))\n",
    "    coefficients_1 = []\n",
    "    coefficients_2= []\n",
    "\n",
    "    r = stats.pearsonr(y_true, y_pred)[0]\n",
    "    rng = np.random.default_rng(seed)\n",
    "    for i in range(n_samples):\n",
    "        sample_indices = rng.choice(indices, size=len(indices), replace=True)\n",
    "        y_true_sample = y_true[sample_indices]\n",
    "        y_pred_sample = y_pred_1[sample_indices]\n",
    "        r_boot = stats.pearsonr(y_true_sample, y_pred_sample)[0]\n",
    "        coefficients_1.append(r_boot)\n",
    "    for i in range(n_samples):\n",
    "        sample_indices = rng.choice(indices, size=len(indices), replace=True)\n",
    "        y_true_sample = y_true[sample_indices]\n",
    "        y_pred_sample = y_pred_2[sample_indices]\n",
    "        r_boot = stats.pearsonr(y_true_sample, y_pred_sample)[0]\n",
    "        coefficients_2.append(r_boot)\n",
    "    u, p = stats.mannwhitneyu(coefficients_1, coefficients_2, alternative='two-sided')\n",
    "    return u, p\n",
    "\n",
    "%matplotlib inline\n",
    "\n",
    "plt.style.use('fivethirtyeight')\n",
    "\n",
    "plt.rcParams['axes.facecolor']='white'\n",
    "plt.rcParams['axes.edgecolor']='white'\n",
    "plt.rcParams['figure.facecolor']='white'\n",
    "plt.rcParams['savefig.facecolor']='white'\n",
    "\n",
    "class NumpyEncoder(json.JSONEncoder):\n",
    "    def default(self, obj):\n",
    "        if isinstance(obj, np.ndarray):\n",
    "            return obj.tolist()\n",
    "        return json.JSONEncoder.default(self, obj)"
   ]
  },
  {
   "cell_type": "code",
   "execution_count": 2,
   "metadata": {},
   "outputs": [],
   "source": [
    "pdbbind_training_set_pk = pd.read_csv('../data/pdbbind_training_set_binding_affinity.csv', index_col=0, header=None, squeeze=True)\n",
    "pdbbind_test_set_pk = pd.read_csv('../data/pdbbind_test_set_binding_affinity.csv', index_col=0, header=None, squeeze=True)\n",
    "pdbbind_training_set = pdbbind_training_set_pk.index\n",
    "pdbbind_test_set = pdbbind_test_set_pk.index\n",
    "\n",
    "crystal_pose_features = pd.read_csv('../data/crystal_pose_features.csv', index_col=0)\n",
    "minimised_pose_features = pd.read_csv('../data/minimised_pose_features.csv', index_col=0)\n",
    "docked_pose_features = pd.read_csv('../data/docked_pose_features.csv', index_col=0)\n",
    "\n",
    "feature_sets = {}\n",
    "with open('../data/lb_feature_names.txt') as f:\n",
    "    feature_sets['LB'] = pd.Index([l.strip() for l in f])\n",
    "with open('../data/sb_feature_names.txt') as f:\n",
    "    feature_sets['SB'] = pd.Index([l.strip() for l in f])\n",
    "with open('../data/hb_feature_names.txt') as f:\n",
    "    feature_sets['HB'] = pd.Index([l.strip() for l in f])\n",
    "\n",
    "# List the pose labels corresponding to the docked poses in the training and test sets\n",
    "with open('../data/docked_pose_labels.json') as f:\n",
    "    docked_pose_labels = json.load(f)\n",
    "\n",
    "pdbbind_training_set_labels = []\n",
    "for pdb in pdbbind_training_set:\n",
    "    pdbbind_training_set_labels.extend(docked_pose_labels[pdb])\n",
    "pdbbind_training_set_labels = pd.Index(pdbbind_training_set_labels)\n",
    "\n",
    "pdbbind_test_set_labels = []\n",
    "for pdb in pdbbind_test_set:\n",
    "    pdbbind_test_set_labels.extend(docked_pose_labels[pdb])\n",
    "pdbbind_test_set_labels = pd.Index(pdbbind_test_set_labels)"
   ]
  },
  {
   "cell_type": "markdown",
   "metadata": {},
   "source": [
    "The PDB provides clusterings using BLASTclust - we used these to identify structures in the training set that are similar to those in the test set."
   ]
  },
  {
   "cell_type": "code",
   "execution_count": 3,
   "metadata": {},
   "outputs": [],
   "source": [
    "blast_clusters = {}\n",
    "for cutoff in [30, 40, 50, 70, 90, 95, 100]:\n",
    "    with open(f'../data/bc-{cutoff}.out') as f:\n",
    "        blast_clusters[cutoff] = [set(item[:4].lower() for item in line.strip().split()) for line in f]\n",
    "\n",
    "test_set_similar_pdbs = {}\n",
    "for cutoff in blast_clusters:\n",
    "    pdbs = set()\n",
    "    for pdb in pdbbind_test_set:\n",
    "        for cluster in blast_clusters[cutoff]:\n",
    "            if pdb in cluster:\n",
    "                pdbs.update(cluster)\n",
    "    test_set_similar_pdbs[cutoff] = pd.Index(pdbs).intersection(pdbbind_training_set)\n",
    "\n",
    "test_set_similar_pdbs['All'] = pd.Index([])"
   ]
  },
  {
   "cell_type": "markdown",
   "metadata": {},
   "source": [
    "We computed the tanimoto similarity between 2048-bit ECFP4 fingerprints of the ligands in the training and test sets and use these to identify ligands in the training set that are similar to those in the test set."
   ]
  },
  {
   "cell_type": "code",
   "execution_count": 4,
   "metadata": {},
   "outputs": [],
   "source": [
    "with open('../data/pdbbind_ligand_tanimoto_similarity.json') as f:\n",
    "    tanimoto_similarity = json.load(f)\n",
    "\n",
    "tc_thresholds = [0.3, 0.4, 0.5, 0.6, 0.7, 0.8, 0.9, 1.0]\n",
    "\n",
    "test_set_similar_ligands = {}\n",
    "\n",
    "for t in tc_thresholds:\n",
    "    similar = set()\n",
    "    for pdb_test in pdbbind_test_set:\n",
    "        for pdb_train in pdbbind_training_set:\n",
    "            if pdb_train in similar:\n",
    "                continue\n",
    "            if tanimoto_similarity[pdb_test][pdb_train] >= t:\n",
    "                similar.add(pdb_train)\n",
    "    test_set_similar_ligands[t] = pd.Index(similar)\n",
    "test_set_similar_ligands['All'] = pd.Index([])"
   ]
  },
  {
   "cell_type": "markdown",
   "metadata": {},
   "source": [
    "### Vina scoring function\n",
    "\n",
    "For comparison, we score the PDBbind test set using the Autodock Vina scoring function. We use Vina's performance on minimized poses rather than crystal poses as it is susceptible to (what its' scoring function perceives as) steric clash in a small number of crystal structures"
   ]
  },
  {
   "cell_type": "code",
   "execution_count": 5,
   "metadata": {},
   "outputs": [],
   "source": [
    "y_true = pdbbind_test_set_pk.loc[pdbbind_test_set]\n",
    "\n",
    "vina_crystal_scores = pd.read_csv('../results/vina_crystal_predicted_pk.csv', index_col=0, squeeze=True)\n",
    "y_pred = vina_crystal_scores.loc[pdbbind_test_set]\n",
    "pearsonr_vina_crystal = stats.pearsonr(y_true, y_pred)[0]\n",
    "pearsonr_vina_crystal_ci = bootstrap_pearsonr(y_true, y_pred)[1:]\n",
    "pearsonr_vina_crystal_pval = permutation_pearsonr(y_true, y_pred)[1]\n",
    "\n",
    "vina_docked_scores = pd.read_csv('../results/vina_docked_predicted_pk.csv', index_col=0, squeeze=True)\n",
    "y_pred = vina_docked_scores.loc[pdbbind_test_set]\n",
    "pearsonr_vina_docked = stats.pearsonr(y_true, y_pred)[0]\n",
    "pearsonr_vina_docked_ci = bootstrap_pearsonr(y_true, y_pred)[1:]\n",
    "pearsonr_vina_docked_pval = permutation_pearsonr(y_true, y_pred)[1]\n",
    "\n",
    "vina_minimized_scores = pd.read_csv('../results/vina_minimized_predicted_pk.csv', index_col=0, squeeze=True)\n",
    "y_pred = vina_minimized_scores.loc[pdbbind_test_set]\n",
    "pearsonr_vina_minimized = stats.pearsonr(y_true, y_pred)[0]\n",
    "pearsonr_vina_minimized_ci = bootstrap_pearsonr(y_true, y_pred)[1:]\n",
    "pearsonr_vina_minimized_pval = permutation_pearsonr(y_true, y_pred)[1]"
   ]
  },
  {
   "cell_type": "markdown",
   "metadata": {},
   "source": [
    "### PDBbind validation - crystal poses\n",
    "\n",
    "First we obtain a benchmark by training and testing using the crystallographic pose of each ligand. See (Boyles et al., 2020) for details."
   ]
  },
  {
   "cell_type": "code",
   "execution_count": 9,
   "metadata": {},
   "outputs": [],
   "source": [
    "results_crystal = {}\n",
    "pearsonr_crystal = {}\n",
    "pearsonr_crystal_ci = {}\n",
    "pearsonr_crystal_pval = {}\n",
    "\n",
    "for f in feature_sets:\n",
    "    results_crystal[f] = {}\n",
    "    pearsonr_crystal[f] = {}\n",
    "    pearsonr_crystal_ci[f] = {}\n",
    "    pearsonr_crystal_pval[f] = {}\n",
    "    for c in test_set_similar_pdbs:\n",
    "        training_set = pdbbind_training_set.difference(test_set_similar_pdbs[c])\n",
    "        X_train = crystal_pose_features.loc[training_set, feature_sets[f]]\n",
    "        X_test = crystal_pose_features.loc[pdbbind_test_set, feature_sets[f]]\n",
    "        y_train = pdbbind_training_set_pk.loc[training_set].values.ravel()\n",
    "        y_test = pdbbind_test_set_pk.loc[pdbbind_test_set].values.ravel()\n",
    "\n",
    "        rf = RandomForestRegressor(n_estimators=500, max_features=0.33, random_state=42, n_jobs=32)\n",
    "        rf.fit(X_train, y_train)\n",
    "\n",
    "        y_pred = rf.predict(X_test)\n",
    "        pearsonr_crystal_ci[f][c] = bootstrap_pearsonr(y_test, y_pred)[1:]\n",
    "        pearsonr_crystal_pval[f][c] = permutation_pearsonr(y_test, y_pred)[1]\n",
    "        result = {key: value for key, value in zip(pdbbind_test_set, y_pred)}\n",
    "        results_crystal[f][c] = result\n",
    "        pearsonr_crystal[f][c] = stats.pearsonr(y_test, y_pred)[0]\n",
    "    \n",
    "    pearsonr_crystal[f] = pd.Series(pearsonr_crystal[f])\n",
    "\n",
    "with open('../results/pdbbind_test_set_crystal_protein_similarity_results.json', 'w') as f:\n",
    "    json.dump(results_crystal, f)\n",
    "    \n",
    "with open('../results/pdbbind_test_set_crystal_protein_similarity_confidence_intervals.json', 'w') as f:\n",
    "    json.dump(pearsonr_crystal_ci, f, cls=NumpyEncoder)\n",
    "    \n",
    "with open('../results/pdbbind_test_set_crystal_protein_similarity_pvalues.json', 'w') as f:\n",
    "    json.dump(pearsonr_crystal_pval, f, cls=NumpyEncoder)"
   ]
  },
  {
   "cell_type": "code",
   "execution_count": 10,
   "metadata": {},
   "outputs": [],
   "source": [
    "results_crystal_ts = {}\n",
    "pearsonr_crystal_ts = {}\n",
    "pearsonr_crystal_ts_ci = {}\n",
    "pearsonr_crystal_ts_pval = {}\n",
    "\n",
    "for f in feature_sets:\n",
    "    results_crystal_ts[f] = {}\n",
    "    pearsonr_crystal_ts[f] = {}\n",
    "    pearsonr_crystal_ts_ci[f] = {}\n",
    "    pearsonr_crystal_ts_pval[f] = {}\n",
    "    for c in test_set_similar_ligands:\n",
    "        training_set = pdbbind_training_set.difference(test_set_similar_ligands[c])\n",
    "        X_train = crystal_pose_features.loc[training_set, feature_sets[f]]\n",
    "        X_test = crystal_pose_features.loc[pdbbind_test_set, feature_sets[f]]\n",
    "        y_train = pdbbind_training_set_pk.loc[training_set].values.ravel()\n",
    "        y_test = pdbbind_test_set_pk.loc[pdbbind_test_set].values.ravel()\n",
    "\n",
    "        rf = RandomForestRegressor(n_estimators=500, max_features=0.33, random_state=42, n_jobs=32)\n",
    "        rf.fit(X_train, y_train)\n",
    "\n",
    "        y_pred = rf.predict(X_test)\n",
    "        pearsonr_crystal_ts_ci[f][c] = bootstrap_pearsonr(y_test, y_pred)[1:]\n",
    "        pearsonr_crystal_ts_pval[f][c] = permutation_pearsonr(y_test, y_pred)[1]\n",
    "        result = {key: value for key, value in zip(pdbbind_test_set, y_pred)}\n",
    "        results_crystal_ts[f][c] = result\n",
    "        pearsonr_crystal_ts[f][c] = stats.pearsonr(y_test, y_pred)[0]\n",
    "    \n",
    "    pearsonr_crystal_ts[f] = pd.Series(pearsonr_crystal_ts[f])\n",
    "\n",
    "with open('../results/pdbbind_test_set_crystal_ligand_similarity_results.json', 'w') as f:\n",
    "    json.dump(results_crystal_ts, f)\n",
    "    \n",
    "with open('../results/pdbbind_test_set_crystal_ligand_similarity_confidence_intervals.json', 'w') as f:\n",
    "    json.dump(pearsonr_crystal_ts_ci, f, cls=NumpyEncoder)\n",
    "    \n",
    "with open('../results/pdbbind_test_set_crystal_ligand_similarity_pvalues.json', 'w') as f:\n",
    "    json.dump(pearsonr_crystal_ts_pval, f, cls=NumpyEncoder)"
   ]
  },
  {
   "cell_type": "markdown",
   "metadata": {},
   "source": [
    "### PDBbind validation - docked poses\n",
    "\n",
    "Train on the pdbbind training set using the pose ranked highest by Smina, excluding from the training set any complex with a protein similar to that of any complex in the test set."
   ]
  },
  {
   "cell_type": "code",
   "execution_count": 11,
   "metadata": {},
   "outputs": [],
   "source": [
    "predicted = {}\n",
    "for f in feature_sets:\n",
    "\n",
    "    predicted[f] = {}\n",
    "        \n",
    "    for c in test_set_similar_pdbs:\n",
    "        training_set = pdbbind_training_set.difference(test_set_similar_pdbs[c])\n",
    "\n",
    "        # use the top pose for each training complex\n",
    "        training_set_labels = training_set.map(lambda x: x+'_0')\n",
    "        X_train = docked_pose_features.loc[training_set_labels, feature_sets[f]]\n",
    "        y_train = pdbbind_training_set_pk.loc[training_set].values.ravel()\n",
    "\n",
    "        # use all poses for each test set complex\n",
    "        X_test = docked_pose_features.loc[pdbbind_test_set_labels, feature_sets[f]]\n",
    "\n",
    "        rf = RandomForestRegressor(n_estimators=500, max_features=0.33, random_state=42, n_jobs=8)\n",
    "        rf.fit(X_train, y_train)\n",
    "        predicted[f][c] = {key: value for key, value in zip(pdbbind_test_set_labels, rf.predict(X_test))}\n",
    "\n",
    "with open('../results/pdbbind_test_set_results_protein_similarity.json', 'w') as f:\n",
    "    json.dump(predicted, f)"
   ]
  },
  {
   "cell_type": "markdown",
   "metadata": {},
   "source": [
    "Next, repeat the experiment, excluding complexes from the training set if they have a high ligand tanimoto simialrity to anything in the test set."
   ]
  },
  {
   "cell_type": "code",
   "execution_count": 12,
   "metadata": {},
   "outputs": [],
   "source": [
    "predicted_ts = {}\n",
    "\n",
    "for f in feature_sets:\n",
    "    predicted_ts[f] = {}\n",
    "    for c in test_set_similar_ligands:\n",
    "\n",
    "        training_set = pdbbind_training_set.difference(test_set_similar_ligands[c])\n",
    "\n",
    "        # use the top pose for each training complex\n",
    "        training_set_labels = training_set.map(lambda x: x+'_0')\n",
    "        X_train = docked_pose_features.loc[training_set_labels, feature_sets[f]]\n",
    "        y_train = pdbbind_training_set_pk.loc[training_set].values.ravel()\n",
    "\n",
    "        # use all poses for each test set complex\n",
    "        X_test = docked_pose_features.loc[pdbbind_test_set_labels, feature_sets[f]]\n",
    "\n",
    "        rf = RandomForestRegressor(n_estimators=500, max_features=0.33, random_state=42, n_jobs=32)\n",
    "        rf.fit(X_train, y_train)\n",
    "        result = {key: value for key, value in zip(pdbbind_test_set_labels, rf.predict(X_test))}\n",
    "        predicted_ts[f][c] = result\n",
    "\n",
    "with open('../results/pdbbind_test_set_results_ligand_similarity.json', 'w') as f:\n",
    "    json.dump(predicted_ts, f)"
   ]
  },
  {
   "cell_type": "markdown",
   "metadata": {},
   "source": [
    "Using the highest score for each ligand, compute the Pearson correlation coefficient between the true and predicted affinity."
   ]
  },
  {
   "cell_type": "code",
   "execution_count": 13,
   "metadata": {},
   "outputs": [],
   "source": [
    "max_score = {}\n",
    "\n",
    "for f in feature_sets:\n",
    "    max_score[f] = {}\n",
    "    for c in test_set_similar_pdbs:\n",
    "        max_score[f][c] = {}\n",
    "        for pdb in pdbbind_test_set:\n",
    "            scores = [predicted[f][c][label] for label in docked_pose_labels[pdb]]\n",
    "            max_score[f][c][pdb] = np.max(scores)\n",
    "        max_score[f][c] = pd.Series(max_score[f][c])\n",
    "        \n",
    "max_score_pearsonr = {}\n",
    "for f in feature_sets:\n",
    "    max_score_pearsonr[f] = {}\n",
    "    for c in test_set_similar_pdbs:\n",
    "        y_true = pdbbind_test_set_pk.values.ravel()\n",
    "        y_pred = max_score[f][c].loc[pdbbind_test_set_pk.index].values.ravel()\n",
    "        max_score_pearsonr[f][c] = stats.pearsonr(y_true, y_pred)[0]\n",
    "    max_score_pearsonr[f] = pd.Series(max_score_pearsonr[f])"
   ]
  },
  {
   "cell_type": "code",
   "execution_count": 14,
   "metadata": {},
   "outputs": [],
   "source": [
    "max_score_ts = {}\n",
    "\n",
    "for f in feature_sets:\n",
    "    max_score_ts[f] = {}\n",
    "    for c in test_set_similar_ligands:\n",
    "        max_score_ts[f][c] = {}\n",
    "        for pdb in pdbbind_test_set:\n",
    "            scores = [predicted_ts[f][c][label] for label in docked_pose_labels[pdb]]\n",
    "            max_score_ts[f][c][pdb] = np.max(scores)\n",
    "        max_score_ts[f][c] = pd.Series(max_score_ts[f][c])\n",
    "        \n",
    "max_score_pearsonr_ts = {}\n",
    "for f in feature_sets:\n",
    "    max_score_pearsonr_ts[f] = {}\n",
    "    for c in test_set_similar_ligands:\n",
    "        y_true = pdbbind_test_set_pk.values.ravel()\n",
    "        y_pred = max_score_ts[f][c].loc[pdbbind_test_set_pk.index].values.ravel()\n",
    "        max_score_pearsonr_ts[f][c] = stats.pearsonr(y_true, y_pred)[0]\n",
    "    max_score_pearsonr_ts[f] = pd.Series(max_score_pearsonr_ts[f])"
   ]
  },
  {
   "cell_type": "markdown",
   "metadata": {},
   "source": [
    "### Plot performance"
   ]
  },
  {
   "cell_type": "code",
   "execution_count": 19,
   "metadata": {},
   "outputs": [
    {
     "data": {
      "image/png": "[encoded data removed]",
      "text/plain": [
       "<Figure size 864x432 with 2 Axes>"
      ]
     },
     "metadata": {},
     "output_type": "display_data"
    }
   ],
   "source": [
    "fig, (ax1, ax2) = plt.subplots(1,2,figsize=(12,6),sharey=True)\n",
    "\n",
    "colours = ['#008fd5', '#fc4f30', '#e5ae38']\n",
    "\n",
    "for f, c in zip(pearsonr_crystal, colours):\n",
    "    pearsonr_crystal[f].plot(ax=ax1, label=f+' (crystal pose)', alpha=0.7, color=c)\n",
    "    max_score_pearsonr[f].plot(ax=ax1, label=f+' (docked pose)', alpha=0.7, linestyle=':', color=c)\n",
    "\n",
    "ax1.set_ylim(0.49, 0.86)\n",
    "ax1.set_xlabel('Protein sequence identity threshold')\n",
    "ax1.set_ylabel('Pearson correlation coefficient')\n",
    "\n",
    "for f, c in zip(pearsonr_crystal_ts, colours):\n",
    "    pearsonr_crystal_ts[f].plot(ax=ax2, label=f+' (crystal pose)', alpha=0.7, color=c, xticks=np.arange(0, len(pearsonr_crystal_ts[f]), 1))\n",
    "    max_score_pearsonr_ts[f].plot(ax=ax2, label=f+' (docked pose)', alpha=0.7,linestyle=':', color=c, xticks=np.arange(0, len(pearsonr_crystal_ts[f]), 1))\n",
    "ax2.set_xlabel('Ligand Tanimoto similarity threshold')\n",
    "ax2.set_ylabel('Pearson correlation coefficient')\n",
    "\n",
    "for ax, annotation in zip((ax1,ax2), ['A', 'B']):\n",
    "    ax.text(-0.1, 1.1, annotation, transform=ax.transAxes, size=20, weight='bold')\n",
    "fig.tight_layout()\n",
    "ax1.legend(title='Model', bbox_to_anchor=(1.85, 1.45), ncol=3)\n",
    "\n",
    "fig.savefig('../figures/CASF_pearsonr_crystal_dock.png', dpi=350, bbox_inches='tight')"
   ]
  },
  {
   "cell_type": "markdown",
   "metadata": {},
   "source": [
    "### Statistical significance"
   ]
  },
  {
   "cell_type": "code",
   "execution_count": 9,
   "metadata": {},
   "outputs": [],
   "source": [
    "with open('../results/pdbbind_test_set_crystal_protein_similarity_results.json') as f:\n",
    "    results_crystal = json.load(f)\n",
    "    \n",
    "with open('../results/pdbbind_test_set_crystal_ligand_similarity_results.json') as f:\n",
    "    results_crystal_ts = json.load(f)\n",
    "    \n",
    "with open('../results/pdbbind_test_set_results_protein_similarity.json') as f:\n",
    "    predicted = json.load(f)\n",
    "    \n",
    "with open('../results/pdbbind_test_set_results_ligand_similarity.json') as f:\n",
    "    predicted_ts = json.load(f)"
   ]
  },
  {
   "cell_type": "code",
   "execution_count": 15,
   "metadata": {},
   "outputs": [],
   "source": [
    "max_score = {}\n",
    "\n",
    "for f in feature_sets:\n",
    "    max_score[f] = {}\n",
    "    for c in test_set_similar_pdbs:\n",
    "        c = str(c)\n",
    "        max_score[f][c] = {}\n",
    "        for pdb in pdbbind_test_set:\n",
    "            scores = [predicted[f][c][label] for label in docked_pose_labels[pdb]]\n",
    "            max_score[f][c][pdb] = np.max(scores)\n",
    "        max_score[f][c] = pd.Series(max_score[f][c])\n",
    "        \n",
    "max_score_pearsonr = {}\n",
    "for f in feature_sets:\n",
    "    max_score_pearsonr[f] = {}\n",
    "    for c in test_set_similar_pdbs:\n",
    "        c = str(c)\n",
    "        y_true = pdbbind_test_set_pk.values.ravel()\n",
    "        y_pred = max_score[f][c].loc[pdbbind_test_set_pk.index].values.ravel()\n",
    "        max_score_pearsonr[f][c] = stats.pearsonr(y_true, y_pred)[0]\n",
    "    max_score_pearsonr[f] = pd.Series(max_score_pearsonr[f])\n",
    "    \n",
    "max_score_ts = {}\n",
    "\n",
    "for f in feature_sets:\n",
    "    max_score_ts[f] = {}\n",
    "    for c in test_set_similar_ligands:\n",
    "        c = str(c)\n",
    "        max_score_ts[f][c] = {}\n",
    "        for pdb in pdbbind_test_set:\n",
    "            scores = [predicted_ts[f][c][label] for label in docked_pose_labels[pdb]]\n",
    "            max_score_ts[f][c][pdb] = np.max(scores)\n",
    "        max_score_ts[f][c] = pd.Series(max_score_ts[f][c])\n",
    "        \n",
    "max_score_pearsonr_ts = {}\n",
    "for f in feature_sets:\n",
    "    max_score_pearsonr_ts[f] = {}\n",
    "    for c in test_set_similar_ligands:\n",
    "        c = str(c)\n",
    "        y_true = pdbbind_test_set_pk.values.ravel()\n",
    "        y_pred = max_score_ts[f][c].loc[pdbbind_test_set_pk.index].values.ravel()\n",
    "        max_score_pearsonr_ts[f][c] = stats.pearsonr(y_true, y_pred)[0]\n",
    "    max_score_pearsonr_ts[f] = pd.Series(max_score_pearsonr_ts[f])"
   ]
  },
  {
   "cell_type": "code",
   "execution_count": 18,
   "metadata": {},
   "outputs": [],
   "source": [
    "crystal_pearsonr_ci = {}\n",
    "crystal_pearsonr_pval = {}\n",
    "crystal_pearsonr_ci_ts = {}\n",
    "crystal_pearsonr_pval_ts = {}\n",
    "y_true = pdbbind_test_set_pk.values.ravel()\n",
    "for f in max_score:\n",
    "    crystal_pearsonr_ci[f] = {}\n",
    "    crystal_pearsonr_pval[f] = {}\n",
    "    for c in max_score[f]:\n",
    "        y_pred = pd.Series(results_crystal[f][c]).loc[pdbbind_test_set_pk.index].values.ravel()\n",
    "        crystal_pearsonr_ci[f][c] = bootstrap_pearsonr(y_true, y_pred)\n",
    "        crystal_pearsonr_pval[f][c] = permutation_pearsonr(y_true, y_pred)\n",
    "    crystal_pearsonr_ci_ts[f] = {}\n",
    "    crystal_pearsonr_pval_ts[f] = {}\n",
    "    for c in max_score_ts[f]:\n",
    "        y_pred = pd.Series(results_crystal_ts[f][c]).loc[pdbbind_test_set_pk.index].values.ravel()\n",
    "        crystal_pearsonr_ci_ts[f][c] = bootstrap_pearsonr(y_true, y_pred)\n",
    "        crystal_pearsonr_pval_ts[f][c] = permutation_pearsonr(y_true, y_pred)"
   ]
  },
  {
   "cell_type": "code",
   "execution_count": 19,
   "metadata": {},
   "outputs": [],
   "source": [
    "max_score_pearsonr_ci = {}\n",
    "max_score_pearsonr_pval = {}\n",
    "max_score_pearsonr_ci_ts = {}\n",
    "max_score_pearsonr_pval_ts = {}\n",
    "y_true = pdbbind_test_set_pk.values.ravel()\n",
    "for f in max_score:\n",
    "    max_score_pearsonr_ci[f] = {}\n",
    "    max_score_pearsonr_pval[f] = {}\n",
    "    for c in max_score[f]:\n",
    "        y_pred = max_score[f][c].loc[pdbbind_test_set_pk.index].values.ravel()\n",
    "        max_score_pearsonr_ci[f][c] = bootstrap_pearsonr(y_true, y_pred)\n",
    "        max_score_pearsonr_pval[f][c] = permutation_pearsonr(y_true, y_pred)\n",
    "    max_score_pearsonr_ci_ts[f] = {}\n",
    "    max_score_pearsonr_pval_ts[f] = {}\n",
    "    for c in max_score_ts[f]:\n",
    "        y_pred = max_score_ts[f][c].loc[pdbbind_test_set_pk.index].values.ravel()\n",
    "        max_score_pearsonr_ci_ts[f][c] = bootstrap_pearsonr(y_true, y_pred)\n",
    "        max_score_pearsonr_pval_ts[f][c] = permutation_pearsonr(y_true, y_pred)"
   ]
  },
  {
   "cell_type": "code",
   "execution_count": 24,
   "metadata": {},
   "outputs": [
    {
     "name": "stdout",
     "output_type": "stream",
     "text": [
      "30 & 0.571 (0.511, 0.627) & 0.637 (0.588, 0.682) & 0.670 (0.622, 0.712) \\\\\n",
      "40 & 0.592 (0.534, 0.646) & 0.665 (0.618, 0.708) & 0.699 (0.653, 0.739) \\\\\n",
      "50 & 0.611 (0.553, 0.663) & 0.676 (0.630, 0.718) & 0.706 (0.661, 0.745) \\\\\n",
      "70 & 0.630 (0.575, 0.679) & 0.689 (0.643, 0.729) & 0.722 (0.679, 0.759) \\\\\n",
      "90 & 0.638 (0.584, 0.687) & 0.692 (0.647, 0.733) & 0.726 (0.683, 0.763) \\\\\n",
      "95 & 0.637 (0.582, 0.687) & 0.693 (0.647, 0.735) & 0.723 (0.680, 0.761) \\\\\n",
      "100 & 0.650 (0.596, 0.698) & 0.703 (0.658, 0.744) & 0.733 (0.690, 0.769) \\\\\n",
      "All & 0.723 (0.677, 0.766) & 0.765 (0.723, 0.801) & 0.789 (0.752, 0.822) \\\\\n"
     ]
    }
   ],
   "source": [
    "for cutoff in crystal_pearsonr_ci['LB']:\n",
    "    lb = crystal_pearsonr_ci['LB'][cutoff]\n",
    "    sb = crystal_pearsonr_ci['SB'][cutoff]\n",
    "    hb = crystal_pearsonr_ci['HB'][cutoff]\n",
    "    print(f'{cutoff} & {lb[0]:.3f} ({lb[1]:.3f}, {lb[2]:.3f}) & {sb[0]:.3f} ({sb[1]:.3f}, {sb[2]:.3f}) & {hb[0]:.3f} ({hb[1]:.3f}, {hb[2]:.3f}) \\\\\\\\')"
   ]
  },
  {
   "cell_type": "code",
   "execution_count": 26,
   "metadata": {},
   "outputs": [
    {
     "name": "stdout",
     "output_type": "stream",
     "text": [
      "0.3 & 0.554 (0.490, 0.614) & 0.630 (0.577, 0.677) & 0.634 (0.580, 0.683) \\\\\n",
      "0.4 & 0.572 (0.510, 0.629) & 0.683 (0.638, 0.723) & 0.669 (0.619, 0.714) \\\\\n",
      "0.5 & 0.604 (0.545, 0.657) & 0.697 (0.654, 0.736) & 0.700 (0.655, 0.741) \\\\\n",
      "0.6 & 0.641 (0.585, 0.691) & 0.715 (0.673, 0.753) & 0.733 (0.691, 0.771) \\\\\n",
      "0.7 & 0.665 (0.610, 0.716) & 0.727 (0.684, 0.765) & 0.749 (0.706, 0.787) \\\\\n",
      "0.8 & 0.691 (0.640, 0.738) & 0.737 (0.694, 0.774) & 0.759 (0.717, 0.796) \\\\\n",
      "0.9 & 0.694 (0.642, 0.741) & 0.742 (0.700, 0.779) & 0.764 (0.721, 0.800) \\\\\n",
      "1.0 & 0.697 (0.645, 0.744) & 0.744 (0.703, 0.781) & 0.765 (0.723, 0.801) \\\\\n",
      "All & 0.723 (0.677, 0.766) & 0.765 (0.723, 0.801) & 0.789 (0.752, 0.822) \\\\\n"
     ]
    }
   ],
   "source": [
    "for cutoff in crystal_pearsonr_ci_ts['LB']:\n",
    "    lb = crystal_pearsonr_ci_ts['LB'][cutoff]\n",
    "    sb = crystal_pearsonr_ci_ts['SB'][cutoff]\n",
    "    hb = crystal_pearsonr_ci_ts['HB'][cutoff]\n",
    "    print(f'{cutoff} & {lb[0]:.3f} ({lb[1]:.3f}, {lb[2]:.3f}) & {sb[0]:.3f} ({sb[1]:.3f}, {sb[2]:.3f}) & {hb[0]:.3f} ({hb[1]:.3f}, {hb[2]:.3f}) \\\\\\\\')"
   ]
  },
  {
   "cell_type": "code",
   "execution_count": 27,
   "metadata": {},
   "outputs": [
    {
     "name": "stdout",
     "output_type": "stream",
     "text": [
      "30 & 0.571 (0.511, 0.627) & 0.591 (0.536, 0.641) & 0.663 (0.616, 0.706) \\\\\n",
      "40 & 0.592 (0.534, 0.646) & 0.619 (0.568, 0.667) & 0.687 (0.640, 0.730) \\\\\n",
      "50 & 0.611 (0.553, 0.663) & 0.648 (0.600, 0.693) & 0.697 (0.651, 0.738) \\\\\n",
      "70 & 0.630 (0.575, 0.679) & 0.647 (0.598, 0.693) & 0.707 (0.661, 0.746) \\\\\n",
      "90 & 0.638 (0.584, 0.687) & 0.656 (0.607, 0.701) & 0.716 (0.672, 0.754) \\\\\n",
      "95 & 0.637 (0.582, 0.687) & 0.656 (0.607, 0.701) & 0.712 (0.667, 0.751) \\\\\n",
      "100 & 0.650 (0.596, 0.698) & 0.663 (0.614, 0.708) & 0.723 (0.680, 0.760) \\\\\n",
      "All & 0.723 (0.677, 0.766) & 0.706 (0.660, 0.749) & 0.766 (0.726, 0.802) \\\\\n"
     ]
    }
   ],
   "source": [
    "for cutoff in max_score_pearsonr_ci['LB']:\n",
    "    lb = max_score_pearsonr_ci['LB'][cutoff]\n",
    "    sb = max_score_pearsonr_ci['SB'][cutoff]\n",
    "    hb = max_score_pearsonr_ci['HB'][cutoff]\n",
    "    print(f'{cutoff} & {lb[0]:.3f} ({lb[1]:.3f}, {lb[2]:.3f}) & {sb[0]:.3f} ({sb[1]:.3f}, {sb[2]:.3f}) & {hb[0]:.3f} ({hb[1]:.3f}, {hb[2]:.3f}) \\\\\\\\')"
   ]
  },
  {
   "cell_type": "code",
   "execution_count": 28,
   "metadata": {},
   "outputs": [
    {
     "name": "stdout",
     "output_type": "stream",
     "text": [
      "0.3 & 0.554 (0.490, 0.614) & 0.586 (0.529, 0.638) & 0.606 (0.549, 0.658) \\\\\n",
      "0.4 & 0.572 (0.510, 0.629) & 0.629 (0.578, 0.676) & 0.641 (0.589, 0.689) \\\\\n",
      "0.5 & 0.604 (0.545, 0.657) & 0.646 (0.596, 0.692) & 0.672 (0.623, 0.715) \\\\\n",
      "0.6 & 0.641 (0.585, 0.691) & 0.670 (0.621, 0.715) & 0.707 (0.660, 0.748) \\\\\n",
      "0.7 & 0.665 (0.610, 0.716) & 0.664 (0.613, 0.711) & 0.720 (0.675, 0.760) \\\\\n",
      "0.8 & 0.691 (0.640, 0.738) & 0.679 (0.629, 0.725) & 0.736 (0.690, 0.776) \\\\\n",
      "0.9 & 0.694 (0.642, 0.741) & 0.681 (0.631, 0.726) & 0.740 (0.695, 0.779) \\\\\n",
      "1.0 & 0.697 (0.645, 0.744) & 0.681 (0.632, 0.725) & 0.737 (0.691, 0.777) \\\\\n",
      "All & 0.723 (0.677, 0.766) & 0.706 (0.660, 0.749) & 0.766 (0.726, 0.802) \\\\\n"
     ]
    }
   ],
   "source": [
    "for cutoff in max_score_pearsonr_ci_ts['LB']:\n",
    "    lb = max_score_pearsonr_ci_ts['LB'][cutoff]\n",
    "    sb = max_score_pearsonr_ci_ts['SB'][cutoff]\n",
    "    hb = max_score_pearsonr_ci_ts['HB'][cutoff]\n",
    "    print(f'{cutoff} & {lb[0]:.3f} ({lb[1]:.3f}, {lb[2]:.3f}) & {sb[0]:.3f} ({sb[1]:.3f}, {sb[2]:.3f}) & {hb[0]:.3f} ({hb[1]:.3f}, {hb[2]:.3f}) \\\\\\\\')"
   ]
  },
  {
   "cell_type": "code",
   "execution_count": 33,
   "metadata": {},
   "outputs": [],
   "source": [
    "with open('../results/pdbbind_test_set_docked_protein_similarity_confidence_intervals.json', 'w') as f:\n",
    "    json.dump(max_score_pearsonr_ci, f, cls=NumpyEncoder)\n",
    "    \n",
    "with open('../results/pdbbind_test_set_docked_protein_similarity_pvalues.json', 'w') as f:\n",
    "    json.dump(max_score_pearsonr_pval, f, cls=NumpyEncoder)\n",
    "    \n",
    "with open('../results/pdbbind_test_set_docked_ligand_similarity_confidence_intervals.json', 'w') as f:\n",
    "    json.dump(max_score_pearsonr_ci_ts, f, cls=NumpyEncoder)\n",
    "    \n",
    "with open('../results/pdbbind_test_set_docked_ligand_similarity_pvalues.json', 'w') as f:\n",
    "    json.dump(max_score_pearsonr_pval_ts, f, cls=NumpyEncoder)"
   ]
  },
  {
   "cell_type": "code",
   "execution_count": 135,
   "metadata": {},
   "outputs": [],
   "source": [
    "max_score_pearsonr_mwu = {}\n",
    "for f in max_score:\n",
    "    max_score_pearsonr_mwu[f] = {}\n",
    "    for c in max_score[f]:\n",
    "        y_pred_crystal = pd.Series(results_crystal[f][c]).loc[pdbbind_test_set_pk.index].values.ravel()\n",
    "        y_pred_docked = max_score[f][c].loc[pdbbind_test_set_pk.index].values.ravel()\n",
    "        max_score_pearsonr_mwu[f][c] = bootstrap_pearsonr_mwu(y_pred_crystal, y_pred_docked)"
   ]
  },
  {
   "cell_type": "code",
   "execution_count": 140,
   "metadata": {},
   "outputs": [],
   "source": [
    "sb_hb_pearsonr_mwu = {'Crystal': {}, 'Docked': {}}\n",
    "for c in results_crystal['SB']:\n",
    "    y_pred_sb = pd.Series(results_crystal['SB'][c]).loc[pdbbind_test_set_pk.index].values.ravel()\n",
    "    y_pred_hb = pd.Series(results_crystal['HB'][c]).loc[pdbbind_test_set_pk.index].values.ravel()\n",
    "    sb_hb_pearsonr_mwu['Crystal'][c] = bootstrap_pearsonr_mwu(y_pred_sb, y_pred_hb)\n",
    "    y_pred_sb = pd.Series(max_score['SB'][c]).loc[pdbbind_test_set_pk.index].values.ravel()\n",
    "    y_pred_hb = pd.Series(max_score['HB'][c]).loc[pdbbind_test_set_pk.index].values.ravel()\n",
    "    sb_hb_pearsonr_mwu['Docked'][c] = bootstrap_pearsonr_mwu(y_pred_sb, y_pred_hb)\n",
    "    \n",
    "sb_hb_pearsonr_mwu_ts = {'Crystal': {}, 'Docked': {}}\n",
    "for c in results_crystal_ts['SB']:\n",
    "    y_pred_sb = pd.Series(results_crystal_ts['SB'][c]).loc[pdbbind_test_set_pk.index].values.ravel()\n",
    "    y_pred_hb = pd.Series(results_crystal_ts['HB'][c]).loc[pdbbind_test_set_pk.index].values.ravel()\n",
    "    sb_hb_pearsonr_mwu_ts['Crystal'][c] = bootstrap_pearsonr_mwu(y_pred_sb, y_pred_hb)\n",
    "    y_pred_sb = pd.Series(max_score_ts['SB'][c]).loc[pdbbind_test_set_pk.index].values.ravel()\n",
    "    y_pred_hb = pd.Series(max_score_ts['HB'][c]).loc[pdbbind_test_set_pk.index].values.ravel()\n",
    "    sb_hb_pearsonr_mwu_ts['Docked'][c] = bootstrap_pearsonr_mwu(y_pred_sb, y_pred_hb)"
   ]
  },
  {
   "cell_type": "markdown",
   "metadata": {},
   "source": [
    "### PDBbind validation - training using multiple poses\n",
    "\n",
    "We repeat the above, this time training using every docked pose for each ligand in the training set."
   ]
  },
  {
   "cell_type": "code",
   "execution_count": 23,
   "metadata": {},
   "outputs": [],
   "source": [
    "results_train_all_docks = {}\n",
    "\n",
    "for f in feature_sets:\n",
    "    results_train_all_docks[f] = {}\n",
    "    for c in test_set_similar_pdbs:\n",
    "        training_set = pdbbind_training_set.difference(test_set_similar_pdbs[c])\n",
    "        training_labels = pd.Index([i for pdb in training_set for i in docked_pose_labels[pdb]])\n",
    "        X_train = docked_pose_features.loc[training_labels, feature_sets[f]]\n",
    "\n",
    "        training_set_pdbs = training_labels.map(lambda x: x[:4])\n",
    "        y_train = pdbbind_training_set_pk.loc[training_set_pdbs].values.ravel()\n",
    "\n",
    "        X_test = docked_pose_features.loc[pdbbind_test_set_labels, feature_sets[f]]\n",
    "        rf = RandomForestRegressor(n_estimators=500, max_features=0.33, random_state=42, n_jobs=6)\n",
    "        rf.fit(X_train, y_train)\n",
    "        result = {key: value for key, value in zip(pdbbind_test_set_labels, rf.predict(X_test))}\n",
    "        results_train_all_docks[f][c] = result"
   ]
  },
  {
   "cell_type": "code",
   "execution_count": 24,
   "metadata": {},
   "outputs": [],
   "source": [
    "max_score_train_all_docks = {}\n",
    "\n",
    "for f in feature_sets:\n",
    "    max_score_train_all_docks[f] = {}\n",
    "    for c in test_set_similar_pdbs:\n",
    "        max_score_train_all_docks[f][c] = {}\n",
    "        for pdb in pdbbind_test_set:\n",
    "            scores = [results_train_all_docks[f][c][key] for key in docked_pose_labels[pdb]]\n",
    "            max_score_train_all_docks[f][c][pdb] = np.max(scores)\n",
    "        max_score_train_all_docks[f][c] = pd.Series(max_score_train_all_docks[f][c])\n",
    "        \n",
    "max_score_train_all_docks_pearsonr = {}\n",
    "for f in feature_sets:\n",
    "    max_score_train_all_docks_pearsonr[f] = {}\n",
    "    for c in test_set_similar_pdbs:\n",
    "        y_true = pdbbind_test_set_pk.values.ravel()\n",
    "        y_pred = max_score_train_all_docks[f][c].loc[pdbbind_test_set_pk.index].values.ravel()\n",
    "        max_score_train_all_docks_pearsonr[f][c] = stats.pearsonr(y_true, y_pred)[0]\n",
    "    max_score_train_all_docks_pearsonr[f] = pd.Series(max_score_train_all_docks_pearsonr[f])"
   ]
  },
  {
   "cell_type": "code",
   "execution_count": 25,
   "metadata": {},
   "outputs": [],
   "source": [
    "with open('../results/pdbbind_test_set_all_docks_results_protein_similarity.json', 'w') as f:\n",
    "    json.dump(results_train_all_docks, f)"
   ]
  },
  {
   "cell_type": "code",
   "execution_count": 26,
   "metadata": {},
   "outputs": [],
   "source": [
    "results_train_all_docks_ts = {}\n",
    "\n",
    "for f in feature_sets:\n",
    "    results_train_all_docks_ts[f] = {}\n",
    "    for c in test_set_similar_ligands:\n",
    "        training_set = pdbbind_training_set.difference(test_set_similar_ligands[c])\n",
    "        training_labels = pd.Index([i for pdb in training_set for i in docked_pose_labels[pdb]])\n",
    "        X_train = docked_pose_features.loc[training_labels, feature_sets[f]]\n",
    "\n",
    "        training_set_pdbs = training_labels.map(lambda x: x[:4])\n",
    "        y_train = pdbbind_training_set_pk.loc[training_set_pdbs].values.ravel()\n",
    "\n",
    "        X_test = docked_pose_features.loc[pdbbind_test_set_labels, feature_sets[f]]\n",
    "        rf = RandomForestRegressor(n_estimators=500, max_features=0.33, random_state=42, n_jobs=6)\n",
    "        rf.fit(X_train, y_train)\n",
    "        result = {key: value for key, value in zip(pdbbind_test_set_labels, rf.predict(X_test))}\n",
    "        results_train_all_docks_ts[f][c] = result"
   ]
  },
  {
   "cell_type": "code",
   "execution_count": 27,
   "metadata": {},
   "outputs": [],
   "source": [
    "max_score_train_all_docks_ts = {}\n",
    "\n",
    "for f in feature_sets:\n",
    "    max_score_train_all_docks_ts[f] = {}\n",
    "    for c in test_set_similar_ligands:\n",
    "        max_score_train_all_docks_ts[f][c] = {}\n",
    "        for pdb in pdbbind_test_set:\n",
    "            scores = [results_train_all_docks_ts[f][c][key] for key in docked_pose_labels[pdb]]\n",
    "            max_score_train_all_docks_ts[f][c][pdb] = np.max(scores)\n",
    "        max_score_train_all_docks_ts[f][c] = pd.Series(max_score_train_all_docks_ts[f][c])\n",
    "        \n",
    "max_score_train_all_docks_pearsonr_ts = {}\n",
    "for f in feature_sets:\n",
    "    max_score_train_all_docks_pearsonr_ts[f] = {}\n",
    "    for c in test_set_similar_ligands:\n",
    "        y_true = pdbbind_test_set_pk.values.ravel()\n",
    "        y_pred = max_score_train_all_docks_ts[f][c].loc[pdbbind_test_set_pk.index].values.ravel()\n",
    "        max_score_train_all_docks_pearsonr_ts[f][c] = stats.pearsonr(y_true, y_pred)[0]\n",
    "    max_score_train_all_docks_pearsonr_ts[f] = pd.Series(max_score_train_all_docks_pearsonr_ts[f])"
   ]
  },
  {
   "cell_type": "code",
   "execution_count": 28,
   "metadata": {},
   "outputs": [],
   "source": [
    "with open('../results/pdbbind_test_set_all_docks_results_ligand_similarity.json', 'w') as f:\n",
    "    json.dump(results_train_all_docks_ts, f)"
   ]
  },
  {
   "cell_type": "markdown",
   "metadata": {},
   "source": [
    "### Statistical significance"
   ]
  },
  {
   "cell_type": "code",
   "execution_count": 29,
   "metadata": {},
   "outputs": [],
   "source": [
    "all_docks_pearsonr_ci = {}\n",
    "all_docks_pearsonr_pval = {}\n",
    "all_docks_pearsonr_ci_ts = {}\n",
    "all_docks_pearsonr_pval_ts = {}\n",
    "y_true = pdbbind_test_set_pk.values.ravel()\n",
    "for f in max_score_train_all_docks:\n",
    "    all_docks_pearsonr_ci[f] = {}\n",
    "    all_docks_pearsonr_pval[f] = {}\n",
    "    for c in max_score_train_all_docks[f]:\n",
    "        y_pred = max_score_train_all_docks[f][c].loc[pdbbind_test_set_pk.index].values.ravel()\n",
    "        all_docks_pearsonr_ci[f][c] = bootstrap_pearsonr(y_true, y_pred)[1:]\n",
    "        all_docks_pearsonr_pval[f][c] = permutation_pearsonr(y_true, y_pred)[1]\n",
    "    all_docks_pearsonr_ci_ts[f] = {}\n",
    "    all_docks_pearsonr_pval_ts[f] = {}\n",
    "    for c in max_score_train_all_docks_ts[f]:\n",
    "        y_pred = max_score_train_all_docks_ts[f][c].loc[pdbbind_test_set_pk.index].values.ravel()\n",
    "        all_docks_pearsonr_ci_ts[f][c] = bootstrap_pearsonr(y_true, y_pred)[1:]\n",
    "        all_docks_pearsonr_pval_ts[f][c] = permutation_pearsonr(y_true, y_pred)[1]"
   ]
  },
  {
   "cell_type": "code",
   "execution_count": 31,
   "metadata": {},
   "outputs": [],
   "source": [
    "with open('../results/pdbbind_test_set_all_docks_protein_similarity_confidence_intervals.json', 'w') as f:\n",
    "    json.dump(all_docks_pearsonr_ci, f, cls=NumpyEncoder)\n",
    "    \n",
    "with open('../results/pdbbind_test_set_all_docks_protein_similarity_pvalues.json', 'w') as f:\n",
    "    json.dump(all_docks_pearsonr_pval, f, cls=NumpyEncoder)\n",
    "    \n",
    "with open('../results/pdbbind_test_set_all_docks_ligand_similarity_confidence_intervals.json', 'w') as f:\n",
    "    json.dump(all_docks_pearsonr_ci_ts, f, cls=NumpyEncoder)\n",
    "    \n",
    "with open('../results/pdbbind_test_set_all_docks_ligand_similarity_pvalues.json', 'w') as f:\n",
    "    json.dump(all_docks_pearsonr_pval_ts, f, cls=NumpyEncoder)"
   ]
  },
  {
   "cell_type": "markdown",
   "metadata": {},
   "source": [
    "### Redundant poses\n",
    "\n",
    "To control for training set size, we repeat the previous experiment using redundant poses instead of diverse poses."
   ]
  },
  {
   "cell_type": "code",
   "execution_count": 34,
   "metadata": {},
   "outputs": [],
   "source": [
    "results_train_redundant_docks = {}\n",
    "\n",
    "for f in feature_sets:\n",
    "    results_train_redundant_docks[f] = {}\n",
    "    for c in test_set_similar_pdbs:\n",
    "        training_set = pdbbind_training_set.difference(test_set_similar_pdbs[c])\n",
    "        training_labels = pd.Index([i for pdb in training_set for i in docked_pose_labels[pdb]])\n",
    "        training_labels = training_labels.map(lambda x: x[:4]+'_0')\n",
    "        X_train = docked_pose_features.loc[training_labels, feature_sets[f]]\n",
    "\n",
    "        training_set_pdbs = training_labels.map(lambda x: x[:4])\n",
    "        y_train = pdbbind_training_set_pk.loc[training_set_pdbs].values.ravel()\n",
    "\n",
    "        X_test = docked_pose_features.loc[pdbbind_test_set_labels, feature_sets[f]]\n",
    "        rf = RandomForestRegressor(n_estimators=500, max_features=0.33, random_state=42, n_jobs=6)\n",
    "        rf.fit(X_train, y_train)\n",
    "        result = {key: value for key, value in zip(pdbbind_test_set_labels, rf.predict(X_test))}\n",
    "        results_train_redundant_docks[f][c] = result"
   ]
  },
  {
   "cell_type": "code",
   "execution_count": 35,
   "metadata": {},
   "outputs": [],
   "source": [
    "max_score_train_redundant_docks = {}\n",
    "\n",
    "for f in feature_sets:\n",
    "    max_score_train_redundant_docks[f] = {}\n",
    "    for c in test_set_similar_pdbs:\n",
    "        max_score_train_redundant_docks[f][c] = {}\n",
    "        for pdb in pdbbind_test_set:\n",
    "            scores = [results_train_redundant_docks[f][c][key] for key in docked_pose_labels[pdb]]\n",
    "            max_score_train_redundant_docks[f][c][pdb] = np.max(scores)\n",
    "        max_score_train_redundant_docks[f][c] = pd.Series(max_score_train_redundant_docks[f][c])\n",
    "        \n",
    "max_score_train_redundant_docks_pearsonr = {}\n",
    "for f in feature_sets:\n",
    "    max_score_train_redundant_docks_pearsonr[f] = {}\n",
    "    for c in test_set_similar_pdbs:\n",
    "        y_true = pdbbind_test_set_pk.values.ravel()\n",
    "        y_pred = max_score_train_redundant_docks[f][c].loc[pdbbind_test_set_pk.index].values.ravel()\n",
    "        max_score_train_redundant_docks_pearsonr[f][c] = stats.pearsonr(y_true, y_pred)[0]\n",
    "    max_score_train_redundant_docks_pearsonr[f] = pd.Series(max_score_train_redundant_docks_pearsonr[f])"
   ]
  },
  {
   "cell_type": "code",
   "execution_count": 36,
   "metadata": {},
   "outputs": [],
   "source": [
    "with open('../results/pdbbind_test_set_redundant_docks_results_protein_similarity.json', 'w') as f:\n",
    "    json.dump(results_train_redundant_docks, f)"
   ]
  },
  {
   "cell_type": "code",
   "execution_count": 37,
   "metadata": {},
   "outputs": [],
   "source": [
    "results_train_redundant_docks_ts = {}\n",
    "\n",
    "for f in feature_sets:\n",
    "    results_train_redundant_docks_ts[f] = {}\n",
    "    for c in test_set_similar_ligands:\n",
    "        training_set = pdbbind_training_set.difference(test_set_similar_ligands[c])\n",
    "        training_labels = pd.Index([i for pdb in training_set for i in docked_pose_labels[pdb]])\n",
    "        training_labels = training_labels.map(lambda x: x[:4]+'_0')\n",
    "        X_train = docked_pose_features.loc[training_labels, feature_sets[f]]\n",
    "\n",
    "        training_set_pdbs = training_labels.map(lambda x: x[:4])\n",
    "        y_train = pdbbind_training_set_pk.loc[training_set_pdbs].values.ravel()\n",
    "\n",
    "        X_test = docked_pose_features.loc[pdbbind_test_set_labels, feature_sets[f]]\n",
    "        rf = RandomForestRegressor(n_estimators=500, max_features=0.33, random_state=42, n_jobs=6)\n",
    "        rf.fit(X_train, y_train)\n",
    "        result = {key: value for key, value in zip(pdbbind_test_set_labels, rf.predict(X_test))}\n",
    "        results_train_redundant_docks_ts[f][c] = result"
   ]
  },
  {
   "cell_type": "code",
   "execution_count": 38,
   "metadata": {},
   "outputs": [],
   "source": [
    "max_score_train_redundant_docks_ts = {}\n",
    "\n",
    "for f in feature_sets:\n",
    "    max_score_train_redundant_docks_ts[f] = {}\n",
    "    for c in test_set_similar_ligands:\n",
    "        max_score_train_redundant_docks_ts[f][c] = {}\n",
    "        for pdb in pdbbind_test_set:\n",
    "            scores = [results_train_redundant_docks_ts[f][c][key] for key in docked_pose_labels[pdb]]\n",
    "            max_score_train_redundant_docks_ts[f][c][pdb] = np.max(scores)\n",
    "        max_score_train_redundant_docks_ts[f][c] = pd.Series(max_score_train_redundant_docks_ts[f][c])\n",
    "        \n",
    "max_score_train_redundant_docks_pearsonr_ts = {}\n",
    "for f in feature_sets:\n",
    "    max_score_train_redundant_docks_pearsonr_ts[f] = {}\n",
    "    for c in test_set_similar_ligands:\n",
    "        y_true = pdbbind_test_set_pk.values.ravel()\n",
    "        y_pred = max_score_train_redundant_docks_ts[f][c].loc[pdbbind_test_set_pk.index].values.ravel()\n",
    "        max_score_train_redundant_docks_pearsonr_ts[f][c] = stats.pearsonr(y_true, y_pred)[0]\n",
    "    max_score_train_redundant_docks_pearsonr_ts[f] = pd.Series(max_score_train_redundant_docks_pearsonr_ts[f])"
   ]
  },
  {
   "cell_type": "code",
   "execution_count": 39,
   "metadata": {},
   "outputs": [],
   "source": [
    "with open('../results/pdbbind_test_set_redundant_docks_results_ligand_similarity.json', 'w') as f:\n",
    "    json.dump(results_train_redundant_docks_ts, f)"
   ]
  },
  {
   "cell_type": "markdown",
   "metadata": {},
   "source": [
    "### Statistical significance"
   ]
  },
  {
   "cell_type": "code",
   "execution_count": 40,
   "metadata": {},
   "outputs": [],
   "source": [
    "redundant_docks_pearsonr_ci = {}\n",
    "redundant_docks_pearsonr_pval = {}\n",
    "redundant_docks_pearsonr_ci_ts = {}\n",
    "redundant_docks_pearsonr_pval_ts = {}\n",
    "y_true = pdbbind_test_set_pk.values.ravel()\n",
    "for f in max_score_train_all_docks:\n",
    "    redundant_docks_pearsonr_ci[f] = {}\n",
    "    redundant_docks_pearsonr_pval[f] = {}\n",
    "    for c in max_score_train_all_docks[f]:\n",
    "        y_pred = max_score_train_redundant_docks[f][c].loc[pdbbind_test_set_pk.index].values.ravel()\n",
    "        redundant_docks_pearsonr_ci[f][c] = bootstrap_pearsonr(y_true, y_pred)[1:]\n",
    "        redundant_docks_pearsonr_pval[f][c] = permutation_pearsonr(y_true, y_pred)[1]\n",
    "    redundant_docks_pearsonr_ci_ts[f] = {}\n",
    "    redundant_docks_pearsonr_pval_ts[f] = {}\n",
    "    for c in max_score_train_all_docks_ts[f]:\n",
    "        y_pred = max_score_train_all_docks_ts[f][c].loc[pdbbind_test_set_pk.index].values.ravel()\n",
    "        redundant_docks_pearsonr_ci_ts[f][c] = bootstrap_pearsonr(y_true, y_pred)[1:]\n",
    "        redundant_docks_pearsonr_pval_ts[f][c] = permutation_pearsonr(y_true, y_pred)[1]"
   ]
  },
  {
   "cell_type": "code",
   "execution_count": 44,
   "metadata": {},
   "outputs": [],
   "source": [
    "with open('../results/pdbbind_test_set_redundant_docks_protein_similarity_confidence_intervals.json', 'w') as f:\n",
    "    json.dump(redundant_docks_pearsonr_ci, f, cls=NumpyEncoder)\n",
    "    \n",
    "with open('../results/pdbbind_test_set_redundant_docks_protein_similarity_pvalues.json', 'w') as f:\n",
    "    json.dump(redundant_docks_pearsonr_pval, f, cls=NumpyEncoder)\n",
    "    \n",
    "with open('../results/pdbbind_test_set_redundant_docks_ligand_similarity_confidence_intervals.json', 'w') as f:\n",
    "    json.dump(redundant_docks_pearsonr_ci_ts, f, cls=NumpyEncoder)\n",
    "    \n",
    "with open('../results/pdbbind_test_set_redundant_docks_ligand_similarity_pvalues.json', 'w') as f:\n",
    "    json.dump(redundant_docks_pearsonr_pval_ts, f, cls=NumpyEncoder)"
   ]
  },
  {
   "cell_type": "code",
   "execution_count": 43,
   "metadata": {},
   "outputs": [
    {
     "data": {
      "image/png": "[encoded data removed]",
      "text/plain": [
       "<Figure size 864x432 with 2 Axes>"
      ]
     },
     "metadata": {},
     "output_type": "display_data"
    }
   ],
   "source": [
    "fig, (ax1, ax2) = plt.subplots(1,2,figsize=(12,6),sharey=True)\n",
    "\n",
    "colours = ['#008fd5', '#fc4f30', '#e5ae38']\n",
    "\n",
    "for f, c in zip(max_score_pearsonr, colours):\n",
    "    max_score_pearsonr[f].plot(ax=ax1, label=f+' (trained on single pose)', alpha=0.7, color=c)\n",
    "    max_score_train_all_docks_pearsonr[f].plot(ax=ax1, label=f+' (trained on diverse poses)', alpha=0.7, linestyle=':', color=c)\n",
    "    max_score_train_redundant_docks_pearsonr[f].plot(ax=ax1, label=f+' (trained on redundant poses)', alpha=0.7, linestyle='--', color=c)\n",
    "\n",
    "\n",
    "\n",
    "ax1.set_ylim(0.49, 0.81)\n",
    "ax1.set_xlabel('Protein sequence identity threshold')\n",
    "ax1.set_ylabel('Pearson correlation coefficient')\n",
    "\n",
    "for f, c in zip(max_score_pearsonr_ts, colours):\n",
    "    max_score_pearsonr_ts[f].plot(ax=ax2, label=f+' (trained on single pose)', alpha=0.7, color=c)\n",
    "    max_score_train_all_docks_pearsonr_ts[f].plot(ax=ax2, label=f+' (trained on diverse poses)', alpha=0.7, linestyle=':', color=c)\n",
    "    max_score_train_redundant_docks_pearsonr_ts[f].plot(ax=ax2, label=f+' (trained on redundant poses)', alpha=0.7, linestyle='--', color=c)\n",
    "\n",
    "\n",
    "ax2.set_xlabel('Ligand Tanimoto similarity threshold')\n",
    "ax2.set_ylabel('Pearson correlation coefficient')\n",
    "for ax, annotation in zip((ax1,ax2), ['A', 'B']):\n",
    "    ax.text(-0.1, 1.1, annotation, transform=ax.transAxes, size=20, weight='bold')\n",
    "fig.tight_layout()\n",
    "ax1.legend(title='Model', bbox_to_anchor=(2.25, 1.50), ncol=3)\n",
    "\n",
    "fig.savefig('../figures/CASF_pearsonr_multiple_docks.png', dpi=350, bbox_inches='tight')"
   ]
  },
  {
   "cell_type": "markdown",
   "metadata": {},
   "source": [
    "### Leave cluster out\n",
    "\n",
    "Next, we cluster the PDBbind training set at 90% sequence identity and select large clusters to use in a leave-cluster-out validation. Clusters that overlap are merged."
   ]
  },
  {
   "cell_type": "code",
   "execution_count": 68,
   "metadata": {},
   "outputs": [],
   "source": [
    "clusters = [set(cluster).intersection(set(pdbbind_training_set)) for cluster in blast_clusters[90]]\n",
    "clusters = [cluster for cluster in clusters if cluster]\n",
    "\n",
    "merged_clusters = [clusters[0]]\n",
    "already_in = clusters[0].copy()\n",
    "\n",
    "for cluster in clusters[1:]:\n",
    "    if cluster.issubset(already_in):\n",
    "        continue\n",
    "    new_cluster = True\n",
    "    for merged_cluster in merged_clusters:\n",
    "        if cluster.isdisjoint(merged_cluster):\n",
    "            continue\n",
    "        merged_cluster.update(cluster)\n",
    "        new_cluster = False\n",
    "    if new_cluster:\n",
    "        merged_clusters.append(cluster)\n",
    "    already_in.update(cluster)\n",
    "    \n",
    "merged_clusters.sort(key=len, reverse=True)"
   ]
  },
  {
   "cell_type": "markdown",
   "metadata": {},
   "source": [
    "Load the names of the proteins in the PDBbind training set and select the largest clusters."
   ]
  },
  {
   "cell_type": "code",
   "execution_count": 69,
   "metadata": {},
   "outputs": [],
   "source": [
    "with open('../data/protein_names.json') as f:\n",
    "    protein_names = json.load(f)"
   ]
  },
  {
   "cell_type": "code",
   "execution_count": 70,
   "metadata": {},
   "outputs": [
    {
     "name": "stdout",
     "output_type": "stream",
     "text": [
      "{'HIV-1 PROTEASE E35D-DRV', 'HIV-1 PROTEASE', 'HIV-1 PROTEASE E35D-APV', 'PROTEASE PR5-DRV', 'HIV-1 PROTEASE E35D-SQV', 'PROTEASE PR5-SQV'}\n",
      "{'CARBONIC ANHYDRASE 2'}\n",
      "{'TRYPSIN', 'TRYPSIN BETA', 'TRYPSINOGEN'}\n",
      "{'THROMBIN ALPHA', 'THROMBIN HEAVY CHAIN', 'THROMBIN SHORT CHAIN', 'PROTHROMBIN', 'THROMBIN', 'THROMBIN LIGHT CHAIN'}\n",
      "{'HEAT SHOCK PROTEIN HSP90-ALPHA'}\n",
      "{'COAGULATION FACTOR XA', 'COAGULATION FACTOR X'}\n"
     ]
    }
   ],
   "source": [
    "large_clusters = [c for c in merged_clusters if len(c) > 50]\n",
    "\n",
    "for cluster in large_clusters:\n",
    "    cluster_names = set([protein_names[pdb] for pdb in cluster])\n",
    "    print(cluster_names)"
   ]
  },
  {
   "cell_type": "code",
   "execution_count": 71,
   "metadata": {},
   "outputs": [],
   "source": [
    "test_cluster_names = ['HIV-1 Protease', 'Carbonic Anhydrase 2', 'Trypsin', 'Thrombin', 'HSP90-Alpha', 'Coagualtion factor X/XA']\n",
    "\n",
    "test_clusters = {name: cluster for name, cluster in zip(test_cluster_names, large_clusters)}"
   ]
  },
  {
   "cell_type": "markdown",
   "metadata": {},
   "source": [
    "Finally, create a set of proteins that do not fall into any cluster at 90% sequence identity."
   ]
  },
  {
   "cell_type": "code",
   "execution_count": 72,
   "metadata": {},
   "outputs": [],
   "source": [
    "test_clusters['Singletons'] = []\n",
    "for cluster in merged_clusters:\n",
    "    if len(cluster) ==1 :\n",
    "        test_clusters['Singletons'].extend(cluster)"
   ]
  },
  {
   "cell_type": "markdown",
   "metadata": {},
   "source": [
    "Finally, train on the PDBbind training set, holding out each cluster in turn as a validation set."
   ]
  },
  {
   "cell_type": "code",
   "execution_count": 76,
   "metadata": {},
   "outputs": [
    {
     "data": {
      "text/html": [
       "<div>\n",
       "<style scoped>\n",
       "    .dataframe tbody tr th:only-of-type {\n",
       "        vertical-align: middle;\n",
       "    }\n",
       "\n",
       "    .dataframe tbody tr th {\n",
       "        vertical-align: top;\n",
       "    }\n",
       "\n",
       "    .dataframe thead th {\n",
       "        text-align: right;\n",
       "    }\n",
       "</style>\n",
       "<table border=\"1\" class=\"dataframe\">\n",
       "  <thead>\n",
       "    <tr style=\"text-align: right;\">\n",
       "      <th></th>\n",
       "      <th>LB</th>\n",
       "      <th>SB</th>\n",
       "      <th>HB</th>\n",
       "    </tr>\n",
       "  </thead>\n",
       "  <tbody>\n",
       "    <tr>\n",
       "      <th>HIV-1 Protease</th>\n",
       "      <td>0.414335</td>\n",
       "      <td>0.431059</td>\n",
       "      <td>0.450172</td>\n",
       "    </tr>\n",
       "    <tr>\n",
       "      <th>Carbonic Anhydrase 2</th>\n",
       "      <td>0.477296</td>\n",
       "      <td>0.522289</td>\n",
       "      <td>0.460208</td>\n",
       "    </tr>\n",
       "    <tr>\n",
       "      <th>Trypsin</th>\n",
       "      <td>0.715059</td>\n",
       "      <td>0.727951</td>\n",
       "      <td>0.746460</td>\n",
       "    </tr>\n",
       "    <tr>\n",
       "      <th>Thrombin</th>\n",
       "      <td>0.270482</td>\n",
       "      <td>0.367433</td>\n",
       "      <td>0.315544</td>\n",
       "    </tr>\n",
       "    <tr>\n",
       "      <th>HSP90-Alpha</th>\n",
       "      <td>0.663356</td>\n",
       "      <td>0.395179</td>\n",
       "      <td>0.591431</td>\n",
       "    </tr>\n",
       "    <tr>\n",
       "      <th>Coagualtion factor X/XA</th>\n",
       "      <td>0.111108</td>\n",
       "      <td>-0.097919</td>\n",
       "      <td>-0.100868</td>\n",
       "    </tr>\n",
       "    <tr>\n",
       "      <th>Singletons</th>\n",
       "      <td>0.412919</td>\n",
       "      <td>0.484901</td>\n",
       "      <td>0.500084</td>\n",
       "    </tr>\n",
       "  </tbody>\n",
       "</table>\n",
       "</div>"
      ],
      "text/plain": [
       "                               LB        SB        HB\n",
       "HIV-1 Protease           0.414335  0.431059  0.450172\n",
       "Carbonic Anhydrase 2     0.477296  0.522289  0.460208\n",
       "Trypsin                  0.715059  0.727951  0.746460\n",
       "Thrombin                 0.270482  0.367433  0.315544\n",
       "HSP90-Alpha              0.663356  0.395179  0.591431\n",
       "Coagualtion factor X/XA  0.111108 -0.097919 -0.100868\n",
       "Singletons               0.412919  0.484901  0.500084"
      ]
     },
     "execution_count": 76,
     "metadata": {},
     "output_type": "execute_result"
    }
   ],
   "source": [
    "clustered_pearsonr = {}\n",
    "clustered_pearsonr_ci = {}\n",
    "clustered_rmse = {}\n",
    "\n",
    "for f in feature_sets:\n",
    "    clustered_pearsonr[f] = {}\n",
    "    clustered_pearsonr_ci[f] = {}\n",
    "    clustered_rmse[f] = {}\n",
    "    for c in test_clusters:\n",
    "\n",
    "        training_set = pdbbind_training_set.difference(test_clusters[c])\n",
    "\n",
    "        # use the top pose for each training complex\n",
    "        training_set_labels = training_set.map(lambda x: x+'_0')\n",
    "        X_train = docked_pose_features.loc[training_set_labels, feature_sets[f]]\n",
    "        y_train = pdbbind_training_set_pk.loc[training_set].values.ravel()\n",
    "        \n",
    "        rf = RandomForestRegressor(n_estimators=500, max_features=0.33, n_jobs=6, random_state=42)\n",
    "        rf.fit(X_train, y_train)\n",
    "\n",
    "        # use all poses for each test set complex\n",
    "        cluster_pose_labels = []\n",
    "        for pdb in test_clusters[c]:\n",
    "            cluster_pose_labels.extend(docked_pose_labels[pdb])\n",
    "        cluster_pose_labels = pd.Index(cluster_pose_labels)\n",
    "\n",
    "        X_test = docked_pose_features.loc[cluster_pose_labels, feature_sets[f]]\n",
    "        y_test = pdbbind_training_set_pk.loc[test_clusters[c]].values.ravel()\n",
    "\n",
    "        pred = pd.Series(data=rf.predict(X_test), index=cluster_pose_labels)\n",
    "\n",
    "        max_pred = []\n",
    "        for pdb in test_clusters[c]:\n",
    "            max_pred.append(np.max(pred.loc[docked_pose_labels[pdb]]))\n",
    "        max_pred = np.array(max_pred)\n",
    "        clustered_pearsonr[f][c] = stats.pearsonr(y_test, max_pred)[0]\n",
    "        clustered_rmse[f][c] = np.sqrt(mean_squared_error(y_test, max_pred))\n",
    "        clustered_pearsonr_ci[f][c] = bootstrap_pearsonr(y_test, max_pred)[1:]\n",
    "\n",
    "clustered_pearsonr = pd.DataFrame(clustered_pearsonr)\n",
    "clustered_pearsonr.to_csv('../results/pdbbind_training_set_clustered_pearsonr.csv')\n",
    "clustered_pearsonr"
   ]
  },
  {
   "cell_type": "code",
   "execution_count": 80,
   "metadata": {},
   "outputs": [
    {
     "data": {
      "text/html": [
       "<div>\n",
       "<style scoped>\n",
       "    .dataframe tbody tr th:only-of-type {\n",
       "        vertical-align: middle;\n",
       "    }\n",
       "\n",
       "    .dataframe tbody tr th {\n",
       "        vertical-align: top;\n",
       "    }\n",
       "\n",
       "    .dataframe thead th {\n",
       "        text-align: right;\n",
       "    }\n",
       "</style>\n",
       "<table border=\"1\" class=\"dataframe\">\n",
       "  <thead>\n",
       "    <tr style=\"text-align: right;\">\n",
       "      <th></th>\n",
       "      <th>LB</th>\n",
       "      <th>HB</th>\n",
       "    </tr>\n",
       "  </thead>\n",
       "  <tbody>\n",
       "    <tr>\n",
       "      <th>HIV-1 Protease</th>\n",
       "      <td>(0.29865833212525517, 0.5147223170392993)</td>\n",
       "      <td>(0.34702532659885993, 0.5379314523787657)</td>\n",
       "    </tr>\n",
       "    <tr>\n",
       "      <th>Carbonic Anhydrase 2</th>\n",
       "      <td>(0.3729045719756661, 0.5717742821528762)</td>\n",
       "      <td>(0.3544559168689021, 0.5549756409892955)</td>\n",
       "    </tr>\n",
       "    <tr>\n",
       "      <th>Trypsin</th>\n",
       "      <td>(0.5889328866963257, 0.8154416786163291)</td>\n",
       "      <td>(0.6197065867164433, 0.845986045135723)</td>\n",
       "    </tr>\n",
       "    <tr>\n",
       "      <th>Thrombin</th>\n",
       "      <td>(0.03155411101806844, 0.45827875970574106)</td>\n",
       "      <td>(0.07810648293952048, 0.4932077798596088)</td>\n",
       "    </tr>\n",
       "    <tr>\n",
       "      <th>HSP90-Alpha</th>\n",
       "      <td>(0.47230151101972584, 0.7925883700926917)</td>\n",
       "      <td>(0.3729961166570789, 0.7412135155373383)</td>\n",
       "    </tr>\n",
       "    <tr>\n",
       "      <th>Coagualtion factor X/XA</th>\n",
       "      <td>(-0.15351731785345474, 0.33092751191945535)</td>\n",
       "      <td>(-0.3799553478418811, 0.1676550969595748)</td>\n",
       "    </tr>\n",
       "    <tr>\n",
       "      <th>Singletons</th>\n",
       "      <td>(0.34611387697890833, 0.4767822326209782)</td>\n",
       "      <td>(0.43731462104399643, 0.558573709427791)</td>\n",
       "    </tr>\n",
       "  </tbody>\n",
       "</table>\n",
       "</div>"
      ],
      "text/plain": [
       "                                                                  LB  \\\n",
       "HIV-1 Protease             (0.29865833212525517, 0.5147223170392993)   \n",
       "Carbonic Anhydrase 2        (0.3729045719756661, 0.5717742821528762)   \n",
       "Trypsin                     (0.5889328866963257, 0.8154416786163291)   \n",
       "Thrombin                  (0.03155411101806844, 0.45827875970574106)   \n",
       "HSP90-Alpha                (0.47230151101972584, 0.7925883700926917)   \n",
       "Coagualtion factor X/XA  (-0.15351731785345474, 0.33092751191945535)   \n",
       "Singletons                 (0.34611387697890833, 0.4767822326209782)   \n",
       "\n",
       "                                                                HB  \n",
       "HIV-1 Protease           (0.34702532659885993, 0.5379314523787657)  \n",
       "Carbonic Anhydrase 2      (0.3544559168689021, 0.5549756409892955)  \n",
       "Trypsin                    (0.6197065867164433, 0.845986045135723)  \n",
       "Thrombin                 (0.07810648293952048, 0.4932077798596088)  \n",
       "HSP90-Alpha               (0.3729961166570789, 0.7412135155373383)  \n",
       "Coagualtion factor X/XA  (-0.3799553478418811, 0.1676550969595748)  \n",
       "Singletons                (0.43731462104399643, 0.558573709427791)  "
      ]
     },
     "execution_count": 80,
     "metadata": {},
     "output_type": "execute_result"
    }
   ],
   "source": [
    "pd.DataFrame(clustered_pearsonr_ci)[['LB', 'HB']]"
   ]
  },
  {
   "cell_type": "markdown",
   "metadata": {},
   "source": [
    "Also score each cluster using the Vina scoring function"
   ]
  },
  {
   "cell_type": "code",
   "execution_count": 48,
   "metadata": {},
   "outputs": [],
   "source": [
    "vina_scores = pd.read_csv('../results/vina_docked_predicted_pk.csv', index_col=0, squeeze=True)\n",
    "clustered_vina_pearsonr = {}\n",
    "clustered_vina_pearsonr_ci = {}\n",
    "clustered_vina_pearsonr_pval = {}\n",
    "for c in test_clusters:\n",
    "    y_pred = vina_scores.loc[test_clusters[c]].values.ravel()\n",
    "    y_true = pdbbind_training_set_pk.loc[test_clusters[c]].values.ravel()\n",
    "    clustered_vina_pearsonr[c] = stats.pearsonr(y_true, y_pred)[0]\n",
    "    clustered_vina_pearsonr_ci[c] = bootstrap_pearsonr(y_true, y_pred)[1:]\n",
    "    clustered_vina_pearsonr_pval[c] = permutation_pearsonr(y_true, y_pred)[1]"
   ]
  },
  {
   "cell_type": "code",
   "execution_count": null,
   "metadata": {},
   "outputs": [],
   "source": []
  }
 ],
 "metadata": {
  "kernelspec": {
   "display_name": "Python 3",
   "language": "python",
   "name": "python3"
  },
  "language_info": {
   "codemirror_mode": {
    "name": "ipython",
    "version": 3
   },
   "file_extension": ".py",
   "mimetype": "text/x-python",
   "name": "python",
   "nbconvert_exporter": "python",
   "pygments_lexer": "ipython3",
   "version": "3.8.3"
  }
 },
 "nbformat": 4,
 "nbformat_minor": 4
}
