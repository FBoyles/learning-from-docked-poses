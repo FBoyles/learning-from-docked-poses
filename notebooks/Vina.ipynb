{
 "cells": [
  {
   "cell_type": "code",
   "execution_count": null,
   "metadata": {},
   "outputs": [],
   "source": [
    "from oddt.scoring.descriptors import oddt_vina_descriptor\n",
    "from oddt.toolkits import rdk, ob\n",
    "from oddt.docking import autodock_vina\n",
    "import json\n",
    "import numpy as np\n",
    "from joblib import delayed, Parallel\n",
    "from functools import partial\n",
    "from sklearn.ensemble import RandomForestRegressor\n",
    "\n",
    "from scipy import stats\n",
    "\n",
    "from matplotlib import pyplot as plt\n",
    "import json\n",
    "import pandas as pd\n",
    "\n",
    "class NumpyEncoder(json.JSONEncoder):\n",
    "    def default(self, obj):\n",
    "        if isinstance(obj, np.ndarray):\n",
    "            return obj.tolist()\n",
    "        return json.JSONEncoder.default(self, obj)\n",
    "\n",
    "PDBBIND_DIR = '/home/fergus/pdbbind/v2019'\n",
    "VINA = '/home/fergus/autodock_vina_1_1_2_linux_x86/bin/vina'"
   ]
  },
  {
   "cell_type": "code",
   "execution_count": null,
   "metadata": {},
   "outputs": [],
   "source": [
    "T = 298\n",
    "R = 0.001987# kcal/mol\n",
    "def dg_to_pk(dg):\n",
    "    pk = -np.log10(np.exp(dg/(R*T)))\n",
    "    return pk\n",
    "\n",
    "def dg_to_pk1(dg):\n",
    "    pk = -dg / (2.3003 * R * T)\n",
    "    return pk"
   ]
  },
  {
   "cell_type": "code",
   "execution_count": null,
   "metadata": {},
   "outputs": [],
   "source": [
    "with open('../data/pdbbind_training_set.txt') as f:\n",
    "    train_pdbs = [l.strip() for l in f]\n",
    "    \n",
    "with open('../data/pdbbind_test_set.txt') as f:\n",
    "    test_pdbs = [l.strip() for l in f]\n",
    "    \n",
    "pdbs = train_pdbs + test_pdbs"
   ]
  },
  {
   "cell_type": "code",
   "execution_count": null,
   "metadata": {},
   "outputs": [],
   "source": [
    "@delayed\n",
    "def build(pdb):\n",
    "    vina = oddt_vina_descriptor()\n",
    "    protein = next(ob.readfile('pdb', f'{PDBBIND_DIR}/{pdb}/{pdb}_protein.pdb'))\n",
    "    protein.protein = True\n",
    "    # crystal\n",
    "    ligand = next(ob.readfile('sdf', f'{PDBBIND_DIR}/{pdb}/{pdb}_ligand.sdf'))\n",
    "    affinity_c = vina.build(ligand, protein)[0][0]\n",
    "    # docked        \n",
    "    poses = [mol for mol in ob.readfile('sdf', f'../pdbbind_docked_poses/{pdb}/{pdb}_ligand_docked.sdf')]\n",
    "    affinities_d = []\n",
    "    for pose in poses:\n",
    "        affinities_d.append(vina.build(pose, protein)[0][0])\n",
    "    # minimized\n",
    "    ligand = next(ob.readfile('sdf', f'../pdbbind_docked_poses/{pdb}/{pdb}_ligand_minimized.sdf'))\n",
    "    affinity_m = vina.build(ligand, protein)[0][0]\n",
    "    return (affinity_c, affinities_d, affinity_m)"
   ]
  },
  {
   "cell_type": "code",
   "execution_count": null,
   "metadata": {},
   "outputs": [],
   "source": [
    "with Parallel(n_jobs=8, verbose=10) as parallel:\n",
    "    results = parallel(build(pdb) for pdb in pdbs)\n",
    "vina_crystal = {pdb: result[0] for pdb, result in zip(pdbs, results)}\n",
    "vina_docked = {pdb: result[1] for pdb, result in zip(pdbs, results)}\n",
    "vina_minimized = {pdb: result[2] for pdb, result in zip(pdbs, results)}"
   ]
  },
  {
   "cell_type": "code",
   "execution_count": null,
   "metadata": {},
   "outputs": [],
   "source": [
    "vina_crystal_pk = pd.Series({pdb: dg_to_pk(vina_crystal[pdb]) for pdb in vina_crystal})\n",
    "vina_docked_pk = pd.Series({pdb: dg_to_pk(vina_docked[pdb][0]) for pdb in vina_crystal})\n",
    "vina_docked_max_pk = pd.Series({pdb: np.max([dg_to_pk(dg) for dg in vina_docked[pdb]]) for pdb in vina_crystal})\n",
    "vina_docked_mean_pk = pd.Series({pdb: np.mean([dg_to_pk(dg) for dg in vina_docked[pdb]]) for pdb in vina_crystal})\n",
    "vina_minimized_pk = pd.Series({pdb: dg_to_pk(vina_minimized[pdb]) for pdb in vina_crystal})\n",
    "\n",
    "vina_crystal_pk.to_csv('../results/vina_crystal_predicted_pk.csv')\n",
    "vina_docked_pk.to_csv('../results/vina_docked_predicted_pk.csv')\n",
    "vina_docked_max_pk.to_csv('../results/vina_docked_max_predicted_pk.csv')\n",
    "vina_docked_mean_pk.to_csv('../results/vina_docked_mean_predicted_pk.csv')\n",
    "vina_minimized_pk.to_csv('../results/vina_minimized_predicted_pk.csv')"
   ]
  },
  {
   "cell_type": "code",
   "execution_count": null,
   "metadata": {},
   "outputs": [],
   "source": [
    "plt.hist(vina_docked_pk)"
   ]
  },
  {
   "cell_type": "code",
   "execution_count": null,
   "metadata": {},
   "outputs": [],
   "source": [
    "plt.hist(vina_docked_max_pk)"
   ]
  },
  {
   "cell_type": "code",
   "execution_count": null,
   "metadata": {},
   "outputs": [],
   "source": [
    "plt.hist(vina_docked_pk)"
   ]
  },
  {
   "cell_type": "code",
   "execution_count": null,
   "metadata": {},
   "outputs": [],
   "source": [
    "pdbbind_test_set_affinity = pd.read_csv('../data/pdbbind_test_set_binding_affinity.csv', index_col=0, header=None, squeeze=True)"
   ]
  },
  {
   "cell_type": "code",
   "execution_count": null,
   "metadata": {},
   "outputs": [],
   "source": [
    "dude_vina_scores = {}\n",
    "targets = ['AKT1', 'CP3A4', 'GCR', 'HIVPR', 'HIVRT', 'KIF11']\n",
    "for target in targets:\n",
    "    vina_scores = {}\n",
    "    with open(f'../data/{target}_KI_docked_features.json') as f:\n",
    "        feats = json.load(f)\n",
    "    for key, vals in feats.items():\n",
    "        # take top pose\n",
    "        if key.endswith('_1'):\n",
    "            label = key.split('_')[0]\n",
    "            vina_affinity = vals['vina_affinity']\n",
    "            vina_scores[label] = dg_to_pk(vina_affinity)\n",
    "    dude_vina_scores[target] = vina_scores"
   ]
  },
  {
   "cell_type": "code",
   "execution_count": null,
   "metadata": {},
   "outputs": [],
   "source": [
    "import numpy as np\n",
    "class NumpyEncoder(json.JSONEncoder):\n",
    "    def default(self, obj):\n",
    "        if isinstance(obj, np.ndarray):\n",
    "            return obj.tolist()\n",
    "        return json.JSONEncoder.default(self, obj)\n",
    "    \n",
    "import json\n",
    "\n",
    "with open('../results/dude_vina_scores.json', 'w') as f:\n",
    "    json.dump(dude_vina_scores, f, cls=NumpyEncoder)"
   ]
  },
  {
   "cell_type": "code",
   "execution_count": null,
   "metadata": {},
   "outputs": [],
   "source": []
  }
 ],
 "metadata": {
  "kernelspec": {
   "display_name": "Python 3",
   "language": "python",
   "name": "python3"
  },
  "language_info": {
   "codemirror_mode": {
    "name": "ipython",
    "version": 3
   },
   "file_extension": ".py",
   "mimetype": "text/x-python",
   "name": "python",
   "nbconvert_exporter": "python",
   "pygments_lexer": "ipython3",
   "version": "3.8.3"
  }
 },
 "nbformat": 4,
 "nbformat_minor": 4
}
