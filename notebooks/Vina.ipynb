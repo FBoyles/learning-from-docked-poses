{
 "cells": [
  {
   "cell_type": "code",
   "execution_count": 1,
   "metadata": {},
   "outputs": [],
   "source": [
    "from oddt.scoring.descriptors import oddt_vina_descriptor\n",
    "from oddt.toolkits import rdk, ob\n",
    "\n",
    "import json\n",
    "import numpy as np\n",
    "from joblib import delayed, Parallel\n",
    "from functools import partial\n",
    "from sklearn.ensemble import RandomForestRegressor\n",
    "\n",
    "from scipy import stats\n",
    "\n",
    "from matplotlib import pyplot as plt\n",
    "import json\n",
    "import pandas as pd\n",
    "\n",
    "class NumpyEncoder(json.JSONEncoder):\n",
    "    def default(self, obj):\n",
    "        if isinstance(obj, np.ndarray):\n",
    "            return obj.tolist()\n",
    "        return json.JSONEncoder.default(self, obj)\n",
    "\n",
    "PDBBIND_DIR = '/home/fergus/pdbbind/v2019'"
   ]
  },
  {
   "cell_type": "code",
   "execution_count": 2,
   "metadata": {},
   "outputs": [],
   "source": [
    "T = 298\n",
    "R = 0.001987# kcal/mol\n",
    "def dg_to_pk(dg):\n",
    "    pk = -np.log10(np.exp(dg/(R*T)))\n",
    "    return pk\n",
    "\n",
    "def dg_to_pk1(dg):\n",
    "    pk = -dg / (2.3003 * R * T)\n",
    "    return pk"
   ]
  },
  {
   "cell_type": "code",
   "execution_count": 3,
   "metadata": {},
   "outputs": [],
   "source": [
    "with open('../data/pdbbind_training_set.txt') as f:\n",
    "    train_pdbs = [l.strip() for l in f]\n",
    "    \n",
    "with open('../data/pdbbind_test_set.txt') as f:\n",
    "    test_pdbs = [l.strip() for l in f]\n",
    "    \n",
    "pdbs = train_pdbs + test_pdbs"
   ]
  },
  {
   "cell_type": "code",
   "execution_count": 6,
   "metadata": {},
   "outputs": [],
   "source": [
    "@delayed\n",
    "def build(pdb):\n",
    "    vina = oddt_vina_descriptor()\n",
    "    protein = next(ob.readfile('pdb', f'{PDBBIND_DIR}/{pdb}/{pdb}_protein.pdb'))\n",
    "    protein.protein = True\n",
    "    # crystal\n",
    "    ligand = next(ob.readfile('sdf', f'{PDBBIND_DIR}/{pdb}/{pdb}_ligand.sdf'))\n",
    "    features_c = vina.build(ligand, protein)[0]\n",
    "    # docked        \n",
    "    ligand = next(ob.readfile('sdf', f'../pdbbind_docked_poses/{pdb}/{pdb}_ligand_docked.sdf'))\n",
    "    features_d = vina.build(ligand, protein)[0]\n",
    "    # minimized\n",
    "    ligand = next(ob.readfile('sdf', f'../pdbbind_docked_poses/{pdb}/{pdb}_ligand_minimized.sdf'))\n",
    "    features_m = vina.build(ligand, protein)[0]\n",
    "    return (features_c, features_d, features_m)"
   ]
  },
  {
   "cell_type": "code",
   "execution_count": 8,
   "metadata": {},
   "outputs": [
    {
     "name": "stderr",
     "output_type": "stream",
     "text": [
      "[Parallel(n_jobs=8)]: Using backend LokyBackend with 8 concurrent workers.\n",
      "[Parallel(n_jobs=8)]: Done   2 tasks      | elapsed:    2.1s\n",
      "[Parallel(n_jobs=8)]: Done   9 tasks      | elapsed:    3.5s\n",
      "[Parallel(n_jobs=8)]: Done  16 tasks      | elapsed:    6.4s\n",
      "[Parallel(n_jobs=8)]: Done  25 tasks      | elapsed:   17.3s\n",
      "[Parallel(n_jobs=8)]: Done  34 tasks      | elapsed:   24.3s\n",
      "[Parallel(n_jobs=8)]: Done  45 tasks      | elapsed:   32.6s\n",
      "[Parallel(n_jobs=8)]: Done  56 tasks      | elapsed:   36.9s\n",
      "[Parallel(n_jobs=8)]: Done  69 tasks      | elapsed:   40.4s\n",
      "[Parallel(n_jobs=8)]: Done  82 tasks      | elapsed:   44.4s\n",
      "[Parallel(n_jobs=8)]: Done  97 tasks      | elapsed:   50.7s\n",
      "[Parallel(n_jobs=8)]: Done 112 tasks      | elapsed:   58.2s\n",
      "[Parallel(n_jobs=8)]: Done 129 tasks      | elapsed:  1.1min\n",
      "[Parallel(n_jobs=8)]: Done 146 tasks      | elapsed:  1.2min\n",
      "[Parallel(n_jobs=8)]: Done 165 tasks      | elapsed:  1.4min\n",
      "[Parallel(n_jobs=8)]: Done 184 tasks      | elapsed:  1.7min\n",
      "[Parallel(n_jobs=8)]: Done 205 tasks      | elapsed:  1.9min\n",
      "[Parallel(n_jobs=8)]: Done 226 tasks      | elapsed:  2.1min\n",
      "[Parallel(n_jobs=8)]: Done 249 tasks      | elapsed:  2.2min\n",
      "[Parallel(n_jobs=8)]: Done 272 tasks      | elapsed:  2.3min\n",
      "[Parallel(n_jobs=8)]: Done 297 tasks      | elapsed:  2.4min\n",
      "[Parallel(n_jobs=8)]: Done 322 tasks      | elapsed:  2.7min\n",
      "[Parallel(n_jobs=8)]: Done 349 tasks      | elapsed:  2.8min\n",
      "[Parallel(n_jobs=8)]: Done 376 tasks      | elapsed:  3.3min\n",
      "[Parallel(n_jobs=8)]: Done 405 tasks      | elapsed:  4.0min\n",
      "[Parallel(n_jobs=8)]: Done 434 tasks      | elapsed:  4.4min\n",
      "[Parallel(n_jobs=8)]: Done 465 tasks      | elapsed:  4.9min\n",
      "[Parallel(n_jobs=8)]: Done 496 tasks      | elapsed:  5.2min\n",
      "[Parallel(n_jobs=8)]: Done 529 tasks      | elapsed:  5.6min\n",
      "[Parallel(n_jobs=8)]: Done 562 tasks      | elapsed:  5.8min\n",
      "[Parallel(n_jobs=8)]: Done 597 tasks      | elapsed:  6.2min\n",
      "[Parallel(n_jobs=8)]: Done 632 tasks      | elapsed:  6.5min\n",
      "[Parallel(n_jobs=8)]: Done 669 tasks      | elapsed:  7.0min\n",
      "[Parallel(n_jobs=8)]: Done 706 tasks      | elapsed:  7.2min\n",
      "[Parallel(n_jobs=8)]: Done 745 tasks      | elapsed:  7.5min\n",
      "[Parallel(n_jobs=8)]: Done 784 tasks      | elapsed:  8.1min\n",
      "[Parallel(n_jobs=8)]: Done 825 tasks      | elapsed:  8.9min\n",
      "[Parallel(n_jobs=8)]: Done 866 tasks      | elapsed:  9.7min\n",
      "[Parallel(n_jobs=8)]: Done 909 tasks      | elapsed: 10.3min\n",
      "[Parallel(n_jobs=8)]: Done 952 tasks      | elapsed: 10.9min\n",
      "[Parallel(n_jobs=8)]: Done 997 tasks      | elapsed: 11.3min\n",
      "[Parallel(n_jobs=8)]: Done 1042 tasks      | elapsed: 11.6min\n",
      "[Parallel(n_jobs=8)]: Done 1089 tasks      | elapsed: 11.9min\n",
      "[Parallel(n_jobs=8)]: Done 1136 tasks      | elapsed: 12.5min\n",
      "[Parallel(n_jobs=8)]: Done 1185 tasks      | elapsed: 13.0min\n",
      "[Parallel(n_jobs=8)]: Done 1234 tasks      | elapsed: 13.9min\n",
      "[Parallel(n_jobs=8)]: Done 1285 tasks      | elapsed: 14.4min\n",
      "[Parallel(n_jobs=8)]: Done 1336 tasks      | elapsed: 15.0min\n",
      "[Parallel(n_jobs=8)]: Done 1389 tasks      | elapsed: 17.0min\n",
      "[Parallel(n_jobs=8)]: Done 1442 tasks      | elapsed: 17.5min\n",
      "[Parallel(n_jobs=8)]: Done 1497 tasks      | elapsed: 18.2min\n",
      "[Parallel(n_jobs=8)]: Done 1552 tasks      | elapsed: 18.5min\n",
      "[Parallel(n_jobs=8)]: Done 1609 tasks      | elapsed: 19.2min\n",
      "[Parallel(n_jobs=8)]: Done 1666 tasks      | elapsed: 20.1min\n",
      "[Parallel(n_jobs=8)]: Done 1725 tasks      | elapsed: 20.8min\n",
      "[Parallel(n_jobs=8)]: Done 1784 tasks      | elapsed: 21.3min\n",
      "[Parallel(n_jobs=8)]: Done 1845 tasks      | elapsed: 22.7min\n",
      "[Parallel(n_jobs=8)]: Done 1906 tasks      | elapsed: 23.3min\n",
      "[Parallel(n_jobs=8)]: Done 1969 tasks      | elapsed: 24.0min\n",
      "[Parallel(n_jobs=8)]: Done 2032 tasks      | elapsed: 24.6min\n",
      "[Parallel(n_jobs=8)]: Done 2097 tasks      | elapsed: 25.0min\n",
      "[Parallel(n_jobs=8)]: Done 2162 tasks      | elapsed: 25.9min\n",
      "[Parallel(n_jobs=8)]: Done 2229 tasks      | elapsed: 27.4min\n",
      "[Parallel(n_jobs=8)]: Done 2296 tasks      | elapsed: 27.9min\n",
      "[Parallel(n_jobs=8)]: Done 2365 tasks      | elapsed: 28.6min\n",
      "[Parallel(n_jobs=8)]: Done 2434 tasks      | elapsed: 29.5min\n",
      "[Parallel(n_jobs=8)]: Done 2505 tasks      | elapsed: 30.4min\n",
      "[Parallel(n_jobs=8)]: Done 2576 tasks      | elapsed: 31.7min\n",
      "[Parallel(n_jobs=8)]: Done 2649 tasks      | elapsed: 32.4min\n",
      "[Parallel(n_jobs=8)]: Done 2722 tasks      | elapsed: 33.5min\n",
      "[Parallel(n_jobs=8)]: Done 2797 tasks      | elapsed: 34.0min\n",
      "[Parallel(n_jobs=8)]: Done 2872 tasks      | elapsed: 34.5min\n",
      "[Parallel(n_jobs=8)]: Done 2949 tasks      | elapsed: 34.9min\n",
      "[Parallel(n_jobs=8)]: Done 3026 tasks      | elapsed: 35.3min\n",
      "[Parallel(n_jobs=8)]: Done 3105 tasks      | elapsed: 35.7min\n",
      "[Parallel(n_jobs=8)]: Done 3184 tasks      | elapsed: 35.9min\n",
      "[Parallel(n_jobs=8)]: Done 3265 tasks      | elapsed: 36.3min\n",
      "[Parallel(n_jobs=8)]: Done 3346 tasks      | elapsed: 36.5min\n",
      "[Parallel(n_jobs=8)]: Done 3429 tasks      | elapsed: 36.9min\n",
      "[Parallel(n_jobs=8)]: Done 3512 tasks      | elapsed: 37.5min\n",
      "[Parallel(n_jobs=8)]: Done 3597 tasks      | elapsed: 37.9min\n",
      "[Parallel(n_jobs=8)]: Done 3682 tasks      | elapsed: 38.3min\n",
      "[Parallel(n_jobs=8)]: Done 3769 tasks      | elapsed: 39.0min\n",
      "[Parallel(n_jobs=8)]: Done 3856 tasks      | elapsed: 40.4min\n",
      "[Parallel(n_jobs=8)]: Done 3945 tasks      | elapsed: 41.7min\n",
      "[Parallel(n_jobs=8)]: Done 4034 tasks      | elapsed: 43.2min\n",
      "[Parallel(n_jobs=8)]: Done 4125 tasks      | elapsed: 44.4min\n",
      "[Parallel(n_jobs=8)]: Done 4216 tasks      | elapsed: 45.9min\n",
      "[Parallel(n_jobs=8)]: Done 4271 out of 4271 | elapsed: 46.9min finished\n"
     ]
    }
   ],
   "source": [
    "with Parallel(n_jobs=8, verbose=10) as parallel:\n",
    "    results = parallel(build(pdb) for pdb in pdbs)\n",
    "vina_crystal = {pdb: result[0][0] for pdb, result in zip(pdbs, results)}\n",
    "vina_docked = {pdb: result[1][0] for pdb, result in zip(pdbs, results)}\n",
    "vina_minimized = {pdb: result[2][0] for pdb, result in zip(pdbs, results)}"
   ]
  },
  {
   "cell_type": "code",
   "execution_count": 9,
   "metadata": {},
   "outputs": [],
   "source": [
    "vina_crystal_pk = pd.Series({pdb: dg_to_pk(vina_crystal[pdb]) for pdb in vina_crystal})\n",
    "vina_docked_pk = pd.Series({pdb: dg_to_pk(vina_docked[pdb]) for pdb in vina_crystal})\n",
    "vina_minimized_pk = pd.Series({pdb: dg_to_pk(vina_minimized[pdb]) for pdb in vina_crystal})\n",
    "\n",
    "vina_crystal_pk.to_csv('../results/vina_crystal_predicted_pk.csv')\n",
    "vina_docked_pk.to_csv('../results/vina_docked_predicted_pk.csv')\n",
    "vina_minimized_pk.to_csv('../results/vina_minimized_predicted_pk.csv')"
   ]
  },
  {
   "cell_type": "code",
   "execution_count": 93,
   "metadata": {},
   "outputs": [
    {
     "data": {
      "text/plain": [
       "(array([  8.,  45.,  85., 109., 121.,  79.,  50.,  14.,   5.,   3.]),\n",
       " array([ 1.57085614,  2.54352059,  3.51618504,  4.4888495 ,  5.46151395,\n",
       "         6.4341784 ,  7.40684286,  8.37950731,  9.35217176, 10.32483622,\n",
       "        11.29750067]),\n",
       " <BarContainer object of 10 artists>)"
      ]
     },
     "execution_count": 93,
     "metadata": {},
     "output_type": "execute_result"
    },
    {
     "data": {
      "image/png": "[encoded data removed]",
      "text/plain": [
       "<Figure size 432x288 with 1 Axes>"
      ]
     },
     "metadata": {
      "needs_background": "light"
     },
     "output_type": "display_data"
    }
   ],
   "source": [
    "plt.hist(vina_docked_pk)"
   ]
  },
  {
   "cell_type": "code",
   "execution_count": 90,
   "metadata": {},
   "outputs": [
    {
     "data": {
      "text/plain": [
       "(array([  8.,  45.,  85., 109., 121.,  79.,  50.,  14.,   5.,   3.]),\n",
       " array([ 1.57241661,  2.5460473 ,  3.51967798,  4.49330867,  5.46693936,\n",
       "         6.44057005,  7.41420073,  8.38783142,  9.36146211, 10.3350928 ,\n",
       "        11.30872348]),\n",
       " <BarContainer object of 10 artists>)"
      ]
     },
     "execution_count": 90,
     "metadata": {},
     "output_type": "execute_result"
    },
    {
     "data": {
      "image/png": "[encoded data removed]",
      "text/plain": [
       "<Figure size 432x288 with 1 Axes>"
      ]
     },
     "metadata": {
      "needs_background": "light"
     },
     "output_type": "display_data"
    }
   ],
   "source": [
    "plt.hist(vina_docked_pk)"
   ]
  },
  {
   "cell_type": "code",
   "execution_count": 49,
   "metadata": {},
   "outputs": [],
   "source": [
    "pdbbind_test_set_affinity = pd.read_csv('../data/pdbbind_test_set_binding_affinity.csv', index_col=0, header=None, squeeze=True)"
   ]
  },
  {
   "cell_type": "code",
   "execution_count": 57,
   "metadata": {},
   "outputs": [],
   "source": [
    "y_true = pdbbind_test_set_affinity.loc[test_pdbs]\n",
    "y_pred = vina_docked_pk.loc[test_pdbs]"
   ]
  },
  {
   "cell_type": "code",
   "execution_count": 91,
   "metadata": {},
   "outputs": [
    {
     "name": "stdout",
     "output_type": "stream",
     "text": [
      "(0.5041569463444031, 8.255850783008433e-35)\n"
     ]
    },
    {
     "data": {
      "image/png": "[encoded data removed]",
      "text/plain": [
       "<Figure size 432x288 with 1 Axes>"
      ]
     },
     "metadata": {
      "needs_background": "light"
     },
     "output_type": "display_data"
    }
   ],
   "source": [
    "plt.scatter(y_true, y_pred)\n",
    "print(stats.pearsonr(y_true, y_pred))"
   ]
  },
  {
   "cell_type": "code",
   "execution_count": 54,
   "metadata": {},
   "outputs": [
    {
     "data": {
      "text/plain": [
       "13.0"
      ]
     },
     "execution_count": 54,
     "metadata": {},
     "output_type": "execute_result"
    }
   ],
   "source": [
    "max(y_true)"
   ]
  },
  {
   "cell_type": "code",
   "execution_count": 85,
   "metadata": {},
   "outputs": [
    {
     "data": {
      "text/plain": [
       "(0.5041569463444031, 0.44002256424416675, 0.5637252639070388)"
      ]
     },
     "execution_count": 85,
     "metadata": {},
     "output_type": "execute_result"
    }
   ],
   "source": [
    "bootstrap_pearsonr(y_true, y_pred)"
   ]
  },
  {
   "cell_type": "code",
   "execution_count": 86,
   "metadata": {},
   "outputs": [
    {
     "data": {
      "text/plain": [
       "(0.5041569463444031, 9.999000099990002e-05)"
      ]
     },
     "execution_count": 86,
     "metadata": {},
     "output_type": "execute_result"
    }
   ],
   "source": [
    "permutation_pearsonr(y_true, y_pred)"
   ]
  },
  {
   "cell_type": "code",
   "execution_count": null,
   "metadata": {},
   "outputs": [],
   "source": []
  }
 ],
 "metadata": {
  "kernelspec": {
   "display_name": "Python 3.8.3 64-bit ('base')",
   "language": "python",
   "name": "python38364bitbasee0e66f8e4cdf4b30a175922b5b25ea0e"
  },
  "language_info": {
   "codemirror_mode": {
    "name": "ipython",
    "version": 3
   },
   "file_extension": ".py",
   "mimetype": "text/x-python",
   "name": "python",
   "nbconvert_exporter": "python",
   "pygments_lexer": "ipython3",
   "version": "3.8.3"
  }
 },
 "nbformat": 4,
 "nbformat_minor": 4
}
