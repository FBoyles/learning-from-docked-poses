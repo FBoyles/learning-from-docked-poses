{
 "metadata": {
  "language_info": {
   "codemirror_mode": {
    "name": "ipython",
    "version": 3
   },
   "file_extension": ".py",
   "mimetype": "text/x-python",
   "name": "python",
   "nbconvert_exporter": "python",
   "pygments_lexer": "ipython3",
   "version": "3.8.3-final"
  },
  "orig_nbformat": 2,
  "kernelspec": {
   "name": "python38364bitbasee0e66f8e4cdf4b30a175922b5b25ea0e",
   "display_name": "Python 3.8.3 64-bit ('base')",
   "language": "python"
  }
 },
 "nbformat": 4,
 "nbformat_minor": 2,
 "cells": [
  {
   "cell_type": "code",
   "execution_count": 1,
   "metadata": {},
   "outputs": [],
   "source": [
    "import json\n",
    "\n",
    "import numpy as np\n",
    "import pandas as pd\n",
    "from scipy import stats\n",
    "from sklearn.metrics import mean_squared_error\n",
    "from sklearn.ensemble import RandomForestRegressor"
   ]
  },
  {
   "source": [
    "### Load data"
   ],
   "cell_type": "markdown",
   "metadata": {}
  },
  {
   "cell_type": "code",
   "execution_count": 2,
   "metadata": {},
   "outputs": [],
   "source": [
    "pdbbind_training_set_pk = pd.read_csv('../data/pdbbind_training_set_binding_affinity.csv', index_col=0, header=None, squeeze=True)\n",
    "\n",
    "crystal_pose_features = pd.read_csv('../data/crystal_pose_features.csv', index_col=0)\n",
    "minimised_pose_features = pd.read_csv('../data/minimised_pose_features.csv', index_col=0)\n",
    "docked_pose_features = pd.read_csv('../data/docked_pose_features.csv', index_col=0)\n",
    "\n",
    "feature_sets = {}\n",
    "with open('../data/lb_feature_names.txt') as f:\n",
    "    feature_sets['LB'] = pd.Index([l.strip() for l in f])\n",
    "with open('../data/sb_feature_names.txt') as f:\n",
    "    feature_sets['SB'] = pd.Index([l.strip() for l in f])\n",
    "with open('../data/hb_feature_names.txt') as f:\n",
    "    feature_sets['HB'] = pd.Index([l.strip() for l in f])\n",
    "\n",
    "# We've enumerated the docked poses associated to each PDB structure - these labels are used for cross-validation later\n",
    "with open('../data/docked_pose_labels.json') as f:\n",
    "    docked_pose_labels = json.load(f)\n"
   ]
  },
  {
   "source": [
    "### Prepare cross-validation folds\n",
    "\n",
    "Randomly shuffle and split into five folds - we'll use the same folds across all experiments."
   ],
   "cell_type": "markdown",
   "metadata": {}
  },
  {
   "cell_type": "code",
   "execution_count": 3,
   "metadata": {},
   "outputs": [],
   "source": [
    "shuffled = pdbbind_training_set_pk.sample(frac=1, replace=False, random_state=42).index\n",
    "n_test = int(len(shuffled) / 5)\n",
    "folds = [shuffled[:n_test], shuffled[n_test:2*n_test], shuffled[2*n_test:3*n_test], shuffled[3*n_test:4*n_test], shuffled[4*n_test:]]\n",
    "\n",
    "pdbbind_training_set = pdbbind_training_set_pk.index"
   ]
  },
  {
   "source": [
    "### Cross-validation using crystal poses\n",
    "\n",
    "For reference, we first perform the cross-validation experiment using crystal poses for training and testing."
   ],
   "cell_type": "markdown",
   "metadata": {}
  },
  {
   "cell_type": "code",
   "execution_count": 4,
   "metadata": {},
   "outputs": [],
   "source": [
    "cv_crystal_results = {}\n",
    "\n",
    "for model in feature_sets:\n",
    "    fold_pearsonr = []\n",
    "    fold_mse = []\n",
    "    for fold in folds:\n",
    "        index_train = pdbbind_training_set.difference(fold)\n",
    "        X_train = crystal_pose_features.loc[index_train, feature_sets[model]].values\n",
    "        X_test = crystal_pose_features.loc[fold, feature_sets[model]].values\n",
    "        y_train = pdbbind_training_set_pk.loc[index_train].values.ravel()\n",
    "        y_test = pdbbind_training_set_pk.loc[fold].values.ravel()\n",
    "        rf = RandomForestRegressor(n_estimators=500, max_features=0.33, n_jobs=6, random_state=42)\n",
    "        rf.fit(X_train, y_train)\n",
    "        pred = rf.predict(X_test)\n",
    "        fold_pearsonr.append(stats.pearsonr(y_test, pred)[0])\n",
    "        fold_mse.append(mean_squared_error(y_test, pred))\n",
    "    cv_crystal_results[model] = {'pearsonr': np.mean(fold_pearsonr), 'rmse': np.sqrt(np.mean(fold_mse))}\n",
    "\n",
    "with open('../results/cv_crystal_results.json', 'w') as f:\n",
    "    json.dump(cv_crystal_results, f)"
   ]
  },
  {
   "source": [
    "### Experiment 1 - scoring strategy\n",
    "\n",
    "First we run the cross-validation experiment using different strategies for scoring a ligand when multiple docked poses are available. Three strategies were tested: scoring the pose ranked highest by Smina (\"top dock\"); scoring all poses and taxing the highest score (\"all docks max\"); and scoring all poses and taking the mean score (\"all docks mean\"). Models are trained using a single pose for each ligand, minimised using Smina to achieve a single near-native docked pose. We also train and test using crystal poses for reference."
   ],
   "cell_type": "markdown",
   "metadata": {}
  },
  {
   "cell_type": "code",
   "execution_count": 5,
   "metadata": {},
   "outputs": [],
   "source": [
    "cv_train_minimized_test_top_dock_results = {}\n",
    "cv_train_minimized_test_all_docks_max_results = {}\n",
    "cv_train_minimized_test_all_docks_mean_results = {}\n",
    "\n",
    "for model in feature_sets:\n",
    "    fold_pearsonr_max = []\n",
    "    fold_pearsonr_mean = []\n",
    "    fold_pearsonr_top = []\n",
    "    fold_mse_max = []\n",
    "    fold_mse_mean = []\n",
    "    fold_mse_top = []\n",
    "    for fold in folds:\n",
    "        index_train = pdbbind_training_set.difference(fold)\n",
    "        X_train = minimised_pose_features.loc[index_train, feature_sets[model]].values\n",
    "        y_train = pdbbind_training_set_pk.loc[index_train].values.ravel()\n",
    "        rf = RandomForestRegressor(n_estimators=500, max_features=0.33, n_jobs=6, random_state=42)\n",
    "        rf.fit(X_train, y_train)\n",
    "\n",
    "        # List docked poses for this fold\n",
    "        fold_dock_labels = []\n",
    "        for pdb in fold:\n",
    "            fold_dock_labels.extend(docked_pose_labels[pdb])\n",
    "        fold_dock_labels = pd.Index(fold_dock_labels)\n",
    "\n",
    "        X_test = docked_pose_features.loc[fold_dock_labels, feature_sets[model]].values\n",
    "        y_test = pdbbind_training_set_pk.loc[fold].values.ravel()\n",
    "\n",
    "        pred = pd.Series(data=rf.predict(X_test), index=fold_dock_labels)\n",
    "\n",
    "        # Score all poses, taking max/mean score for each ligand\n",
    "        max_pred = []\n",
    "        mean_pred = []\n",
    "\n",
    "        for pdb in fold:\n",
    "            max_pred.append(np.max(pred.loc[docked_pose_labels[pdb]]))\n",
    "            mean_pred.append(np.mean(pred.loc[docked_pose_labels[pdb]]))\n",
    "        fold_pearsonr_max.append(stats.pearsonr(y_test, max_pred)[0])\n",
    "        fold_pearsonr_mean.append(stats.pearsonr(y_test, mean_pred)[0])\n",
    "        fold_mse_max.append(mean_squared_error(y_test, max_pred))\n",
    "        fold_mse_mean.append(mean_squared_error(y_test, mean_pred))\n",
    "\n",
    "        # Take the score of the pose ranked highest by Smina\n",
    "        top_pred = []\n",
    "        for pdb in fold:\n",
    "            top_pred.append(pred.loc[docked_pose_labels[pdb][0]])\n",
    "        fold_pearsonr_top.append(stats.pearsonr(y_test, top_pred)[0])\n",
    "        fold_mse_top.append(mean_squared_error(y_test, top_pred))\n",
    "    \n",
    "    cv_train_minimized_test_all_docks_max_results[model] = {'pearsonr': np.mean(fold_pearsonr_max), \n",
    "                                                            'pearsonr_stdev': np.std(fold_pearsonr_max), \n",
    "                                                            'rmse': np.sqrt(np.mean(fold_mse_max))}\n",
    "    \n",
    "    cv_train_minimized_test_all_docks_mean_results[model] = {'pearsonr': np.mean(fold_pearsonr_mean), \n",
    "                                                             'pearsonr_stdev': np.std(fold_pearsonr_mean),\n",
    "                                                             'rmse': np.sqrt(np.mean(fold_mse_mean))}\n",
    "    cv_train_minimized_test_top_dock_results[model] = {'pearsonr': np.mean(fold_pearsonr_top), \n",
    "                                                       'pearsonr_stdev': np.std(fold_pearsonr_top),\n",
    "                                                       'rmse': np.sqrt(np.mean(fold_mse_top))}"
   ]
  },
  {
   "cell_type": "code",
   "execution_count": 6,
   "metadata": {},
   "outputs": [
    {
     "output_type": "execute_result",
     "data": {
      "text/plain": [
       "                    LB model  SB model  HB model\n",
       "Smina top pose      0.718999  0.659097  0.713919\n",
       "Maximum pose score  0.718999  0.682261  0.732412\n",
       "Mean pose score     0.718999  0.604533  0.676920\n",
       "Train-test crystal  0.718999  0.746909  0.767521"
      ],
      "text/html": "<div>\n<style scoped>\n    .dataframe tbody tr th:only-of-type {\n        vertical-align: middle;\n    }\n\n    .dataframe tbody tr th {\n        vertical-align: top;\n    }\n\n    .dataframe thead th {\n        text-align: right;\n    }\n</style>\n<table border=\"1\" class=\"dataframe\">\n  <thead>\n    <tr style=\"text-align: right;\">\n      <th></th>\n      <th>LB model</th>\n      <th>SB model</th>\n      <th>HB model</th>\n    </tr>\n  </thead>\n  <tbody>\n    <tr>\n      <th>Smina top pose</th>\n      <td>0.718999</td>\n      <td>0.659097</td>\n      <td>0.713919</td>\n    </tr>\n    <tr>\n      <th>Maximum pose score</th>\n      <td>0.718999</td>\n      <td>0.682261</td>\n      <td>0.732412</td>\n    </tr>\n    <tr>\n      <th>Mean pose score</th>\n      <td>0.718999</td>\n      <td>0.604533</td>\n      <td>0.676920</td>\n    </tr>\n    <tr>\n      <th>Train-test crystal</th>\n      <td>0.718999</td>\n      <td>0.746909</td>\n      <td>0.767521</td>\n    </tr>\n  </tbody>\n</table>\n</div>"
     },
     "metadata": {},
     "execution_count": 6
    }
   ],
   "source": [
    "test_strategy_pearsonr = {\n",
    "    'Smina top pose': {model: cv_train_minimized_test_top_dock_results[model]['pearsonr'] for model in feature_sets},\n",
    "    'Maximum pose score': {model: cv_train_minimized_test_all_docks_max_results[model]['pearsonr'] for model in feature_sets},\n",
    "    'Mean pose score': {model: cv_train_minimized_test_all_docks_mean_results[model]['pearsonr'] for model in feature_sets},\n",
    "    'Train-test crystal': {m: cv_crystal_results[m]['pearsonr'] for m in feature_sets}\n",
    "}\n",
    "test_strategy_pearsonr = pd.DataFrame(test_strategy_pearsonr).loc[['LB','SB','HB']]\n",
    "test_strategy_pearsonr.index = ['LB model', 'SB model','HB model']\n",
    "test_strategy_pearsonr.T.to_csv('../results/train_minimised_pose_cv_pearsonr.csv')\n",
    "test_strategy_pearsonr.T"
   ]
  },
  {
   "source": [
    "### Experiment 2 - Training on docked poses\n",
    "\n",
    "Next, we repeat the cross-validation experiment, this itme training on the docked pose ranked highest by Smina for each ligand. "
   ],
   "cell_type": "markdown",
   "metadata": {}
  },
  {
   "cell_type": "code",
   "execution_count": 7,
   "metadata": {},
   "outputs": [],
   "source": [
    "cv_train_top_dock_test_top_dock_results = {}\n",
    "cv_train_top_dock_test_all_docks_max_results = {}\n",
    "cv_train_top_dock_test_all_docks_mean_results = {}\n",
    "\n",
    "for model in feature_sets:\n",
    "    fold_pearsonr_max = []\n",
    "    fold_pearsonr_mean = []\n",
    "    fold_pearsonr_top = []\n",
    "    fold_mse_max = []\n",
    "    fold_mse_mean = []\n",
    "    fold_mse_top = []\n",
    "    for fold in folds:\n",
    "        index_train = pdbbind_training_set.difference(fold)\n",
    "        training_pose_labels = []\n",
    "\n",
    "        # Get the labels for the highest-ranked pose for each training complex\n",
    "        for pdb in index_train:\n",
    "            training_pose_labels.append(docked_pose_labels[pdb][0])\n",
    "        training_pose_labels = pd.Index(training_pose_labels)\n",
    "\n",
    "        X_train = docked_pose_features.loc[training_pose_labels, feature_sets[model]].values\n",
    "        y_train = pdbbind_training_set_pk.loc[index_train].values.ravel()\n",
    "\n",
    "        rf = RandomForestRegressor(n_estimators=500, max_features=0.33, n_jobs=6, random_state=42)\n",
    "        rf.fit(X_train, y_train)\n",
    "\n",
    "        # List docked poses for this fold\n",
    "        fold_dock_labels = []\n",
    "        for pdb in fold:\n",
    "            fold_dock_labels.extend(docked_pose_labels[pdb])\n",
    "        fold_dock_labels = pd.Index(fold_dock_labels)\n",
    "\n",
    "        X_test = docked_pose_features.loc[fold_dock_labels, feature_sets[model]].values\n",
    "        y_test = pdbbind_training_set_pk.loc[fold].values.ravel()\n",
    "\n",
    "        pred = pd.Series(data=rf.predict(X_test), index=fold_dock_labels)\n",
    "\n",
    "        # Score all poses, taking max/mean score for each ligand\n",
    "        max_pred = []\n",
    "        mean_pred = []\n",
    "\n",
    "        for pdb in fold:\n",
    "            max_pred.append(np.max(pred.loc[docked_pose_labels[pdb]]))\n",
    "            mean_pred.append(np.mean(pred.loc[docked_pose_labels[pdb]]))\n",
    "        fold_pearsonr_max.append(stats.pearsonr(y_test, max_pred)[0])\n",
    "        fold_pearsonr_mean.append(stats.pearsonr(y_test, mean_pred)[0])\n",
    "        fold_mse_max.append(mean_squared_error(y_test, max_pred))\n",
    "        fold_mse_mean.append(mean_squared_error(y_test, mean_pred))\n",
    "\n",
    "        # Take the score of the pose ranked highest by Smina\n",
    "        top_pred = []\n",
    "        for pdb in fold:\n",
    "            top_pred.append(pred.loc[docked_pose_labels[pdb][0]])\n",
    "        fold_pearsonr_top.append(stats.pearsonr(y_test, top_pred)[0])\n",
    "        fold_mse_top.append(mean_squared_error(y_test, top_pred))\n",
    "\n",
    "    cv_train_top_dock_test_all_docks_max_results[model] = {'pearsonr': np.mean(fold_pearsonr_max), \n",
    "                                                            'pearsonr_stdev': np.std(fold_pearsonr_max), \n",
    "                                                            'rmse': np.sqrt(np.mean(fold_mse_max))}\n",
    "    \n",
    "    cv_train_top_dock_test_all_docks_mean_results[model] = {'pearsonr': np.mean(fold_pearsonr_mean), \n",
    "                                                            'pearsonr_stdev': np.std(fold_pearsonr_mean), \n",
    "                                                            'rmse': np.sqrt(np.mean(fold_mse_mean))}\n",
    "    cv_train_top_dock_test_top_dock_results[model] = {'pearsonr': np.mean(fold_pearsonr_top), \n",
    "                                                      'pearsonr_stdev': np.std(fold_pearsonr_top), \n",
    "                                                      'rmse': np.sqrt(np.mean(fold_mse_top))}"
   ]
  },
  {
   "cell_type": "code",
   "execution_count": 8,
   "metadata": {},
   "outputs": [
    {
     "output_type": "execute_result",
     "data": {
      "text/plain": [
       "                    LB model  SB model  HB model\n",
       "Smina top pose      0.718999  0.676220  0.738276\n",
       "Maximum pose score  0.718999  0.687132  0.744309\n",
       "Mean pose score     0.718999  0.643699  0.725241\n",
       "Train-test crystal  0.718999  0.746909  0.767521"
      ],
      "text/html": "<div>\n<style scoped>\n    .dataframe tbody tr th:only-of-type {\n        vertical-align: middle;\n    }\n\n    .dataframe tbody tr th {\n        vertical-align: top;\n    }\n\n    .dataframe thead th {\n        text-align: right;\n    }\n</style>\n<table border=\"1\" class=\"dataframe\">\n  <thead>\n    <tr style=\"text-align: right;\">\n      <th></th>\n      <th>LB model</th>\n      <th>SB model</th>\n      <th>HB model</th>\n    </tr>\n  </thead>\n  <tbody>\n    <tr>\n      <th>Smina top pose</th>\n      <td>0.718999</td>\n      <td>0.676220</td>\n      <td>0.738276</td>\n    </tr>\n    <tr>\n      <th>Maximum pose score</th>\n      <td>0.718999</td>\n      <td>0.687132</td>\n      <td>0.744309</td>\n    </tr>\n    <tr>\n      <th>Mean pose score</th>\n      <td>0.718999</td>\n      <td>0.643699</td>\n      <td>0.725241</td>\n    </tr>\n    <tr>\n      <th>Train-test crystal</th>\n      <td>0.718999</td>\n      <td>0.746909</td>\n      <td>0.767521</td>\n    </tr>\n  </tbody>\n</table>\n</div>"
     },
     "metadata": {},
     "execution_count": 8
    }
   ],
   "source": [
    "test_strategy_pearsonr = {\n",
    "    'Smina top pose': {model: cv_train_top_dock_test_top_dock_results[model]['pearsonr'] for model in feature_sets},\n",
    "    'Maximum pose score': {model: cv_train_top_dock_test_all_docks_max_results[model]['pearsonr'] for model in feature_sets},\n",
    "    'Mean pose score': {model: cv_train_top_dock_test_all_docks_mean_results[model]['pearsonr'] for model in feature_sets},\n",
    "    'Train-test crystal': {m: cv_crystal_results[m]['pearsonr'] for m in feature_sets}\n",
    "}\n",
    "test_strategy_pearsonr = pd.DataFrame(test_strategy_pearsonr).loc[['LB','SB','HB']]\n",
    "test_strategy_pearsonr.index = ['LB model', 'SB model','HB model']\n",
    "test_strategy_pearsonr.T.to_csv('../results/train_top_docked_pose_cv_pearsonr.csv')\n",
    "test_strategy_pearsonr.T"
   ]
  },
  {
   "source": [
    "### Experiment 3 - Training using multiple poses\n",
    "\n",
    "Next we again repeat the cross-validation experiment, this time training on all of the docked poses for each ligand. To control for the effect of increasing the size of training set, we also repeat the experiment by training on a number of redundant copies of the top pose for each ligand equal to the number of docked poses."
   ],
   "cell_type": "markdown",
   "metadata": {}
  },
  {
   "cell_type": "code",
   "execution_count": 12,
   "metadata": {},
   "outputs": [],
   "source": [
    "# run cv on docks, training on all docks\n",
    "cv_train_all_docks_test_all_docks_results = {}\n",
    "\n",
    "for model in feature_sets:\n",
    "    fold_pearsonr = []\n",
    "    fold_mse = []\n",
    "    for fold in folds:\n",
    "        index_train = pdbbind_training_set.difference(fold)\n",
    "        \n",
    "        training_pose_labels = []\n",
    "        for pdb in index_train:\n",
    "            training_pose_labels.extend(docked_pose_labels[pdb])\n",
    "        training_pose_labels = pd.Index(training_pose_labels)\n",
    "\n",
    "        X_train = docked_pose_features.loc[training_pose_labels, feature_sets[model]].values\n",
    "        # Training affinities are the same for each pose of a ligand\n",
    "        training_pose_pdbs = pd.Index(i[:4] for i in training_pose_labels)\n",
    "        y_train = pdbbind_training_set_pk.loc[training_pose_pdbs].values.ravel()\n",
    "\n",
    "        rf = RandomForestRegressor(n_estimators=500, max_features=0.33, n_jobs=6, random_state=42)\n",
    "        rf.fit(X_train, y_train)\n",
    "\n",
    "        # test on all docks\n",
    "        fold_pose_labels = []\n",
    "        for pdb in fold:\n",
    "            fold_pose_labels.extend(docked_pose_labels[pdb])\n",
    "        fold_pose_labels = pd.Index(fold_pose_labels)\n",
    "        X_test = docked_pose_features.loc[fold_pose_labels, feature_sets[model]].values\n",
    "        y_test = pdbbind_training_set_pk.loc[fold].values.ravel()\n",
    "\n",
    "        pred = pd.Series(data=rf.predict(X_test), index=fold_pose_labels)\n",
    "        max_pred = []\n",
    "        for pdb in fold:\n",
    "            max_pred.append(np.max(pred.loc[docked_pose_labels[pdb]]))\n",
    "        fold_pearsonr.append(stats.pearsonr(y_test, max_pred)[0])\n",
    "        fold_mse.append(mean_squared_error(y_test, max_pred))\n",
    "\n",
    "    cv_train_all_docks_test_all_docks_results[model] = {'pearsonr': np.mean(fold_pearsonr), 'rmse': np.sqrt(np.mean(fold_mse))}"
   ]
  },
  {
   "cell_type": "code",
   "execution_count": 13,
   "metadata": {},
   "outputs": [],
   "source": [
    "cv_train_redundant_docks_test_all_docks_results = {}\n",
    "\n",
    "for model in feature_sets:\n",
    "    fold_pearsonr = []\n",
    "    fold_mse = []\n",
    "    for fold in folds:\n",
    "\n",
    "        index_train = pdbbind_training_set.difference(fold)\n",
    "        \n",
    "        training_pose_labels = []\n",
    "        for pdb in index_train:\n",
    "            training_pose_labels.extend(docked_pose_labels[pdb])\n",
    "        training_pose_labels = pd.Index(training_pose_labels)\n",
    "\n",
    "        # This time we want N copies of the pose ranked highest by Smina\n",
    "        training_pose_labels = training_pose_labels.map(lambda x: x[:4]+'_0')\n",
    "        X_train = docked_pose_features.loc[training_pose_labels, feature_sets[model]].values\n",
    "\n",
    "        # Training affinities are the same for each pose of a ligand\n",
    "        training_pose_pdbs = pd.Index(i[:4] for i in training_pose_labels)\n",
    "        y_train = pdbbind_training_set_pk.loc[training_pose_pdbs].values.ravel()\n",
    "\n",
    "        rf = RandomForestRegressor(n_estimators=500, max_features=0.33, n_jobs=6, random_state=42)\n",
    "        rf.fit(X_train, y_train)\n",
    "\n",
    "        # test on all docks\n",
    "        fold_pose_labels = []\n",
    "        for pdb in fold:\n",
    "            fold_pose_labels.extend(docked_pose_labels[pdb])\n",
    "        fold_pose_labels = pd.Index(fold_pose_labels)\n",
    "        X_test = docked_pose_features.loc[fold_pose_labels, feature_sets[model]].values\n",
    "        y_test = pdbbind_training_set_pk.loc[fold].values.ravel()\n",
    "\n",
    "        pred = pd.Series(data=rf.predict(X_test), index=fold_pose_labels)\n",
    "        max_pred = []\n",
    "        for pdb in fold:\n",
    "            max_pred.append(np.max(pred.loc[docked_pose_labels[pdb]]))\n",
    "        fold_pearsonr.append(stats.pearsonr(y_test, max_pred)[0])\n",
    "        fold_mse.append(mean_squared_error(y_test, max_pred))\n",
    "    \n",
    "    cv_train_redundant_docks_test_all_docks_results[model] = {'pearsonr': np.mean(fold_pearsonr), 'rmse': np.sqrt(np.mean(fold_mse))}"
   ]
  },
  {
   "cell_type": "code",
   "execution_count": 14,
   "metadata": {},
   "outputs": [
    {
     "output_type": "execute_result",
     "data": {
      "text/plain": [
       "                 LB model  SB model  HB model\n",
       "Smina top pose   0.718999  0.687132  0.744309\n",
       "All poses        0.712263  0.699169  0.723782\n",
       "Redundant poses  0.712263  0.687649  0.744613"
      ],
      "text/html": "<div>\n<style scoped>\n    .dataframe tbody tr th:only-of-type {\n        vertical-align: middle;\n    }\n\n    .dataframe tbody tr th {\n        vertical-align: top;\n    }\n\n    .dataframe thead th {\n        text-align: right;\n    }\n</style>\n<table border=\"1\" class=\"dataframe\">\n  <thead>\n    <tr style=\"text-align: right;\">\n      <th></th>\n      <th>LB model</th>\n      <th>SB model</th>\n      <th>HB model</th>\n    </tr>\n  </thead>\n  <tbody>\n    <tr>\n      <th>Smina top pose</th>\n      <td>0.718999</td>\n      <td>0.687132</td>\n      <td>0.744309</td>\n    </tr>\n    <tr>\n      <th>All poses</th>\n      <td>0.712263</td>\n      <td>0.699169</td>\n      <td>0.723782</td>\n    </tr>\n    <tr>\n      <th>Redundant poses</th>\n      <td>0.712263</td>\n      <td>0.687649</td>\n      <td>0.744613</td>\n    </tr>\n  </tbody>\n</table>\n</div>"
     },
     "metadata": {},
     "execution_count": 14
    }
   ],
   "source": [
    "multipose_pearsonr = {}\n",
    "\n",
    "for m in feature_sets:\n",
    "    multipose_pearsonr[m] = {'Smina top pose': cv_train_top_dock_test_all_docks_max_results[m]['pearsonr'],\n",
    "                                'All poses': cv_train_all_docks_test_all_docks_results[m]['pearsonr'],\n",
    "                                'Redundant poses': cv_train_redundant_docks_test_all_docks_results[m]['pearsonr']}\n",
    "\n",
    "multipose_pearsonr = pd.DataFrame(multipose_pearsonr)[['LB', 'SB', 'HB']]\n",
    "multipose_pearsonr.columns = ['LB model', 'SB model','HB model']\n",
    "multipose_pearsonr.to_csv('../results/train_multiple_poses_cv_pearsonr.csv')\n",
    "multipose_pearsonr\n",
    "\n"
   ]
  },
  {
   "cell_type": "code",
   "execution_count": null,
   "metadata": {},
   "outputs": [],
   "source": []
  },
  {
   "cell_type": "code",
   "execution_count": null,
   "metadata": {},
   "outputs": [],
   "source": []
  }
 ]
}